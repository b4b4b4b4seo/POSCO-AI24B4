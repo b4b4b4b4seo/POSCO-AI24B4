{
 "cells": [
  {
   "cell_type": "code",
   "execution_count": 3,
   "id": "af2e5669",
   "metadata": {},
   "outputs": [
    {
     "name": "stdout",
     "output_type": "stream",
     "text": [
      "300\n"
     ]
    }
   ],
   "source": [
    "def add(a,b):\n",
    "    result = a + b\n",
    "    return result\n",
    "\n",
    "add_result = add(100,200)\n",
    "print(add_result)"
   ]
  },
  {
   "cell_type": "code",
   "execution_count": null,
   "id": "ec8d4e84",
   "metadata": {},
   "outputs": [],
   "source": []
  }
 ],
 "metadata": {
  "kernelspec": {
   "display_name": "Python 3 (ipykernel)",
   "language": "python",
   "name": "python3"
  },
  "language_info": {
   "codemirror_mode": {
    "name": "ipython",
    "version": 3
   },
   "file_extension": ".py",
   "mimetype": "text/x-python",
   "name": "python",
   "nbconvert_exporter": "python",
   "pygments_lexer": "ipython3",
   "version": "3.10.9"
  }
 },
 "nbformat": 4,
 "nbformat_minor": 5
}

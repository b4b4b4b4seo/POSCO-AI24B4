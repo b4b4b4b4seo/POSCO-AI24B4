{
 "cells": [
  {
   "cell_type": "markdown",
   "id": "4f2ca3d1",
   "metadata": {},
   "source": [
    "# 함수"
   ]
  },
  {
   "cell_type": "code",
   "execution_count": 4,
   "id": "d90d7386",
   "metadata": {},
   "outputs": [
    {
     "name": "stdout",
     "output_type": "stream",
     "text": [
      "7\n",
      "12\n"
     ]
    }
   ],
   "source": [
    "#튜플이나 리스트를 이용해 여러개의 값을 반환할 수 있음\n",
    "# 함수의 정의\n",
    "def add_and_mul(a, b):\n",
    "    return (a+b, a*b)\n",
    "\n",
    "# 함수 호출\n",
    "add_res, mbul_res = add_and_mul(3, 4)\n",
    "print(add_res)\n",
    "print(mul_res)"
   ]
  },
  {
   "cell_type": "code",
   "execution_count": null,
   "id": "02264a61",
   "metadata": {},
   "outputs": [],
   "source": [
    "# len()구현"
   ]
  },
  {
   "cell_type": "code",
   "execution_count": 5,
   "id": "2f7b147b",
   "metadata": {},
   "outputs": [],
   "source": [
    "def my_len(x):\n",
    "    length = 0\n",
    "    for i in x:\n",
    "        length += 1\n",
    "        \n",
    "    return length"
   ]
  },
  {
   "cell_type": "code",
   "execution_count": 8,
   "id": "32a3d900",
   "metadata": {},
   "outputs": [
    {
     "name": "stdout",
     "output_type": "stream",
     "text": [
      "6 14\n",
      "6 14\n"
     ]
    }
   ],
   "source": [
    "a = [5,5,6,7,8,3]\n",
    "b = 'Life is short.'\n",
    "\n",
    "print(len(a), len(b))\n",
    "print(my_len(a), my_len(b))"
   ]
  },
  {
   "cell_type": "markdown",
   "id": "9099aaf8",
   "metadata": {},
   "source": [
    "### 양의 정수 a, b를 전달받아 a부터 b까지 곱해서 반환하는 mult함수를 작성하시오"
   ]
  },
  {
   "cell_type": "code",
   "execution_count": 12,
   "id": "661e5cf1",
   "metadata": {},
   "outputs": [],
   "source": [
    "def mult(a, b):\n",
    "    m = 1\n",
    "    for i in range(a, b+1):\n",
    "        m *= i\n",
    "    \n",
    "    return m    "
   ]
  },
  {
   "cell_type": "code",
   "execution_count": 22,
   "id": "a45f8b2a",
   "metadata": {},
   "outputs": [],
   "source": [
    "def mult(a, b):\n",
    "    m = 1\n",
    "    while a < (b+1):\n",
    "        m *= a\n",
    "        a += 1\n",
    "    return m  "
   ]
  },
  {
   "cell_type": "code",
   "execution_count": 20,
   "id": "50608c9e",
   "metadata": {},
   "outputs": [
    {
     "data": {
      "text/plain": [
       "6"
      ]
     },
     "execution_count": 20,
     "metadata": {},
     "output_type": "execute_result"
    }
   ],
   "source": [
    "mult(1, 3)"
   ]
  },
  {
   "cell_type": "code",
   "execution_count": 21,
   "id": "8b15d1a0",
   "metadata": {
    "scrolled": true
   },
   "outputs": [
    {
     "data": {
      "text/plain": [
       "120"
      ]
     },
     "execution_count": 21,
     "metadata": {},
     "output_type": "execute_result"
    }
   ],
   "source": [
    "mult(2, 5)"
   ]
  },
  {
   "cell_type": "markdown",
   "id": "d918f9b1",
   "metadata": {},
   "source": [
    "### 숫자로 구성된 리스트를 전달받아, 리스트에서 양수 값을 더한 결과와 음수 값을 더한 결과를 반환하느 함수를 작성하시오."
   ]
  },
  {
   "cell_type": "code",
   "execution_count": 16,
   "id": "cb52283e",
   "metadata": {},
   "outputs": [],
   "source": [
    "def sum_pos_neg(l):\n",
    "    p = 0\n",
    "    m = 0\n",
    "    for i in l:\n",
    "        if i > 0:\n",
    "            p += i\n",
    "        elif i < 0:\n",
    "            m += i\n",
    "        else:\n",
    "            continue\n",
    "    return (p, m)\n",
    " "
   ]
  },
  {
   "cell_type": "code",
   "execution_count": 17,
   "id": "fc0bff4b",
   "metadata": {},
   "outputs": [
    {
     "name": "stdout",
     "output_type": "stream",
     "text": [
      "7 -9\n"
     ]
    }
   ],
   "source": [
    "possum, negsum = sum_pos_neg([3, 4, -6, -3])\n",
    "print(possum, negsum)"
   ]
  },
  {
   "cell_type": "code",
   "execution_count": 18,
   "id": "f49461f7",
   "metadata": {},
   "outputs": [
    {
     "name": "stdout",
     "output_type": "stream",
     "text": [
      "1 -1\n"
     ]
    }
   ],
   "source": [
    "mylist = [0,0,0,0,0,0,0,0,0,1,-1]\n",
    "possum2, negsum2 = sum_pos_neg(mylist)\n",
    "print(possum2, negsum2)"
   ]
  },
  {
   "cell_type": "markdown",
   "id": "62bbbf50",
   "metadata": {},
   "source": [
    "# 가변 매개변수"
   ]
  },
  {
   "cell_type": "markdown",
   "id": "5bdaaa1d",
   "metadata": {},
   "source": [
    "### 1개 이상의 2차원 벡터들을 전달받아 벡터들의 합을 구하여 반환하는 함수를 작성하시오"
   ]
  },
  {
   "cell_type": "code",
   "execution_count": 44,
   "id": "9d9d9554",
   "metadata": {},
   "outputs": [],
   "source": [
    "def vector_sum(vector, *vectors):\n",
    "    s = 0\n",
    "    v = 0\n",
    "    for i in vector:\n",
    "        s = s + i\n",
    "    for i in vectors:\n",
    "        for l in i:\n",
    "            v = v+l\n",
    "    \n",
    "    \n",
    "    return s, v"
   ]
  },
  {
   "cell_type": "code",
   "execution_count": 45,
   "id": "f2eb33e1",
   "metadata": {},
   "outputs": [
    {
     "name": "stdout",
     "output_type": "stream",
     "text": [
      "(1, 2.0) (1, 12.0) (1, 5.85)\n"
     ]
    }
   ],
   "source": [
    "v1 = [0,1]\n",
    "v2 = [0.5, 0.5]\n",
    "v3 = [1, 0]\n",
    "v4 = [6, 4]\n",
    "v5 = [3.13, 2.72]\n",
    "\n",
    "m1 = vector_sum(v1, v2, v3)\n",
    "m2 = vector_sum(v1, v2, v3, v4)\n",
    "m3 = vector_sum(v3, v5)\n",
    "print(m1, m2, m3)"
   ]
  },
  {
   "cell_type": "markdown",
   "id": "948c1592",
   "metadata": {},
   "source": [
    "# 디폴트 매개변수"
   ]
  },
  {
   "cell_type": "code",
   "execution_count": 48,
   "id": "65a5b564",
   "metadata": {},
   "outputs": [
    {
     "name": "stdout",
     "output_type": "stream",
     "text": [
      "My name is Gildong Kim.\n"
     ]
    }
   ],
   "source": [
    "def print_name(first, second = 'Kim'):\n",
    "    print('My name is', first, second + '.')\n",
    "    \n",
    "print_name('Gildong')"
   ]
  },
  {
   "cell_type": "markdown",
   "id": "4cac16bb",
   "metadata": {},
   "source": [
    "### 숫자로 구성된 리스트 2개를 받아서 이 두 리스트를 합친 후에 정렬한 새로운 리스트를 반환하는 함수를 작서하시오\\\n",
    "### 단, 매개변수의 값이 주어지지 않으면, [0]이 기본적으로 주어진다."
   ]
  },
  {
   "cell_type": "code",
   "execution_count": 66,
   "id": "8ad0d334",
   "metadata": {},
   "outputs": [],
   "source": [
    "def merge_list(a=[0], b=[0]):\n",
    "    s = a + b\n",
    "    s = sorted(s)\n",
    "    return s"
   ]
  },
  {
   "cell_type": "code",
   "execution_count": 67,
   "id": "0878e80b",
   "metadata": {},
   "outputs": [
    {
     "name": "stdout",
     "output_type": "stream",
     "text": [
      "[1, 1, 2, 2, 3, 5, 9]\n",
      "[0, 4, 6, 9]\n",
      "[0, 0]\n"
     ]
    }
   ],
   "source": [
    "l = [3, 5, 9, 1, 2]\n",
    "ml1 = merge_list(l, [2,1])\n",
    "ml2 = merge_list([6,9,4])\n",
    "ml3 = merge_list()\n",
    "\n",
    "print(ml1)\n",
    "print(ml2)\n",
    "print(ml3)"
   ]
  },
  {
   "cell_type": "markdown",
   "id": "49a7d6e9",
   "metadata": {},
   "source": [
    "# 지역변수, 전역변수"
   ]
  },
  {
   "cell_type": "code",
   "execution_count": null,
   "id": "549b558d",
   "metadata": {},
   "outputs": [],
   "source": []
  },
  {
   "cell_type": "markdown",
   "id": "e73e1279",
   "metadata": {},
   "source": [
    "# 모듈"
   ]
  },
  {
   "cell_type": "raw",
   "id": "d3d8a1da",
   "metadata": {},
   "source": [
    "모듈로 사용할 파일과 호출하는 파일은 모두 같은 폴더에 저장\n",
    "import ~~~ as ~~\n",
    "from ~~~~ as ~~\n"
   ]
  }
 ],
 "metadata": {
  "kernelspec": {
   "display_name": "Python 3 (ipykernel)",
   "language": "python",
   "name": "python3"
  },
  "language_info": {
   "codemirror_mode": {
    "name": "ipython",
    "version": 3
   },
   "file_extension": ".py",
   "mimetype": "text/x-python",
   "name": "python",
   "nbconvert_exporter": "python",
   "pygments_lexer": "ipython3",
   "version": "3.10.9"
  }
 },
 "nbformat": 4,
 "nbformat_minor": 5
}

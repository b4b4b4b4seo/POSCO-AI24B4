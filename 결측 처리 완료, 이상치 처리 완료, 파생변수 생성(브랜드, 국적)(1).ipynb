{
 "cells": [
  {
   "cell_type": "code",
   "execution_count": 1,
   "id": "6175b174",
   "metadata": {},
   "outputs": [],
   "source": [
    "import pandas as pd\n",
    "import numpy as np\n",
    "\n",
    "import matplotlib.pyplot as plt\n",
    "import matplotlib\n",
    "import seaborn as sns\n",
    "# graphviz : 나무 구조 시각화  (.dot 확장자 파일 불러오기 등)\n",
    "from sklearn.tree import export_graphviz  # 트리 그리기\n",
    "import graphviz\n",
    "# 다른 방식(.dot -> .png 형식, 출력화면에 맞는)으로 Tree 출력\n",
    "from subprocess import call\n",
    "from IPython.display import Image\n",
    "\n",
    "# Over Sampling\n",
    "from imblearn.over_sampling import SMOTE\n",
    "\n",
    "# Check the Frequency of Variable\n",
    "from collections import Counter\n",
    "\n",
    "# 회귀분석\n",
    "import statsmodels.formula.api as smf\n",
    "from statsmodels.api import qqplot, add_constant\n",
    "from statsmodels.stats.outliers_influence import variance_inflation_factor\n",
    "import statsmodels.api as sm\n",
    "from datetime import datetime\n",
    "\n",
    "# 분류모델 평가 함수\n",
    "from sklearn.metrics import accuracy_score, roc_auc_score, precision_score, recall_score, f1_score, f1_score, roc_curve, auc\n",
    "from sklearn.metrics import confusion_matrix, classification_report\n",
    "from sklearn.metrics import mean_squared_error\n",
    "from sklearn.metrics import mean_absolute_error\n",
    "from sklearn.metrics import mean_absolute_percentage_error\n",
    "from sklearn.metrics import accuracy_score, f1_score \n",
    "from sklearn.metrics import confusion_matrix, classification_report\n",
    "# XGBOOST 변수 중요도 확인: F1 점수 기준\n",
    "from xgboost import plot_importance\n",
    "\n",
    "#\n",
    "from sklearn.model_selection import train_test_split\n",
    "from sklearn.feature_selection import RFE\n",
    "\n",
    "from sklearn.metrics import r2_score\n",
    "\n",
    "# 스케일러\n",
    "from sklearn.preprocessing import StandardScaler\n",
    "\n",
    "#\n",
    "from sklearn.model_selection import GridSearchCV\n",
    "from sklearn.decomposition import PCA\n",
    "\n",
    "# 모델\n",
    "\n",
    "\n",
    "\n",
    "# Decision Tree \n",
    "from sklearn.tree import DecisionTreeRegressor\n",
    "# Tree - RandomForest\n",
    "from sklearn.ensemble import RandomForestRegressor\n",
    "# Tree - GradientBoosting\n",
    "from sklearn.ensemble import GradientBoostingRegressor\n",
    "# Decision Tree - 분류 \n",
    "from sklearn.tree import DecisionTreeClassifier\n",
    "# Random Forest - 분류 \n",
    "from sklearn.ensemble import RandomForestClassifier\n",
    "# Gradient Boosting - 분류\n",
    "from sklearn.ensemble import GradientBoostingClassifier\n",
    "# XGBOOST - 분류\n",
    "from xgboost import XGBClassifier\n",
    "# SVM - 분류\n",
    "from sklearn.svm import SVC\n",
    "# NN (MLPClassifier) - 분류\n",
    "from sklearn.neural_network import MLPClassifier\n",
    "# KNN - 분류\n",
    "from sklearn.neighbors import KNeighborsClassifier\n",
    "# KNN 결측처리\n",
    "from sklearn.impute import KNNImputer\n",
    "\n",
    "# 선형회귀\n",
    "from sklearn.linear_model import LinearRegression\n",
    "# 로지스틱 선형회귀(2진분류)\n",
    "from statsmodels.api import Logit\n",
    "\n",
    "#시계열 - arima\n",
    "from statsmodels.graphics.tsaplots import plot_acf, plot_pacf\n",
    "from statsmodels.tsa.arima.model import ARIMA\n",
    "# 시계열 - auto arima\n",
    "from pmdarima import auto_arima\n",
    "\n",
    "\n",
    "\n",
    "\n",
    "import warnings\n",
    "warnings.filterwarnings('ignore')\n",
    "\n",
    "import os\n",
    "os.environ[\"PATH\"] += os.pathsep + '/usr/bin'\n",
    "\n",
    "%matplotlib inline\n",
    "\n",
    "plt.rc('font', family = 'NanumBarunGothic')\n",
    "plt.rc('axes', unicode_minus=False)"
   ]
  },
  {
   "cell_type": "code",
   "execution_count": 2,
   "id": "ed53f220",
   "metadata": {
    "scrolled": true
   },
   "outputs": [
    {
     "data": {
      "text/html": [
       "<div>\n",
       "<style scoped>\n",
       "    .dataframe tbody tr th:only-of-type {\n",
       "        vertical-align: middle;\n",
       "    }\n",
       "\n",
       "    .dataframe tbody tr th {\n",
       "        vertical-align: top;\n",
       "    }\n",
       "\n",
       "    .dataframe thead th {\n",
       "        text-align: right;\n",
       "    }\n",
       "</style>\n",
       "<table border=\"1\" class=\"dataframe\">\n",
       "  <thead>\n",
       "    <tr style=\"text-align: right;\">\n",
       "      <th></th>\n",
       "      <th>Name</th>\n",
       "      <th>Location</th>\n",
       "      <th>Price</th>\n",
       "      <th>Year</th>\n",
       "      <th>Kilometers_Driven</th>\n",
       "      <th>Fuel_Type</th>\n",
       "      <th>Transmission</th>\n",
       "      <th>Owner_Type</th>\n",
       "      <th>Mileage</th>\n",
       "      <th>Engine</th>\n",
       "      <th>Power</th>\n",
       "      <th>Seats</th>\n",
       "      <th>New_Price</th>\n",
       "    </tr>\n",
       "  </thead>\n",
       "  <tbody>\n",
       "    <tr>\n",
       "      <th>0</th>\n",
       "      <td>Maruti Wagon R LXI CNG</td>\n",
       "      <td>Mumbai</td>\n",
       "      <td>2682.68</td>\n",
       "      <td>2010</td>\n",
       "      <td>72000</td>\n",
       "      <td>CNG</td>\n",
       "      <td>Manual</td>\n",
       "      <td>First</td>\n",
       "      <td>26.6 kmpl</td>\n",
       "      <td>998 CC</td>\n",
       "      <td>58.16 bhp</td>\n",
       "      <td>5.0</td>\n",
       "      <td>NaN</td>\n",
       "    </tr>\n",
       "    <tr>\n",
       "      <th>1</th>\n",
       "      <td>Hyundai Creta 1.6 CRDi SX Option</td>\n",
       "      <td>Pune</td>\n",
       "      <td>19162.00</td>\n",
       "      <td>2015</td>\n",
       "      <td>41000</td>\n",
       "      <td>Diesel</td>\n",
       "      <td>Manual</td>\n",
       "      <td>First</td>\n",
       "      <td>19.67 kmpl</td>\n",
       "      <td>1582 CC</td>\n",
       "      <td>126.2 bhp</td>\n",
       "      <td>5.0</td>\n",
       "      <td>NaN</td>\n",
       "    </tr>\n",
       "    <tr>\n",
       "      <th>2</th>\n",
       "      <td>Honda Jazz V</td>\n",
       "      <td>Chennai</td>\n",
       "      <td>6898.32</td>\n",
       "      <td>2011</td>\n",
       "      <td>46000</td>\n",
       "      <td>Petrol</td>\n",
       "      <td>Manual</td>\n",
       "      <td>First</td>\n",
       "      <td>18.2 kmpl</td>\n",
       "      <td>1199 CC</td>\n",
       "      <td>88.7 bhp</td>\n",
       "      <td>5.0</td>\n",
       "      <td>8.61 Lakh</td>\n",
       "    </tr>\n",
       "    <tr>\n",
       "      <th>3</th>\n",
       "      <td>Maruti Ertiga VDI</td>\n",
       "      <td>Chennai</td>\n",
       "      <td>9197.76</td>\n",
       "      <td>2012</td>\n",
       "      <td>87000</td>\n",
       "      <td>Diesel</td>\n",
       "      <td>Manual</td>\n",
       "      <td>First</td>\n",
       "      <td>20.77 kmpl</td>\n",
       "      <td>1248 CC</td>\n",
       "      <td>88.76 bhp</td>\n",
       "      <td>7.0</td>\n",
       "      <td>NaN</td>\n",
       "    </tr>\n",
       "    <tr>\n",
       "      <th>4</th>\n",
       "      <td>Audi A4 New 2.0 TDI Multitronic</td>\n",
       "      <td>Coimbatore</td>\n",
       "      <td>27194.71</td>\n",
       "      <td>2013</td>\n",
       "      <td>40670</td>\n",
       "      <td>Diesel</td>\n",
       "      <td>Automatic</td>\n",
       "      <td>Second</td>\n",
       "      <td>15.2 kmpl</td>\n",
       "      <td>1968 CC</td>\n",
       "      <td>140.8 bhp</td>\n",
       "      <td>5.0</td>\n",
       "      <td>NaN</td>\n",
       "    </tr>\n",
       "  </tbody>\n",
       "</table>\n",
       "</div>"
      ],
      "text/plain": [
       "                               Name    Location     Price  Year  \\\n",
       "0            Maruti Wagon R LXI CNG      Mumbai   2682.68  2010   \n",
       "1  Hyundai Creta 1.6 CRDi SX Option        Pune  19162.00  2015   \n",
       "2                      Honda Jazz V     Chennai   6898.32  2011   \n",
       "3                 Maruti Ertiga VDI     Chennai   9197.76  2012   \n",
       "4   Audi A4 New 2.0 TDI Multitronic  Coimbatore  27194.71  2013   \n",
       "\n",
       "   Kilometers_Driven Fuel_Type Transmission Owner_Type     Mileage   Engine  \\\n",
       "0              72000       CNG       Manual      First   26.6 kmpl   998 CC   \n",
       "1              41000    Diesel       Manual      First  19.67 kmpl  1582 CC   \n",
       "2              46000    Petrol       Manual      First   18.2 kmpl  1199 CC   \n",
       "3              87000    Diesel       Manual      First  20.77 kmpl  1248 CC   \n",
       "4              40670    Diesel    Automatic     Second   15.2 kmpl  1968 CC   \n",
       "\n",
       "       Power  Seats  New_Price  \n",
       "0  58.16 bhp    5.0        NaN  \n",
       "1  126.2 bhp    5.0        NaN  \n",
       "2   88.7 bhp    5.0  8.61 Lakh  \n",
       "3  88.76 bhp    7.0        NaN  \n",
       "4  140.8 bhp    5.0        NaN  "
      ]
     },
     "execution_count": 2,
     "metadata": {},
     "output_type": "execute_result"
    }
   ],
   "source": [
    "df = pd.read_csv('/home/piai/바탕화면/빅분_백은정/빅데이터분석/Car.csv')\n",
    "df.head()"
   ]
  },
  {
   "cell_type": "code",
   "execution_count": 3,
   "id": "4f2e30cc",
   "metadata": {},
   "outputs": [
    {
     "name": "stdout",
     "output_type": "stream",
     "text": [
      "<class 'pandas.core.frame.DataFrame'>\n",
      "RangeIndex: 7253 entries, 0 to 7252\n",
      "Data columns (total 13 columns):\n",
      " #   Column             Non-Null Count  Dtype  \n",
      "---  ------             --------------  -----  \n",
      " 0   Name               7253 non-null   object \n",
      " 1   Location           7253 non-null   object \n",
      " 2   Price              6200 non-null   float64\n",
      " 3   Year               7253 non-null   int64  \n",
      " 4   Kilometers_Driven  7253 non-null   int64  \n",
      " 5   Fuel_Type          7253 non-null   object \n",
      " 6   Transmission       7253 non-null   object \n",
      " 7   Owner_Type         7253 non-null   object \n",
      " 8   Mileage            7251 non-null   object \n",
      " 9   Engine             7207 non-null   object \n",
      " 10  Power              7207 non-null   object \n",
      " 11  Seats              7200 non-null   float64\n",
      " 12  New_Price          1006 non-null   object \n",
      "dtypes: float64(2), int64(2), object(9)\n",
      "memory usage: 736.8+ KB\n"
     ]
    }
   ],
   "source": [
    "df.info()"
   ]
  },
  {
   "cell_type": "code",
   "execution_count": 4,
   "id": "7754ae7e",
   "metadata": {},
   "outputs": [
    {
     "data": {
      "text/plain": [
       "Name                    0\n",
       "Location                0\n",
       "Price                1053\n",
       "Year                    0\n",
       "Kilometers_Driven       0\n",
       "Fuel_Type               0\n",
       "Transmission            0\n",
       "Owner_Type              0\n",
       "Mileage                 2\n",
       "Engine                 46\n",
       "Power                  46\n",
       "Seats                  53\n",
       "New_Price            6247\n",
       "dtype: int64"
      ]
     },
     "execution_count": 4,
     "metadata": {},
     "output_type": "execute_result"
    }
   ],
   "source": [
    "df.isnull().sum()"
   ]
  },
  {
   "cell_type": "code",
   "execution_count": 5,
   "id": "c3970773",
   "metadata": {
    "scrolled": true
   },
   "outputs": [
    {
     "data": {
      "text/html": [
       "<div>\n",
       "<style scoped>\n",
       "    .dataframe tbody tr th:only-of-type {\n",
       "        vertical-align: middle;\n",
       "    }\n",
       "\n",
       "    .dataframe tbody tr th {\n",
       "        vertical-align: top;\n",
       "    }\n",
       "\n",
       "    .dataframe thead th {\n",
       "        text-align: right;\n",
       "    }\n",
       "</style>\n",
       "<table border=\"1\" class=\"dataframe\">\n",
       "  <thead>\n",
       "    <tr style=\"text-align: right;\">\n",
       "      <th></th>\n",
       "      <th>Name</th>\n",
       "      <th>Location</th>\n",
       "      <th>Price</th>\n",
       "      <th>Year</th>\n",
       "      <th>Kilometers_Driven</th>\n",
       "      <th>Fuel_Type</th>\n",
       "      <th>Transmission</th>\n",
       "      <th>Owner_Type</th>\n",
       "      <th>Mileage(km/l)</th>\n",
       "      <th>Engine(CC)</th>\n",
       "      <th>Power(bhp)</th>\n",
       "      <th>Seats</th>\n",
       "      <th>New_Price(Lakh)</th>\n",
       "    </tr>\n",
       "  </thead>\n",
       "  <tbody>\n",
       "    <tr>\n",
       "      <th>0</th>\n",
       "      <td>Maruti Wagon R LXI CNG</td>\n",
       "      <td>Mumbai</td>\n",
       "      <td>2682.68</td>\n",
       "      <td>2010</td>\n",
       "      <td>72000</td>\n",
       "      <td>CNG</td>\n",
       "      <td>Manual</td>\n",
       "      <td>First</td>\n",
       "      <td>26.60</td>\n",
       "      <td>998.0</td>\n",
       "      <td>58.16</td>\n",
       "      <td>5.0</td>\n",
       "      <td>NaN</td>\n",
       "    </tr>\n",
       "    <tr>\n",
       "      <th>1</th>\n",
       "      <td>Hyundai Creta 1.6 CRDi SX Option</td>\n",
       "      <td>Pune</td>\n",
       "      <td>19162.00</td>\n",
       "      <td>2015</td>\n",
       "      <td>41000</td>\n",
       "      <td>Diesel</td>\n",
       "      <td>Manual</td>\n",
       "      <td>First</td>\n",
       "      <td>19.67</td>\n",
       "      <td>1582.0</td>\n",
       "      <td>126.20</td>\n",
       "      <td>5.0</td>\n",
       "      <td>NaN</td>\n",
       "    </tr>\n",
       "    <tr>\n",
       "      <th>2</th>\n",
       "      <td>Honda Jazz V</td>\n",
       "      <td>Chennai</td>\n",
       "      <td>6898.32</td>\n",
       "      <td>2011</td>\n",
       "      <td>46000</td>\n",
       "      <td>Petrol</td>\n",
       "      <td>Manual</td>\n",
       "      <td>First</td>\n",
       "      <td>18.20</td>\n",
       "      <td>1199.0</td>\n",
       "      <td>88.70</td>\n",
       "      <td>5.0</td>\n",
       "      <td>8.61</td>\n",
       "    </tr>\n",
       "    <tr>\n",
       "      <th>3</th>\n",
       "      <td>Maruti Ertiga VDI</td>\n",
       "      <td>Chennai</td>\n",
       "      <td>9197.76</td>\n",
       "      <td>2012</td>\n",
       "      <td>87000</td>\n",
       "      <td>Diesel</td>\n",
       "      <td>Manual</td>\n",
       "      <td>First</td>\n",
       "      <td>20.77</td>\n",
       "      <td>1248.0</td>\n",
       "      <td>88.76</td>\n",
       "      <td>7.0</td>\n",
       "      <td>NaN</td>\n",
       "    </tr>\n",
       "    <tr>\n",
       "      <th>4</th>\n",
       "      <td>Audi A4 New 2.0 TDI Multitronic</td>\n",
       "      <td>Coimbatore</td>\n",
       "      <td>27194.71</td>\n",
       "      <td>2013</td>\n",
       "      <td>40670</td>\n",
       "      <td>Diesel</td>\n",
       "      <td>Automatic</td>\n",
       "      <td>Second</td>\n",
       "      <td>15.20</td>\n",
       "      <td>1968.0</td>\n",
       "      <td>140.80</td>\n",
       "      <td>5.0</td>\n",
       "      <td>NaN</td>\n",
       "    </tr>\n",
       "  </tbody>\n",
       "</table>\n",
       "</div>"
      ],
      "text/plain": [
       "                               Name    Location     Price  Year  \\\n",
       "0            Maruti Wagon R LXI CNG      Mumbai   2682.68  2010   \n",
       "1  Hyundai Creta 1.6 CRDi SX Option        Pune  19162.00  2015   \n",
       "2                      Honda Jazz V     Chennai   6898.32  2011   \n",
       "3                 Maruti Ertiga VDI     Chennai   9197.76  2012   \n",
       "4   Audi A4 New 2.0 TDI Multitronic  Coimbatore  27194.71  2013   \n",
       "\n",
       "   Kilometers_Driven Fuel_Type Transmission Owner_Type  Mileage(km/l)  \\\n",
       "0              72000       CNG       Manual      First          26.60   \n",
       "1              41000    Diesel       Manual      First          19.67   \n",
       "2              46000    Petrol       Manual      First          18.20   \n",
       "3              87000    Diesel       Manual      First          20.77   \n",
       "4              40670    Diesel    Automatic     Second          15.20   \n",
       "\n",
       "   Engine(CC)  Power(bhp)  Seats  New_Price(Lakh)  \n",
       "0       998.0       58.16    5.0              NaN  \n",
       "1      1582.0      126.20    5.0              NaN  \n",
       "2      1199.0       88.70    5.0             8.61  \n",
       "3      1248.0       88.76    7.0              NaN  \n",
       "4      1968.0      140.80    5.0              NaN  "
      ]
     },
     "execution_count": 5,
     "metadata": {},
     "output_type": "execute_result"
    }
   ],
   "source": [
    "# 연비 숫자와 단위 분리\n",
    "df[['Mileage', 'Mileage_Unit']] = df['Mileage'].str.split(expand=True)\n",
    "df[['Engine', 'Engine_Unit']] = df['Engine'].str.split(expand=True)\n",
    "df[['Power', 'Power_Unit']] = df['Power'].str.split(expand=True)\n",
    "df[['New_Price', 'New_Price_Unit']] = df['New_Price'].str.split(expand=True)\n",
    "\n",
    "# 컬럼명에 단위 표기\n",
    "df.rename(columns={\"Mileage\": \"Mileage(km/l)\", \"Engine\":\"Engine(CC)\", \"Power\":\"Power(bhp)\",\"New_Price\":\"New_Price(Lakh)\"}, inplace=True)\n",
    "# 단위 컬럼 제거\n",
    "df.drop(['Engine_Unit', 'Mileage_Unit', 'Power_Unit', \"New_Price_Unit\"], axis=1, inplace=True)\n",
    "\n",
    "# 숫자형 컬럼으로 변경\n",
    "df['Engine(CC)'] = pd.to_numeric(df['Engine(CC)'], errors='coerce')\n",
    "df['Mileage(km/l)'] = pd.to_numeric(df['Mileage(km/l)'], errors='coerce')\n",
    "df['Power(bhp)'] = pd.to_numeric(df['Power(bhp)'], errors='coerce')\n",
    "df['New_Price(Lakh)'] = pd.to_numeric(df['New_Price(Lakh)'], errors='coerce')\n",
    "\n",
    "df.head()"
   ]
  },
  {
   "cell_type": "code",
   "execution_count": 6,
   "id": "bacec20c",
   "metadata": {},
   "outputs": [
    {
     "name": "stdout",
     "output_type": "stream",
     "text": [
      "17.00    208\n",
      "18.90    201\n",
      "18.60    144\n",
      "21.10    107\n",
      "20.36    105\n",
      "        ... \n",
      "17.09      1\n",
      "19.91      1\n",
      "17.16      1\n",
      "18.23      1\n",
      "17.15      1\n",
      "Name: Mileage(km/l), Length: 438, dtype: int64\n",
      "81\n"
     ]
    }
   ],
   "source": [
    "# Mileage(km/l) 컬럼에 '0.0'값 발견\n",
    "print(df['Mileage(km/l)'].value_counts())\n",
    "# 'null'값이 갯수 확인\n",
    "print(len(df[df['Mileage(km/l)'] == 0.0]))\n",
    "# 문자 'null'을 np.nan으로 변경\n",
    "df['Mileage(km/l)'].replace(0.0, np.nan, inplace=True)"
   ]
  },
  {
   "cell_type": "markdown",
   "id": "c8209a19",
   "metadata": {},
   "source": [
    "## 결측치를 같은값으로 보간할 수 있는지 비교"
   ]
  },
  {
   "cell_type": "code",
   "execution_count": 7,
   "id": "842a333b",
   "metadata": {},
   "outputs": [
    {
     "data": {
      "text/plain": [
       "Name                    0\n",
       "Location                0\n",
       "Price                1053\n",
       "Year                    0\n",
       "Kilometers_Driven       0\n",
       "Fuel_Type               0\n",
       "Transmission            0\n",
       "Owner_Type              0\n",
       "Mileage(km/l)          83\n",
       "Engine(CC)             46\n",
       "Power(bhp)            175\n",
       "Seats                  53\n",
       "New_Price(Lakh)      6247\n",
       "dtype: int64"
      ]
     },
     "execution_count": 7,
     "metadata": {},
     "output_type": "execute_result"
    }
   ],
   "source": [
    "df.isnull().sum()"
   ]
  },
  {
   "cell_type": "markdown",
   "id": "b8352e24",
   "metadata": {},
   "source": [
    "### Price"
   ]
  },
  {
   "cell_type": "markdown",
   "id": "dd5ec82a",
   "metadata": {},
   "source": [
    "* 목표변수이므로 보간x"
   ]
  },
  {
   "cell_type": "markdown",
   "id": "8e8cd3b0",
   "metadata": {},
   "source": [
    "###  Mileage(km/l)"
   ]
  },
  {
   "cell_type": "code",
   "execution_count": 8,
   "id": "9523f632",
   "metadata": {},
   "outputs": [],
   "source": [
    "NPN = df[df['Mileage(km/l)'].isnull() == True]['Name']\n",
    "NP = df[df['Mileage(km/l)'].isnull() == False]['Name']"
   ]
  },
  {
   "cell_type": "code",
   "execution_count": 9,
   "id": "115a762f",
   "metadata": {
    "scrolled": true
   },
   "outputs": [
    {
     "name": "stdout",
     "output_type": "stream",
     "text": [
      "3\n"
     ]
    }
   ],
   "source": [
    "overlap_cars = NPN[NPN.isin(NP)]\n",
    "\n",
    "# Mileage(km/l)가 모델명을 새로운 시리즈에 담기\n",
    "new_series = pd.Series(overlap_cars)\n",
    "\n",
    "# 결과 출력\n",
    "print(len(new_series))"
   ]
  },
  {
   "cell_type": "code",
   "execution_count": 10,
   "id": "3972ba82",
   "metadata": {},
   "outputs": [],
   "source": [
    "# 동일한 'Name'을 가진 행의 'Power(bhp)' 값을 복사하여 결측치가 있는 행에 넣습니다.\n",
    "for car_name in overlap_cars:\n",
    "    # 결측치가 있는 행에서 해당 차량의 인덱스를 가져옵니다.\n",
    "    np_idx = df[(df['Name'] == car_name) & ~df['Engine(CC)'].isnull()].index\n",
    "    npower = df.loc[np_idx, 'Engine(CC)'].values[0]\n",
    "    \n",
    "    # 결측치가 있는 행에서 해당 차량의 인덱스를 가져와 'Power(bhp)' 값을 대체합니다.\n",
    "    df.loc[df['Name'] == car_name, 'Engine(CC)'] = npower"
   ]
  },
  {
   "cell_type": "code",
   "execution_count": 11,
   "id": "1907afe3",
   "metadata": {
    "scrolled": true
   },
   "outputs": [
    {
     "data": {
      "text/plain": [
       "Name                    0\n",
       "Location                0\n",
       "Price                1053\n",
       "Year                    0\n",
       "Kilometers_Driven       0\n",
       "Fuel_Type               0\n",
       "Transmission            0\n",
       "Owner_Type              0\n",
       "Mileage(km/l)          83\n",
       "Engine(CC)             43\n",
       "Power(bhp)            175\n",
       "Seats                  53\n",
       "New_Price(Lakh)      6247\n",
       "dtype: int64"
      ]
     },
     "execution_count": 11,
     "metadata": {},
     "output_type": "execute_result"
    }
   ],
   "source": [
    "# 결측치 확인\n",
    "df.isnull().sum()"
   ]
  },
  {
   "cell_type": "markdown",
   "id": "64122bc7",
   "metadata": {},
   "source": [
    "* 83개의 결측값 중 3개 보간"
   ]
  },
  {
   "cell_type": "markdown",
   "id": "da35528d",
   "metadata": {},
   "source": [
    "### Engine(CC)"
   ]
  },
  {
   "cell_type": "code",
   "execution_count": 12,
   "id": "8a2ff79b",
   "metadata": {},
   "outputs": [],
   "source": [
    "NPN = df[df['Engine(CC)'].isnull() == True]['Name']\n",
    "NP = df[df['Engine(CC)'].isnull() == False]['Name']"
   ]
  },
  {
   "cell_type": "code",
   "execution_count": 13,
   "id": "f60ec8ea",
   "metadata": {},
   "outputs": [
    {
     "name": "stdout",
     "output_type": "stream",
     "text": [
      "3\n"
     ]
    }
   ],
   "source": [
    "overlap_cars = NPN[NPN.isin(NP)]\n",
    "\n",
    "# Mileage(km/l)가 모델명을 새로운 시리즈에 담기\n",
    "new_series = pd.Series(overlap_cars)\n",
    "\n",
    "# 결과 출력\n",
    "print(len(new_series))"
   ]
  },
  {
   "cell_type": "code",
   "execution_count": 14,
   "id": "2c14db9e",
   "metadata": {},
   "outputs": [],
   "source": [
    "# 동일한 'Name'을 가진 행의 'Power(bhp)' 값을 복사하여 결측치가 있는 행에 넣습니다.\n",
    "for car_name in overlap_cars:\n",
    "    # 결측치가 있는 행에서 해당 차량의 인덱스를 가져옵니다.\n",
    "    np_idx = df[(df['Name'] == car_name) & ~df['Engine(CC)'].isnull()].index\n",
    "    npower = df.loc[np_idx, 'Engine(CC)'].values[0]\n",
    "    \n",
    "    # 결측치가 있는 행에서 해당 차량의 인덱스를 가져와 'Power(bhp)' 값을 대체합니다.\n",
    "    df.loc[df['Name'] == car_name, 'Engine(CC)'] = npower"
   ]
  },
  {
   "cell_type": "code",
   "execution_count": 15,
   "id": "0d6da560",
   "metadata": {
    "scrolled": true
   },
   "outputs": [
    {
     "data": {
      "text/plain": [
       "Name                    0\n",
       "Location                0\n",
       "Price                1053\n",
       "Year                    0\n",
       "Kilometers_Driven       0\n",
       "Fuel_Type               0\n",
       "Transmission            0\n",
       "Owner_Type              0\n",
       "Mileage(km/l)          83\n",
       "Engine(CC)             40\n",
       "Power(bhp)            175\n",
       "Seats                  53\n",
       "New_Price(Lakh)      6247\n",
       "dtype: int64"
      ]
     },
     "execution_count": 15,
     "metadata": {},
     "output_type": "execute_result"
    }
   ],
   "source": [
    "# 결측치 확인\n",
    "df.isnull().sum()"
   ]
  },
  {
   "cell_type": "markdown",
   "id": "7d688f0b",
   "metadata": {},
   "source": [
    "* 46개의 결측값 중 6개 보간"
   ]
  },
  {
   "cell_type": "markdown",
   "id": "1cd4a926",
   "metadata": {},
   "source": [
    "### Power(bhp)"
   ]
  },
  {
   "cell_type": "code",
   "execution_count": 16,
   "id": "b36bef18",
   "metadata": {},
   "outputs": [],
   "source": [
    "NPN = df[df['Power(bhp)'].isnull() == True]['Name']\n",
    "NP = df[df['Power(bhp)'].isnull() == False]['Name']"
   ]
  },
  {
   "cell_type": "code",
   "execution_count": 17,
   "id": "400155e9",
   "metadata": {},
   "outputs": [
    {
     "name": "stdout",
     "output_type": "stream",
     "text": [
      "39\n"
     ]
    }
   ],
   "source": [
    "overlap_cars = NPN[NPN.isin(NP)]\n",
    "\n",
    "# Mileage(km/l)가 모델명을 새로운 시리즈에 담기\n",
    "new_series = pd.Series(overlap_cars)\n",
    "\n",
    "# 결과 출력\n",
    "print(len(new_series))"
   ]
  },
  {
   "cell_type": "code",
   "execution_count": 18,
   "id": "4c17f211",
   "metadata": {
    "scrolled": true
   },
   "outputs": [],
   "source": [
    "# 동일한 'Name'을 가진 행의 'Power(bhp)' 값을 복사하여 결측치가 있는 행에 넣습니다.\n",
    "for car_name in overlap_cars:\n",
    "    # 결측치가 있는 행에서 해당 차량의 인덱스를 가져옵니다.\n",
    "    np_idx = df[(df['Name'] == car_name) & ~df['Power(bhp)'].isnull()].index\n",
    "    npower = df.loc[np_idx, 'Power(bhp)'].values[0]\n",
    "    \n",
    "    # 결측치가 있는 행에서 해당 차량의 인덱스를 가져와 'Power(bhp)' 값을 대체합니다.\n",
    "    df.loc[df['Name'] == car_name, 'Power(bhp)'] = npower"
   ]
  },
  {
   "cell_type": "code",
   "execution_count": 19,
   "id": "a8659fc0",
   "metadata": {},
   "outputs": [
    {
     "data": {
      "text/plain": [
       "Name                    0\n",
       "Location                0\n",
       "Price                1053\n",
       "Year                    0\n",
       "Kilometers_Driven       0\n",
       "Fuel_Type               0\n",
       "Transmission            0\n",
       "Owner_Type              0\n",
       "Mileage(km/l)          83\n",
       "Engine(CC)             40\n",
       "Power(bhp)            136\n",
       "Seats                  53\n",
       "New_Price(Lakh)      6247\n",
       "dtype: int64"
      ]
     },
     "execution_count": 19,
     "metadata": {},
     "output_type": "execute_result"
    }
   ],
   "source": [
    "# 결측치 확인\n",
    "df.isnull().sum()"
   ]
  },
  {
   "cell_type": "markdown",
   "id": "581c01e4",
   "metadata": {},
   "source": [
    "* 175개의 결측값 중 39개 보간"
   ]
  },
  {
   "cell_type": "markdown",
   "id": "d520bd4f",
   "metadata": {},
   "source": [
    "### Seats"
   ]
  },
  {
   "cell_type": "code",
   "execution_count": 20,
   "id": "e1a5c270",
   "metadata": {},
   "outputs": [],
   "source": [
    "NPN = df[df['Seats'].isnull() == True]['Name']\n",
    "NP = df[df['Seats'].isnull() == False]['Name']"
   ]
  },
  {
   "cell_type": "code",
   "execution_count": 21,
   "id": "72ee2eda",
   "metadata": {},
   "outputs": [
    {
     "name": "stdout",
     "output_type": "stream",
     "text": [
      "7\n"
     ]
    }
   ],
   "source": [
    "overlap_cars = NPN[NPN.isin(NP)]\n",
    "\n",
    "# Mileage(km/l)가 모델명을 새로운 시리즈에 담기\n",
    "new_series = pd.Series(overlap_cars)\n",
    "\n",
    "# 결과 출력\n",
    "print(len(new_series))"
   ]
  },
  {
   "cell_type": "code",
   "execution_count": 22,
   "id": "a9d5944e",
   "metadata": {},
   "outputs": [],
   "source": [
    "# 동일한 'Name'을 가진 행의 'Power(bhp)' 값을 복사하여 결측치가 있는 행에 넣습니다.\n",
    "for car_name in overlap_cars:\n",
    "    # 결측치가 있는 행에서 해당 차량의 인덱스를 가져옵니다.\n",
    "    np_idx = df[(df['Name'] == car_name) & ~df['Seats'].isnull()].index\n",
    "    npower = df.loc[np_idx, 'Seats'].values[0]\n",
    "    \n",
    "    # 결측치가 있는 행에서 해당 차량의 인덱스를 가져와 'Power(bhp)' 값을 대체합니다.\n",
    "    df.loc[df['Name'] == car_name, 'Seats'] = npower"
   ]
  },
  {
   "cell_type": "code",
   "execution_count": 23,
   "id": "ea677a67",
   "metadata": {},
   "outputs": [
    {
     "data": {
      "text/plain": [
       "Name                    0\n",
       "Location                0\n",
       "Price                1053\n",
       "Year                    0\n",
       "Kilometers_Driven       0\n",
       "Fuel_Type               0\n",
       "Transmission            0\n",
       "Owner_Type              0\n",
       "Mileage(km/l)          83\n",
       "Engine(CC)             40\n",
       "Power(bhp)            136\n",
       "Seats                  46\n",
       "New_Price(Lakh)      6247\n",
       "dtype: int64"
      ]
     },
     "execution_count": 23,
     "metadata": {},
     "output_type": "execute_result"
    }
   ],
   "source": [
    "# 결측치 확인\n",
    "df.isnull().sum()"
   ]
  },
  {
   "cell_type": "markdown",
   "id": "ccf21a71",
   "metadata": {},
   "source": [
    "* 53개의 결측값 중 7개 보간"
   ]
  },
  {
   "cell_type": "markdown",
   "id": "9db9f346",
   "metadata": {},
   "source": [
    "### New_Price(Lakh)"
   ]
  },
  {
   "cell_type": "code",
   "execution_count": 24,
   "id": "479e0162",
   "metadata": {},
   "outputs": [],
   "source": [
    "NPN = df[df['New_Price(Lakh)'].isnull() == True]['Name']\n",
    "NP = df[df['New_Price(Lakh)'].isnull() == False]['Name']"
   ]
  },
  {
   "cell_type": "code",
   "execution_count": 25,
   "id": "f6cbbe7f",
   "metadata": {},
   "outputs": [
    {
     "name": "stdout",
     "output_type": "stream",
     "text": [
      "227\n"
     ]
    }
   ],
   "source": [
    "overlap_cars = NPN[NPN.isin(NP)]\n",
    "\n",
    "# Mileage(km/l)가 모델명을 새로운 시리즈에 담기\n",
    "new_series = pd.Series(overlap_cars)\n",
    "\n",
    "# 결과 출력\n",
    "print(len(new_series))"
   ]
  },
  {
   "cell_type": "code",
   "execution_count": 26,
   "id": "a733014f",
   "metadata": {},
   "outputs": [],
   "source": [
    "# 동일한 'Name'을 가진 행의 'Power(bhp)' 값을 복사하여 결측치가 있는 행에 넣습니다.\n",
    "for car_name in overlap_cars:\n",
    "    # 결측치가 있는 행에서 해당 차량의 인덱스를 가져옵니다.\n",
    "    np_idx = df[(df['Name'] == car_name) & ~df['New_Price(Lakh)'].isnull()].index\n",
    "    npower = df.loc[np_idx, 'New_Price(Lakh)'].values[0]\n",
    "    \n",
    "    # 결측치가 있는 행에서 해당 차량의 인덱스를 가져와 'Power(bhp)' 값을 대체합니다.\n",
    "    df.loc[df['Name'] == car_name, 'New_Price(Lakh)'] = npower"
   ]
  },
  {
   "cell_type": "code",
   "execution_count": 27,
   "id": "f4b60b1b",
   "metadata": {
    "scrolled": true
   },
   "outputs": [
    {
     "data": {
      "text/plain": [
       "Name                    0\n",
       "Location                0\n",
       "Price                1053\n",
       "Year                    0\n",
       "Kilometers_Driven       0\n",
       "Fuel_Type               0\n",
       "Transmission            0\n",
       "Owner_Type              0\n",
       "Mileage(km/l)          83\n",
       "Engine(CC)             40\n",
       "Power(bhp)            136\n",
       "Seats                  46\n",
       "New_Price(Lakh)      6020\n",
       "dtype: int64"
      ]
     },
     "execution_count": 27,
     "metadata": {},
     "output_type": "execute_result"
    }
   ],
   "source": [
    "# 결측치 확인\n",
    "df.isnull().sum()"
   ]
  },
  {
   "cell_type": "markdown",
   "id": "2517250c",
   "metadata": {},
   "source": [
    "* 6247개의 결측값 중 227개 보간"
   ]
  },
  {
   "cell_type": "markdown",
   "id": "fa55445d",
   "metadata": {},
   "source": [
    "## 결측치 처리"
   ]
  },
  {
   "cell_type": "code",
   "execution_count": 28,
   "id": "daafe9aa",
   "metadata": {
    "scrolled": false
   },
   "outputs": [
    {
     "data": {
      "text/plain": [
       "Name                    0\n",
       "Location                0\n",
       "Price                1053\n",
       "Year                    0\n",
       "Kilometers_Driven       0\n",
       "Fuel_Type               0\n",
       "Transmission            0\n",
       "Owner_Type              0\n",
       "Mileage(km/l)          83\n",
       "Engine(CC)             40\n",
       "Power(bhp)            136\n",
       "Seats                  46\n",
       "New_Price(Lakh)      6020\n",
       "dtype: int64"
      ]
     },
     "execution_count": 28,
     "metadata": {},
     "output_type": "execute_result"
    }
   ],
   "source": [
    "df.isnull().sum()"
   ]
  },
  {
   "cell_type": "code",
   "execution_count": 29,
   "id": "bd2b2ef7",
   "metadata": {
    "scrolled": true
   },
   "outputs": [
    {
     "data": {
      "text/plain": [
       "(7253, 13)"
      ]
     },
     "execution_count": 29,
     "metadata": {},
     "output_type": "execute_result"
    }
   ],
   "source": [
    "# Data shape 확인\n",
    "df.shape"
   ]
  },
  {
   "cell_type": "code",
   "execution_count": 30,
   "id": "52f7bc6c",
   "metadata": {},
   "outputs": [
    {
     "name": "stdout",
     "output_type": "stream",
     "text": [
      "New_Price(Lakh)컬럼의 결측치 비율 : 83.00013787398318%\n"
     ]
    }
   ],
   "source": [
    "print(f'New_Price(Lakh)컬럼의 결측치 비율 : {6020/7253*100}%')"
   ]
  },
  {
   "cell_type": "code",
   "execution_count": 31,
   "id": "da330dab",
   "metadata": {},
   "outputs": [],
   "source": [
    "# 'New_Price(Lakh)'행 제외\n",
    "df = df.drop('New_Price(Lakh)', axis=1)"
   ]
  },
  {
   "cell_type": "markdown",
   "id": "75b89905",
   "metadata": {},
   "source": [
    "* 결측값이 0.83이므로 대체하기보다는 열 자체를 제외하기로 판단."
   ]
  },
  {
   "cell_type": "code",
   "execution_count": 32,
   "id": "1c480b36",
   "metadata": {
    "scrolled": false
   },
   "outputs": [
    {
     "data": {
      "text/plain": [
       "Name                    0\n",
       "Location                0\n",
       "Price                1053\n",
       "Year                    0\n",
       "Kilometers_Driven       0\n",
       "Fuel_Type               0\n",
       "Transmission            0\n",
       "Owner_Type              0\n",
       "Mileage(km/l)          83\n",
       "Engine(CC)             40\n",
       "Power(bhp)            136\n",
       "Seats                  46\n",
       "dtype: int64"
      ]
     },
     "execution_count": 32,
     "metadata": {},
     "output_type": "execute_result"
    }
   ],
   "source": [
    "df.isnull().sum()"
   ]
  },
  {
   "cell_type": "code",
   "execution_count": 33,
   "id": "a55e158e",
   "metadata": {
    "scrolled": true
   },
   "outputs": [
    {
     "data": {
      "text/html": [
       "<div>\n",
       "<style scoped>\n",
       "    .dataframe tbody tr th:only-of-type {\n",
       "        vertical-align: middle;\n",
       "    }\n",
       "\n",
       "    .dataframe tbody tr th {\n",
       "        vertical-align: top;\n",
       "    }\n",
       "\n",
       "    .dataframe thead th {\n",
       "        text-align: right;\n",
       "    }\n",
       "</style>\n",
       "<table border=\"1\" class=\"dataframe\">\n",
       "  <thead>\n",
       "    <tr style=\"text-align: right;\">\n",
       "      <th></th>\n",
       "      <th>Price</th>\n",
       "      <th>Year</th>\n",
       "      <th>Kilometers_Driven</th>\n",
       "      <th>Mileage(km/l)</th>\n",
       "      <th>Engine(CC)</th>\n",
       "      <th>Power(bhp)</th>\n",
       "      <th>Seats</th>\n",
       "    </tr>\n",
       "  </thead>\n",
       "  <tbody>\n",
       "    <tr>\n",
       "      <th>Price</th>\n",
       "      <td>1.000000</td>\n",
       "      <td>0.303140</td>\n",
       "      <td>-0.014603</td>\n",
       "      <td>-0.325996</td>\n",
       "      <td>0.640075</td>\n",
       "      <td>0.754943</td>\n",
       "      <td>0.052851</td>\n",
       "    </tr>\n",
       "    <tr>\n",
       "      <th>Year</th>\n",
       "      <td>0.303140</td>\n",
       "      <td>1.000000</td>\n",
       "      <td>-0.187859</td>\n",
       "      <td>0.301037</td>\n",
       "      <td>-0.054194</td>\n",
       "      <td>0.015409</td>\n",
       "      <td>0.008798</td>\n",
       "    </tr>\n",
       "    <tr>\n",
       "      <th>Kilometers_Driven</th>\n",
       "      <td>-0.014603</td>\n",
       "      <td>-0.187859</td>\n",
       "      <td>1.000000</td>\n",
       "      <td>-0.069449</td>\n",
       "      <td>0.094778</td>\n",
       "      <td>0.029445</td>\n",
       "      <td>0.090160</td>\n",
       "    </tr>\n",
       "    <tr>\n",
       "      <th>Mileage(km/l)</th>\n",
       "      <td>-0.325996</td>\n",
       "      <td>0.301037</td>\n",
       "      <td>-0.069449</td>\n",
       "      <td>1.000000</td>\n",
       "      <td>-0.645327</td>\n",
       "      <td>-0.550951</td>\n",
       "      <td>-0.348028</td>\n",
       "    </tr>\n",
       "    <tr>\n",
       "      <th>Engine(CC)</th>\n",
       "      <td>0.640075</td>\n",
       "      <td>-0.054194</td>\n",
       "      <td>0.094778</td>\n",
       "      <td>-0.645327</td>\n",
       "      <td>1.000000</td>\n",
       "      <td>0.859473</td>\n",
       "      <td>0.399333</td>\n",
       "    </tr>\n",
       "    <tr>\n",
       "      <th>Power(bhp)</th>\n",
       "      <td>0.754943</td>\n",
       "      <td>0.015409</td>\n",
       "      <td>0.029445</td>\n",
       "      <td>-0.550951</td>\n",
       "      <td>0.859473</td>\n",
       "      <td>1.000000</td>\n",
       "      <td>0.096774</td>\n",
       "    </tr>\n",
       "    <tr>\n",
       "      <th>Seats</th>\n",
       "      <td>0.052851</td>\n",
       "      <td>0.008798</td>\n",
       "      <td>0.090160</td>\n",
       "      <td>-0.348028</td>\n",
       "      <td>0.399333</td>\n",
       "      <td>0.096774</td>\n",
       "      <td>1.000000</td>\n",
       "    </tr>\n",
       "  </tbody>\n",
       "</table>\n",
       "</div>"
      ],
      "text/plain": [
       "                      Price      Year  Kilometers_Driven  Mileage(km/l)  \\\n",
       "Price              1.000000  0.303140          -0.014603      -0.325996   \n",
       "Year               0.303140  1.000000          -0.187859       0.301037   \n",
       "Kilometers_Driven -0.014603 -0.187859           1.000000      -0.069449   \n",
       "Mileage(km/l)     -0.325996  0.301037          -0.069449       1.000000   \n",
       "Engine(CC)         0.640075 -0.054194           0.094778      -0.645327   \n",
       "Power(bhp)         0.754943  0.015409           0.029445      -0.550951   \n",
       "Seats              0.052851  0.008798           0.090160      -0.348028   \n",
       "\n",
       "                   Engine(CC)  Power(bhp)     Seats  \n",
       "Price                0.640075    0.754943  0.052851  \n",
       "Year                -0.054194    0.015409  0.008798  \n",
       "Kilometers_Driven    0.094778    0.029445  0.090160  \n",
       "Mileage(km/l)       -0.645327   -0.550951 -0.348028  \n",
       "Engine(CC)           1.000000    0.859473  0.399333  \n",
       "Power(bhp)           0.859473    1.000000  0.096774  \n",
       "Seats                0.399333    0.096774  1.000000  "
      ]
     },
     "execution_count": 33,
     "metadata": {},
     "output_type": "execute_result"
    }
   ],
   "source": [
    "df.corr()"
   ]
  },
  {
   "cell_type": "code",
   "execution_count": 34,
   "id": "fbed45c8",
   "metadata": {},
   "outputs": [],
   "source": [
    "# KNN 보간을 위해 필요한 열 선택\n",
    "columns_to_interpolate = ['Mileage(km/l)', 'Engine(CC)', 'Power(bhp)', 'Seats']\n",
    "KKK = []\n",
    "# 표준화를 위해 StandardScaler 사용\n",
    "scaler = StandardScaler()\n",
    "df[columns_to_interpolate] = scaler.fit_transform(df[columns_to_interpolate])\n",
    "\n",
    "# KNN 보간 수행\n",
    "imputer = KNNImputer(n_neighbors=5)\n",
    "df[columns_to_interpolate] = imputer.fit_transform(df[columns_to_interpolate])\n",
    "\n",
    "# 보간된 데이터를 표준화된 스케일에서 원래 스케일로 변환\n",
    "df[columns_to_interpolate] = scaler.inverse_transform(df[columns_to_interpolate])"
   ]
  },
  {
   "cell_type": "markdown",
   "id": "9c7a66c5",
   "metadata": {},
   "source": [
    "* 'Mileage(km/l)','Engine(CC)','Power(bhp)','Seats'컬럼들간의 상관성 확인 후 KNN평균값으로 결측치 대체"
   ]
  },
  {
   "cell_type": "code",
   "execution_count": 35,
   "id": "d1bd023d",
   "metadata": {},
   "outputs": [
    {
     "data": {
      "text/plain": [
       "Name                    0\n",
       "Location                0\n",
       "Price                1053\n",
       "Year                    0\n",
       "Kilometers_Driven       0\n",
       "Fuel_Type               0\n",
       "Transmission            0\n",
       "Owner_Type              0\n",
       "Mileage(km/l)           0\n",
       "Engine(CC)              0\n",
       "Power(bhp)              0\n",
       "Seats                   0\n",
       "dtype: int64"
      ]
     },
     "execution_count": 35,
     "metadata": {},
     "output_type": "execute_result"
    }
   ],
   "source": [
    "df.isnull().sum()"
   ]
  },
  {
   "cell_type": "code",
   "execution_count": 36,
   "id": "c9a371cf",
   "metadata": {},
   "outputs": [],
   "source": [
    "# Price(목표변수) 결측 행 제거\n",
    "df.dropna(inplace=True)"
   ]
  },
  {
   "cell_type": "code",
   "execution_count": 37,
   "id": "88e3809d",
   "metadata": {
    "scrolled": false
   },
   "outputs": [
    {
     "data": {
      "text/plain": [
       "(6200, 12)"
      ]
     },
     "execution_count": 37,
     "metadata": {},
     "output_type": "execute_result"
    }
   ],
   "source": [
    "# 인덱스 초기화\n",
    "df.reset_index(drop=True, inplace=True)\n",
    "df.shape"
   ]
  },
  {
   "cell_type": "markdown",
   "id": "79f1533b",
   "metadata": {},
   "source": [
    "## 파생변수 생성"
   ]
  },
  {
   "cell_type": "code",
   "execution_count": 38,
   "id": "672fd1ef",
   "metadata": {},
   "outputs": [
    {
     "data": {
      "text/html": [
       "<div>\n",
       "<style scoped>\n",
       "    .dataframe tbody tr th:only-of-type {\n",
       "        vertical-align: middle;\n",
       "    }\n",
       "\n",
       "    .dataframe tbody tr th {\n",
       "        vertical-align: top;\n",
       "    }\n",
       "\n",
       "    .dataframe thead th {\n",
       "        text-align: right;\n",
       "    }\n",
       "</style>\n",
       "<table border=\"1\" class=\"dataframe\">\n",
       "  <thead>\n",
       "    <tr style=\"text-align: right;\">\n",
       "      <th></th>\n",
       "      <th>Name</th>\n",
       "      <th>Location</th>\n",
       "      <th>Price</th>\n",
       "      <th>Year</th>\n",
       "      <th>Kilometers_Driven</th>\n",
       "      <th>Fuel_Type</th>\n",
       "      <th>Transmission</th>\n",
       "      <th>Owner_Type</th>\n",
       "      <th>Mileage(km/l)</th>\n",
       "      <th>Engine(CC)</th>\n",
       "      <th>Power(bhp)</th>\n",
       "      <th>Seats</th>\n",
       "      <th>Brand</th>\n",
       "    </tr>\n",
       "  </thead>\n",
       "  <tbody>\n",
       "    <tr>\n",
       "      <th>0</th>\n",
       "      <td>Maruti Wagon R LXI CNG</td>\n",
       "      <td>Mumbai</td>\n",
       "      <td>2682.68</td>\n",
       "      <td>2010</td>\n",
       "      <td>72000</td>\n",
       "      <td>CNG</td>\n",
       "      <td>Manual</td>\n",
       "      <td>First</td>\n",
       "      <td>26.60</td>\n",
       "      <td>998.0</td>\n",
       "      <td>58.16</td>\n",
       "      <td>5.0</td>\n",
       "      <td>Maruti</td>\n",
       "    </tr>\n",
       "    <tr>\n",
       "      <th>1</th>\n",
       "      <td>Hyundai Creta 1.6 CRDi SX Option</td>\n",
       "      <td>Pune</td>\n",
       "      <td>19162.00</td>\n",
       "      <td>2015</td>\n",
       "      <td>41000</td>\n",
       "      <td>Diesel</td>\n",
       "      <td>Manual</td>\n",
       "      <td>First</td>\n",
       "      <td>19.67</td>\n",
       "      <td>1582.0</td>\n",
       "      <td>126.20</td>\n",
       "      <td>5.0</td>\n",
       "      <td>Hyundai</td>\n",
       "    </tr>\n",
       "    <tr>\n",
       "      <th>2</th>\n",
       "      <td>Honda Jazz V</td>\n",
       "      <td>Chennai</td>\n",
       "      <td>6898.32</td>\n",
       "      <td>2011</td>\n",
       "      <td>46000</td>\n",
       "      <td>Petrol</td>\n",
       "      <td>Manual</td>\n",
       "      <td>First</td>\n",
       "      <td>18.20</td>\n",
       "      <td>1199.0</td>\n",
       "      <td>88.70</td>\n",
       "      <td>5.0</td>\n",
       "      <td>Honda</td>\n",
       "    </tr>\n",
       "    <tr>\n",
       "      <th>3</th>\n",
       "      <td>Maruti Ertiga VDI</td>\n",
       "      <td>Chennai</td>\n",
       "      <td>9197.76</td>\n",
       "      <td>2012</td>\n",
       "      <td>87000</td>\n",
       "      <td>Diesel</td>\n",
       "      <td>Manual</td>\n",
       "      <td>First</td>\n",
       "      <td>20.77</td>\n",
       "      <td>1248.0</td>\n",
       "      <td>88.76</td>\n",
       "      <td>7.0</td>\n",
       "      <td>Maruti</td>\n",
       "    </tr>\n",
       "    <tr>\n",
       "      <th>4</th>\n",
       "      <td>Audi A4 New 2.0 TDI Multitronic</td>\n",
       "      <td>Coimbatore</td>\n",
       "      <td>27194.71</td>\n",
       "      <td>2013</td>\n",
       "      <td>40670</td>\n",
       "      <td>Diesel</td>\n",
       "      <td>Automatic</td>\n",
       "      <td>Second</td>\n",
       "      <td>15.20</td>\n",
       "      <td>1968.0</td>\n",
       "      <td>140.80</td>\n",
       "      <td>5.0</td>\n",
       "      <td>Audi</td>\n",
       "    </tr>\n",
       "  </tbody>\n",
       "</table>\n",
       "</div>"
      ],
      "text/plain": [
       "                               Name    Location     Price  Year  \\\n",
       "0            Maruti Wagon R LXI CNG      Mumbai   2682.68  2010   \n",
       "1  Hyundai Creta 1.6 CRDi SX Option        Pune  19162.00  2015   \n",
       "2                      Honda Jazz V     Chennai   6898.32  2011   \n",
       "3                 Maruti Ertiga VDI     Chennai   9197.76  2012   \n",
       "4   Audi A4 New 2.0 TDI Multitronic  Coimbatore  27194.71  2013   \n",
       "\n",
       "   Kilometers_Driven Fuel_Type Transmission Owner_Type  Mileage(km/l)  \\\n",
       "0              72000       CNG       Manual      First          26.60   \n",
       "1              41000    Diesel       Manual      First          19.67   \n",
       "2              46000    Petrol       Manual      First          18.20   \n",
       "3              87000    Diesel       Manual      First          20.77   \n",
       "4              40670    Diesel    Automatic     Second          15.20   \n",
       "\n",
       "   Engine(CC)  Power(bhp)  Seats    Brand  \n",
       "0       998.0       58.16    5.0   Maruti  \n",
       "1      1582.0      126.20    5.0  Hyundai  \n",
       "2      1199.0       88.70    5.0    Honda  \n",
       "3      1248.0       88.76    7.0   Maruti  \n",
       "4      1968.0      140.80    5.0     Audi  "
      ]
     },
     "execution_count": 38,
     "metadata": {},
     "output_type": "execute_result"
    }
   ],
   "source": [
    "# 브랜드명 컬럼 생성\n",
    "df['Brand'] = df['Name'].str.split().str[0]\n",
    "df.head()"
   ]
  },
  {
   "cell_type": "code",
   "execution_count": 39,
   "id": "2b690b9a",
   "metadata": {},
   "outputs": [],
   "source": [
    "# 브랜드별 국적 라벨링\n",
    "nationality_mapping = {\n",
    "    'Maruti': '인도',\n",
    "    'Hyundai': '한국',\n",
    "    'Honda': '일본',\n",
    "    'Toyota': '일본',\n",
    "    'Mercedes-Benz': '독일',\n",
    "    'Volkswagen': '독일',\n",
    "    'Ford': '미국',\n",
    "    'Mahindra': '인도',\n",
    "    'BMW': '독일',\n",
    "    'Audi': '독일',\n",
    "    'Tata': '인도',\n",
    "    'Skoda': '체코',\n",
    "    'Renault': '프랑스',\n",
    "    'Chevrolet': '미국',\n",
    "    'Nissan': '일본',\n",
    "    'Land': '영국',\n",
    "    'Jaguar': '영국',\n",
    "    'Fiat': '이탈리아',\n",
    "    'Mitsubishi': '일본',\n",
    "    'Mini': '영국',\n",
    "    'Volvo': '스웨덴',\n",
    "    'Porsche': '독일',\n",
    "    'Jeep': '미국',\n",
    "    'Datsun': '일본',\n",
    "    'ISUZU': '일본',\n",
    "    'Force': '인도',\n",
    "    'Bentley': '영국',\n",
    "    'Smart': '독일',\n",
    "    'Ambassador': '인도',\n",
    "    'Lamborghini': '이탈리아',\n",
    "    'Hindustan': '인도',\n",
    "    'OpelCorsa': '독일'\n",
    "}"
   ]
  },
  {
   "cell_type": "code",
   "execution_count": 40,
   "id": "9ea527ea",
   "metadata": {},
   "outputs": [],
   "source": [
    "df['Nationality'] = df['Brand'].map(nationality_mapping)"
   ]
  },
  {
   "cell_type": "code",
   "execution_count": 41,
   "id": "5dd4efb7",
   "metadata": {},
   "outputs": [
    {
     "data": {
      "text/html": [
       "<div>\n",
       "<style scoped>\n",
       "    .dataframe tbody tr th:only-of-type {\n",
       "        vertical-align: middle;\n",
       "    }\n",
       "\n",
       "    .dataframe tbody tr th {\n",
       "        vertical-align: top;\n",
       "    }\n",
       "\n",
       "    .dataframe thead th {\n",
       "        text-align: right;\n",
       "    }\n",
       "</style>\n",
       "<table border=\"1\" class=\"dataframe\">\n",
       "  <thead>\n",
       "    <tr style=\"text-align: right;\">\n",
       "      <th></th>\n",
       "      <th>Name</th>\n",
       "      <th>Location</th>\n",
       "      <th>Price</th>\n",
       "      <th>Year</th>\n",
       "      <th>Kilometers_Driven</th>\n",
       "      <th>Fuel_Type</th>\n",
       "      <th>Transmission</th>\n",
       "      <th>Owner_Type</th>\n",
       "      <th>Mileage(km/l)</th>\n",
       "      <th>Engine(CC)</th>\n",
       "      <th>Power(bhp)</th>\n",
       "      <th>Seats</th>\n",
       "      <th>Brand</th>\n",
       "      <th>Nationality</th>\n",
       "    </tr>\n",
       "  </thead>\n",
       "  <tbody>\n",
       "    <tr>\n",
       "      <th>0</th>\n",
       "      <td>Maruti Wagon R LXI CNG</td>\n",
       "      <td>Mumbai</td>\n",
       "      <td>2682.68</td>\n",
       "      <td>2010</td>\n",
       "      <td>72000</td>\n",
       "      <td>CNG</td>\n",
       "      <td>Manual</td>\n",
       "      <td>First</td>\n",
       "      <td>26.60</td>\n",
       "      <td>998.0</td>\n",
       "      <td>58.16</td>\n",
       "      <td>5.0</td>\n",
       "      <td>Maruti</td>\n",
       "      <td>인도</td>\n",
       "    </tr>\n",
       "    <tr>\n",
       "      <th>1</th>\n",
       "      <td>Hyundai Creta 1.6 CRDi SX Option</td>\n",
       "      <td>Pune</td>\n",
       "      <td>19162.00</td>\n",
       "      <td>2015</td>\n",
       "      <td>41000</td>\n",
       "      <td>Diesel</td>\n",
       "      <td>Manual</td>\n",
       "      <td>First</td>\n",
       "      <td>19.67</td>\n",
       "      <td>1582.0</td>\n",
       "      <td>126.20</td>\n",
       "      <td>5.0</td>\n",
       "      <td>Hyundai</td>\n",
       "      <td>한국</td>\n",
       "    </tr>\n",
       "    <tr>\n",
       "      <th>2</th>\n",
       "      <td>Honda Jazz V</td>\n",
       "      <td>Chennai</td>\n",
       "      <td>6898.32</td>\n",
       "      <td>2011</td>\n",
       "      <td>46000</td>\n",
       "      <td>Petrol</td>\n",
       "      <td>Manual</td>\n",
       "      <td>First</td>\n",
       "      <td>18.20</td>\n",
       "      <td>1199.0</td>\n",
       "      <td>88.70</td>\n",
       "      <td>5.0</td>\n",
       "      <td>Honda</td>\n",
       "      <td>일본</td>\n",
       "    </tr>\n",
       "    <tr>\n",
       "      <th>3</th>\n",
       "      <td>Maruti Ertiga VDI</td>\n",
       "      <td>Chennai</td>\n",
       "      <td>9197.76</td>\n",
       "      <td>2012</td>\n",
       "      <td>87000</td>\n",
       "      <td>Diesel</td>\n",
       "      <td>Manual</td>\n",
       "      <td>First</td>\n",
       "      <td>20.77</td>\n",
       "      <td>1248.0</td>\n",
       "      <td>88.76</td>\n",
       "      <td>7.0</td>\n",
       "      <td>Maruti</td>\n",
       "      <td>인도</td>\n",
       "    </tr>\n",
       "    <tr>\n",
       "      <th>4</th>\n",
       "      <td>Audi A4 New 2.0 TDI Multitronic</td>\n",
       "      <td>Coimbatore</td>\n",
       "      <td>27194.71</td>\n",
       "      <td>2013</td>\n",
       "      <td>40670</td>\n",
       "      <td>Diesel</td>\n",
       "      <td>Automatic</td>\n",
       "      <td>Second</td>\n",
       "      <td>15.20</td>\n",
       "      <td>1968.0</td>\n",
       "      <td>140.80</td>\n",
       "      <td>5.0</td>\n",
       "      <td>Audi</td>\n",
       "      <td>독일</td>\n",
       "    </tr>\n",
       "  </tbody>\n",
       "</table>\n",
       "</div>"
      ],
      "text/plain": [
       "                               Name    Location     Price  Year  \\\n",
       "0            Maruti Wagon R LXI CNG      Mumbai   2682.68  2010   \n",
       "1  Hyundai Creta 1.6 CRDi SX Option        Pune  19162.00  2015   \n",
       "2                      Honda Jazz V     Chennai   6898.32  2011   \n",
       "3                 Maruti Ertiga VDI     Chennai   9197.76  2012   \n",
       "4   Audi A4 New 2.0 TDI Multitronic  Coimbatore  27194.71  2013   \n",
       "\n",
       "   Kilometers_Driven Fuel_Type Transmission Owner_Type  Mileage(km/l)  \\\n",
       "0              72000       CNG       Manual      First          26.60   \n",
       "1              41000    Diesel       Manual      First          19.67   \n",
       "2              46000    Petrol       Manual      First          18.20   \n",
       "3              87000    Diesel       Manual      First          20.77   \n",
       "4              40670    Diesel    Automatic     Second          15.20   \n",
       "\n",
       "   Engine(CC)  Power(bhp)  Seats    Brand Nationality  \n",
       "0       998.0       58.16    5.0   Maruti          인도  \n",
       "1      1582.0      126.20    5.0  Hyundai          한국  \n",
       "2      1199.0       88.70    5.0    Honda          일본  \n",
       "3      1248.0       88.76    7.0   Maruti          인도  \n",
       "4      1968.0      140.80    5.0     Audi          독일  "
      ]
     },
     "execution_count": 41,
     "metadata": {},
     "output_type": "execute_result"
    }
   ],
   "source": [
    "df.head()"
   ]
  },
  {
   "cell_type": "markdown",
   "id": "e445bef0",
   "metadata": {},
   "source": [
    "Owner_Type 변수 수치화"
   ]
  },
  {
   "cell_type": "code",
   "execution_count": 52,
   "id": "bab9e429",
   "metadata": {},
   "outputs": [
    {
     "data": {
      "text/html": [
       "<div>\n",
       "<style scoped>\n",
       "    .dataframe tbody tr th:only-of-type {\n",
       "        vertical-align: middle;\n",
       "    }\n",
       "\n",
       "    .dataframe tbody tr th {\n",
       "        vertical-align: top;\n",
       "    }\n",
       "\n",
       "    .dataframe thead th {\n",
       "        text-align: right;\n",
       "    }\n",
       "</style>\n",
       "<table border=\"1\" class=\"dataframe\">\n",
       "  <thead>\n",
       "    <tr style=\"text-align: right;\">\n",
       "      <th></th>\n",
       "      <th>level_0</th>\n",
       "      <th>index</th>\n",
       "      <th>Name</th>\n",
       "      <th>Location</th>\n",
       "      <th>Price</th>\n",
       "      <th>Year</th>\n",
       "      <th>Kilometers_Driven</th>\n",
       "      <th>Fuel_Type</th>\n",
       "      <th>Transmission</th>\n",
       "      <th>Owner_Type</th>\n",
       "      <th>Mileage(km/l)</th>\n",
       "      <th>Engine(CC)</th>\n",
       "      <th>Power(bhp)</th>\n",
       "      <th>Seats</th>\n",
       "      <th>Brand</th>\n",
       "      <th>Nationality</th>\n",
       "    </tr>\n",
       "  </thead>\n",
       "  <tbody>\n",
       "    <tr>\n",
       "      <th>0</th>\n",
       "      <td>0</td>\n",
       "      <td>0</td>\n",
       "      <td>Maruti Wagon R LXI CNG</td>\n",
       "      <td>Mumbai</td>\n",
       "      <td>2682.68</td>\n",
       "      <td>2010</td>\n",
       "      <td>72000</td>\n",
       "      <td>CNG</td>\n",
       "      <td>Manual</td>\n",
       "      <td>1</td>\n",
       "      <td>26.60</td>\n",
       "      <td>998.0</td>\n",
       "      <td>58.16</td>\n",
       "      <td>5.0</td>\n",
       "      <td>Maruti</td>\n",
       "      <td>인도</td>\n",
       "    </tr>\n",
       "    <tr>\n",
       "      <th>1</th>\n",
       "      <td>1</td>\n",
       "      <td>1</td>\n",
       "      <td>Hyundai Creta 1.6 CRDi SX Option</td>\n",
       "      <td>Pune</td>\n",
       "      <td>19162.00</td>\n",
       "      <td>2015</td>\n",
       "      <td>41000</td>\n",
       "      <td>Diesel</td>\n",
       "      <td>Manual</td>\n",
       "      <td>1</td>\n",
       "      <td>19.67</td>\n",
       "      <td>1582.0</td>\n",
       "      <td>126.20</td>\n",
       "      <td>5.0</td>\n",
       "      <td>Hyundai</td>\n",
       "      <td>한국</td>\n",
       "    </tr>\n",
       "    <tr>\n",
       "      <th>2</th>\n",
       "      <td>2</td>\n",
       "      <td>2</td>\n",
       "      <td>Honda Jazz V</td>\n",
       "      <td>Chennai</td>\n",
       "      <td>6898.32</td>\n",
       "      <td>2011</td>\n",
       "      <td>46000</td>\n",
       "      <td>Petrol</td>\n",
       "      <td>Manual</td>\n",
       "      <td>1</td>\n",
       "      <td>18.20</td>\n",
       "      <td>1199.0</td>\n",
       "      <td>88.70</td>\n",
       "      <td>5.0</td>\n",
       "      <td>Honda</td>\n",
       "      <td>일본</td>\n",
       "    </tr>\n",
       "    <tr>\n",
       "      <th>3</th>\n",
       "      <td>3</td>\n",
       "      <td>3</td>\n",
       "      <td>Maruti Ertiga VDI</td>\n",
       "      <td>Chennai</td>\n",
       "      <td>9197.76</td>\n",
       "      <td>2012</td>\n",
       "      <td>87000</td>\n",
       "      <td>Diesel</td>\n",
       "      <td>Manual</td>\n",
       "      <td>1</td>\n",
       "      <td>20.77</td>\n",
       "      <td>1248.0</td>\n",
       "      <td>88.76</td>\n",
       "      <td>7.0</td>\n",
       "      <td>Maruti</td>\n",
       "      <td>인도</td>\n",
       "    </tr>\n",
       "    <tr>\n",
       "      <th>4</th>\n",
       "      <td>4</td>\n",
       "      <td>4</td>\n",
       "      <td>Audi A4 New 2.0 TDI Multitronic</td>\n",
       "      <td>Coimbatore</td>\n",
       "      <td>27194.71</td>\n",
       "      <td>2013</td>\n",
       "      <td>40670</td>\n",
       "      <td>Diesel</td>\n",
       "      <td>Automatic</td>\n",
       "      <td>2</td>\n",
       "      <td>15.20</td>\n",
       "      <td>1968.0</td>\n",
       "      <td>140.80</td>\n",
       "      <td>5.0</td>\n",
       "      <td>Audi</td>\n",
       "      <td>독일</td>\n",
       "    </tr>\n",
       "  </tbody>\n",
       "</table>\n",
       "</div>"
      ],
      "text/plain": [
       "   level_0  index                              Name    Location     Price  \\\n",
       "0        0      0            Maruti Wagon R LXI CNG      Mumbai   2682.68   \n",
       "1        1      1  Hyundai Creta 1.6 CRDi SX Option        Pune  19162.00   \n",
       "2        2      2                      Honda Jazz V     Chennai   6898.32   \n",
       "3        3      3                 Maruti Ertiga VDI     Chennai   9197.76   \n",
       "4        4      4   Audi A4 New 2.0 TDI Multitronic  Coimbatore  27194.71   \n",
       "\n",
       "   Year  Kilometers_Driven Fuel_Type Transmission  Owner_Type  Mileage(km/l)  \\\n",
       "0  2010              72000       CNG       Manual           1          26.60   \n",
       "1  2015              41000    Diesel       Manual           1          19.67   \n",
       "2  2011              46000    Petrol       Manual           1          18.20   \n",
       "3  2012              87000    Diesel       Manual           1          20.77   \n",
       "4  2013              40670    Diesel    Automatic           2          15.20   \n",
       "\n",
       "   Engine(CC)  Power(bhp)  Seats    Brand Nationality  \n",
       "0       998.0       58.16    5.0   Maruti          인도  \n",
       "1      1582.0      126.20    5.0  Hyundai          한국  \n",
       "2      1199.0       88.70    5.0    Honda          일본  \n",
       "3      1248.0       88.76    7.0   Maruti          인도  \n",
       "4      1968.0      140.80    5.0     Audi          독일  "
      ]
     },
     "execution_count": 52,
     "metadata": {},
     "output_type": "execute_result"
    }
   ],
   "source": [
    "df['Owner_Type']=df['Owner_Type'].replace('First', 1)\n",
    "df['Owner_Type']=df['Owner_Type'].replace('Second', 2)\n",
    "df['Owner_Type']=df['Owner_Type'].replace('Third', 3)\n",
    "df['Owner_Type']=df['Owner_Type'].replace('Fourth & Above', 4)\n",
    "df.head()"
   ]
  },
  {
   "cell_type": "markdown",
   "id": "e92ca2e9",
   "metadata": {},
   "source": [
    "#### Boxplot을 활용한 이상치 확인"
   ]
  },
  {
   "cell_type": "code",
   "execution_count": 43,
   "id": "d23424a8",
   "metadata": {},
   "outputs": [
    {
     "data": {
      "image/png": "[encoded data removed]",
      "text/plain": [
       "<Figure size 1200x800 with 8 Axes>"
      ]
     },
     "metadata": {},
     "output_type": "display_data"
    }
   ],
   "source": [
    "# 박스플롯 그리기\n",
    "plt.figure(figsize=(12, 8))  # 그래프의 크기 설정\n",
    "\n",
    "# 숫자형 열 선택\n",
    "numeric_cols = df.select_dtypes(include=['float64', 'int64']).columns\n",
    "\n",
    "# 박스플롯 그리기\n",
    "num_plots = len(numeric_cols)\n",
    "n_rows = 2\n",
    "n_cols = (num_plots + 1) // 2  # 열의 수를 설정\n",
    "\n",
    "for i, col in enumerate(numeric_cols, 1):\n",
    "    plt.subplot(n_rows, n_cols, i)  # 그래프 레이아웃 설정\n",
    "    plt.boxplot(df[col], whis=1.5)\n",
    "    plt.title(col)\n",
    "    plt.grid(True)\n",
    "\n",
    "plt.tight_layout()  # 그래프 간의 간격 조절\n",
    "plt.show()  # 그래프 표시"
   ]
  },
  {
   "cell_type": "markdown",
   "id": "b29d33d0",
   "metadata": {},
   "source": [
    "* 자동종는 브랜드별 가종별로 그 편차가 크기 때문에 1.5IQR수염으로는 이상치를 판단하기 어려움"
   ]
  },
  {
   "cell_type": "code",
   "execution_count": 44,
   "id": "343d837a",
   "metadata": {},
   "outputs": [
    {
     "data": {
      "image/png": "[encoded data removed]",
      "text/plain": [
       "<Figure size 1200x800 with 8 Axes>"
      ]
     },
     "metadata": {},
     "output_type": "display_data"
    }
   ],
   "source": [
    "# 히스토그램 그리기\n",
    "plt.figure(figsize=(12, 8))  # 그래프의 크기 설정\n",
    "\n",
    "# 숫자형 열 선택\n",
    "numeric_cols = df.select_dtypes(include=['float64', 'int64']).columns\n",
    "\n",
    "# 히스토그램 그리기\n",
    "num_plots = len(numeric_cols)\n",
    "n_rows = 2\n",
    "n_cols = (num_plots + 1) // 2  # 열의 수를 설정\n",
    "\n",
    "for i, col in enumerate(numeric_cols, 1):\n",
    "    plt.subplot(n_rows, n_cols, i)  # 그래프 레이아웃 설정\n",
    "    plt.hist(df[col], bins=50)\n",
    "    plt.title(col)\n",
    "    plt.grid(True)\n",
    "\n",
    "plt.tight_layout()  # 그래프 간의 간격 조절\n",
    "plt.show()  # 그래프 표시"
   ]
  },
  {
   "cell_type": "code",
   "execution_count": 45,
   "id": "045e24e8",
   "metadata": {
    "scrolled": true
   },
   "outputs": [
    {
     "data": {
      "text/html": [
       "<div>\n",
       "<style scoped>\n",
       "    .dataframe tbody tr th:only-of-type {\n",
       "        vertical-align: middle;\n",
       "    }\n",
       "\n",
       "    .dataframe tbody tr th {\n",
       "        vertical-align: top;\n",
       "    }\n",
       "\n",
       "    .dataframe thead th {\n",
       "        text-align: right;\n",
       "    }\n",
       "</style>\n",
       "<table border=\"1\" class=\"dataframe\">\n",
       "  <thead>\n",
       "    <tr style=\"text-align: right;\">\n",
       "      <th></th>\n",
       "      <th>Name</th>\n",
       "      <th>Location</th>\n",
       "      <th>Price</th>\n",
       "      <th>Year</th>\n",
       "      <th>Kilometers_Driven</th>\n",
       "      <th>Fuel_Type</th>\n",
       "      <th>Transmission</th>\n",
       "      <th>Owner_Type</th>\n",
       "      <th>Mileage(km/l)</th>\n",
       "      <th>Engine(CC)</th>\n",
       "      <th>Power(bhp)</th>\n",
       "      <th>Seats</th>\n",
       "      <th>Brand</th>\n",
       "      <th>Nationality</th>\n",
       "    </tr>\n",
       "  </thead>\n",
       "  <tbody>\n",
       "    <tr>\n",
       "      <th>4079</th>\n",
       "      <td>Land Rover Range Rover 3.0 Diesel LWB Vogue</td>\n",
       "      <td>Hyderabad</td>\n",
       "      <td>245273.6</td>\n",
       "      <td>2017</td>\n",
       "      <td>25000</td>\n",
       "      <td>Diesel</td>\n",
       "      <td>Automatic</td>\n",
       "      <td>1</td>\n",
       "      <td>13.33</td>\n",
       "      <td>2993.0</td>\n",
       "      <td>255.0</td>\n",
       "      <td>5.0</td>\n",
       "      <td>Land</td>\n",
       "      <td>영국</td>\n",
       "    </tr>\n",
       "    <tr>\n",
       "      <th>5781</th>\n",
       "      <td>Lamborghini Gallardo Coupe</td>\n",
       "      <td>Delhi</td>\n",
       "      <td>183955.2</td>\n",
       "      <td>2011</td>\n",
       "      <td>6500</td>\n",
       "      <td>Petrol</td>\n",
       "      <td>Automatic</td>\n",
       "      <td>3</td>\n",
       "      <td>6.40</td>\n",
       "      <td>5204.0</td>\n",
       "      <td>560.0</td>\n",
       "      <td>2.0</td>\n",
       "      <td>Lamborghini</td>\n",
       "      <td>이탈리아</td>\n",
       "    </tr>\n",
       "    <tr>\n",
       "      <th>5919</th>\n",
       "      <td>Jaguar F Type 5.0 V8 S</td>\n",
       "      <td>Hyderabad</td>\n",
       "      <td>153296.0</td>\n",
       "      <td>2015</td>\n",
       "      <td>8000</td>\n",
       "      <td>Petrol</td>\n",
       "      <td>Automatic</td>\n",
       "      <td>1</td>\n",
       "      <td>12.50</td>\n",
       "      <td>5000.0</td>\n",
       "      <td>488.1</td>\n",
       "      <td>2.0</td>\n",
       "      <td>Jaguar</td>\n",
       "      <td>영국</td>\n",
       "    </tr>\n",
       "  </tbody>\n",
       "</table>\n",
       "</div>"
      ],
      "text/plain": [
       "                                             Name   Location     Price  Year  \\\n",
       "4079  Land Rover Range Rover 3.0 Diesel LWB Vogue  Hyderabad  245273.6  2017   \n",
       "5781                   Lamborghini Gallardo Coupe      Delhi  183955.2  2011   \n",
       "5919                       Jaguar F Type 5.0 V8 S  Hyderabad  153296.0  2015   \n",
       "\n",
       "      Kilometers_Driven Fuel_Type Transmission  Owner_Type  Mileage(km/l)  \\\n",
       "4079              25000    Diesel    Automatic           1          13.33   \n",
       "5781               6500    Petrol    Automatic           3           6.40   \n",
       "5919               8000    Petrol    Automatic           1          12.50   \n",
       "\n",
       "      Engine(CC)  Power(bhp)  Seats        Brand Nationality  \n",
       "4079      2993.0       255.0    5.0         Land          영국  \n",
       "5781      5204.0       560.0    2.0  Lamborghini        이탈리아  \n",
       "5919      5000.0       488.1    2.0       Jaguar          영국  "
      ]
     },
     "execution_count": 45,
     "metadata": {},
     "output_type": "execute_result"
    }
   ],
   "source": [
    "df[df['Price']>150000]"
   ]
  },
  {
   "cell_type": "markdown",
   "id": "f967b5c4",
   "metadata": {},
   "source": [
    "* 1.5억 이상의 기종 확인 결과 이상치가 아니라고 판단"
   ]
  },
  {
   "cell_type": "code",
   "execution_count": 46,
   "id": "547ba1a3",
   "metadata": {
    "scrolled": true
   },
   "outputs": [
    {
     "data": {
      "text/html": [
       "<div>\n",
       "<style scoped>\n",
       "    .dataframe tbody tr th:only-of-type {\n",
       "        vertical-align: middle;\n",
       "    }\n",
       "\n",
       "    .dataframe tbody tr th {\n",
       "        vertical-align: top;\n",
       "    }\n",
       "\n",
       "    .dataframe thead th {\n",
       "        text-align: right;\n",
       "    }\n",
       "</style>\n",
       "<table border=\"1\" class=\"dataframe\">\n",
       "  <thead>\n",
       "    <tr style=\"text-align: right;\">\n",
       "      <th></th>\n",
       "      <th>Name</th>\n",
       "      <th>Location</th>\n",
       "      <th>Price</th>\n",
       "      <th>Year</th>\n",
       "      <th>Kilometers_Driven</th>\n",
       "      <th>Fuel_Type</th>\n",
       "      <th>Transmission</th>\n",
       "      <th>Owner_Type</th>\n",
       "      <th>Mileage(km/l)</th>\n",
       "      <th>Engine(CC)</th>\n",
       "      <th>Power(bhp)</th>\n",
       "      <th>Seats</th>\n",
       "      <th>Brand</th>\n",
       "      <th>Nationality</th>\n",
       "    </tr>\n",
       "  </thead>\n",
       "  <tbody>\n",
       "    <tr>\n",
       "      <th>222</th>\n",
       "      <td>Maruti Wagon R LXI</td>\n",
       "      <td>Chennai</td>\n",
       "      <td>1916.20</td>\n",
       "      <td>2004</td>\n",
       "      <td>61000</td>\n",
       "      <td>Petrol</td>\n",
       "      <td>Manual</td>\n",
       "      <td>2</td>\n",
       "      <td>18.90</td>\n",
       "      <td>998.0</td>\n",
       "      <td>67.100</td>\n",
       "      <td>5.0</td>\n",
       "      <td>Maruti</td>\n",
       "      <td>인도</td>\n",
       "    </tr>\n",
       "    <tr>\n",
       "      <th>274</th>\n",
       "      <td>Maruti Zen VXI BSII</td>\n",
       "      <td>Mumbai</td>\n",
       "      <td>843.13</td>\n",
       "      <td>2002</td>\n",
       "      <td>60000</td>\n",
       "      <td>Petrol</td>\n",
       "      <td>Manual</td>\n",
       "      <td>3</td>\n",
       "      <td>17.30</td>\n",
       "      <td>993.0</td>\n",
       "      <td>60.000</td>\n",
       "      <td>5.0</td>\n",
       "      <td>Maruti</td>\n",
       "      <td>인도</td>\n",
       "    </tr>\n",
       "    <tr>\n",
       "      <th>315</th>\n",
       "      <td>Tata Sumo Delux</td>\n",
       "      <td>Hyderabad</td>\n",
       "      <td>2299.44</td>\n",
       "      <td>2000</td>\n",
       "      <td>158000</td>\n",
       "      <td>Diesel</td>\n",
       "      <td>Manual</td>\n",
       "      <td>2</td>\n",
       "      <td>14.07</td>\n",
       "      <td>2956.0</td>\n",
       "      <td>83.100</td>\n",
       "      <td>7.0</td>\n",
       "      <td>Tata</td>\n",
       "      <td>인도</td>\n",
       "    </tr>\n",
       "    <tr>\n",
       "      <th>336</th>\n",
       "      <td>Toyota Corolla H4</td>\n",
       "      <td>Chennai</td>\n",
       "      <td>3832.40</td>\n",
       "      <td>2004</td>\n",
       "      <td>105000</td>\n",
       "      <td>Petrol</td>\n",
       "      <td>Automatic</td>\n",
       "      <td>2</td>\n",
       "      <td>11.30</td>\n",
       "      <td>1794.0</td>\n",
       "      <td>125.000</td>\n",
       "      <td>5.0</td>\n",
       "      <td>Toyota</td>\n",
       "      <td>일본</td>\n",
       "    </tr>\n",
       "    <tr>\n",
       "      <th>364</th>\n",
       "      <td>Maruti Zen LX</td>\n",
       "      <td>Kolkata</td>\n",
       "      <td>996.42</td>\n",
       "      <td>2003</td>\n",
       "      <td>65000</td>\n",
       "      <td>Petrol</td>\n",
       "      <td>Manual</td>\n",
       "      <td>1</td>\n",
       "      <td>17.30</td>\n",
       "      <td>993.0</td>\n",
       "      <td>60.000</td>\n",
       "      <td>5.0</td>\n",
       "      <td>Maruti</td>\n",
       "      <td>인도</td>\n",
       "    </tr>\n",
       "    <tr>\n",
       "      <th>...</th>\n",
       "      <td>...</td>\n",
       "      <td>...</td>\n",
       "      <td>...</td>\n",
       "      <td>...</td>\n",
       "      <td>...</td>\n",
       "      <td>...</td>\n",
       "      <td>...</td>\n",
       "      <td>...</td>\n",
       "      <td>...</td>\n",
       "      <td>...</td>\n",
       "      <td>...</td>\n",
       "      <td>...</td>\n",
       "      <td>...</td>\n",
       "      <td>...</td>\n",
       "    </tr>\n",
       "    <tr>\n",
       "      <th>5895</th>\n",
       "      <td>Maruti Wagon R LX</td>\n",
       "      <td>Pune</td>\n",
       "      <td>1532.96</td>\n",
       "      <td>2004</td>\n",
       "      <td>94000</td>\n",
       "      <td>Petrol</td>\n",
       "      <td>Manual</td>\n",
       "      <td>2</td>\n",
       "      <td>18.90</td>\n",
       "      <td>998.0</td>\n",
       "      <td>67.100</td>\n",
       "      <td>5.0</td>\n",
       "      <td>Maruti</td>\n",
       "      <td>인도</td>\n",
       "    </tr>\n",
       "    <tr>\n",
       "      <th>5914</th>\n",
       "      <td>Skoda Octavia Elegance 1.9 TDI</td>\n",
       "      <td>Hyderabad</td>\n",
       "      <td>3449.16</td>\n",
       "      <td>2003</td>\n",
       "      <td>132000</td>\n",
       "      <td>Diesel</td>\n",
       "      <td>Manual</td>\n",
       "      <td>1</td>\n",
       "      <td>18.70</td>\n",
       "      <td>1896.0</td>\n",
       "      <td>66.000</td>\n",
       "      <td>5.0</td>\n",
       "      <td>Skoda</td>\n",
       "      <td>체코</td>\n",
       "    </tr>\n",
       "    <tr>\n",
       "      <th>5926</th>\n",
       "      <td>Maruti 800 DX BSII</td>\n",
       "      <td>Pune</td>\n",
       "      <td>843.13</td>\n",
       "      <td>2000</td>\n",
       "      <td>78000</td>\n",
       "      <td>Petrol</td>\n",
       "      <td>Manual</td>\n",
       "      <td>1</td>\n",
       "      <td>16.10</td>\n",
       "      <td>796.0</td>\n",
       "      <td>37.000</td>\n",
       "      <td>4.0</td>\n",
       "      <td>Maruti</td>\n",
       "      <td>인도</td>\n",
       "    </tr>\n",
       "    <tr>\n",
       "      <th>5943</th>\n",
       "      <td>Mahindra Jeep MM 540 DP</td>\n",
       "      <td>Chennai</td>\n",
       "      <td>2606.03</td>\n",
       "      <td>2002</td>\n",
       "      <td>75000</td>\n",
       "      <td>Diesel</td>\n",
       "      <td>Manual</td>\n",
       "      <td>1</td>\n",
       "      <td>14.72</td>\n",
       "      <td>2112.0</td>\n",
       "      <td>147.336</td>\n",
       "      <td>6.0</td>\n",
       "      <td>Mahindra</td>\n",
       "      <td>인도</td>\n",
       "    </tr>\n",
       "    <tr>\n",
       "      <th>5957</th>\n",
       "      <td>Honda City 1.5 EXI</td>\n",
       "      <td>Coimbatore</td>\n",
       "      <td>2698.01</td>\n",
       "      <td>2004</td>\n",
       "      <td>186679</td>\n",
       "      <td>Petrol</td>\n",
       "      <td>Manual</td>\n",
       "      <td>2</td>\n",
       "      <td>13.00</td>\n",
       "      <td>1493.0</td>\n",
       "      <td>100.000</td>\n",
       "      <td>5.0</td>\n",
       "      <td>Honda</td>\n",
       "      <td>일본</td>\n",
       "    </tr>\n",
       "  </tbody>\n",
       "</table>\n",
       "<p>81 rows × 14 columns</p>\n",
       "</div>"
      ],
      "text/plain": [
       "                                Name    Location    Price  Year  \\\n",
       "222               Maruti Wagon R LXI     Chennai  1916.20  2004   \n",
       "274              Maruti Zen VXI BSII      Mumbai   843.13  2002   \n",
       "315                  Tata Sumo Delux   Hyderabad  2299.44  2000   \n",
       "336                Toyota Corolla H4     Chennai  3832.40  2004   \n",
       "364                    Maruti Zen LX     Kolkata   996.42  2003   \n",
       "...                              ...         ...      ...   ...   \n",
       "5895               Maruti Wagon R LX        Pune  1532.96  2004   \n",
       "5914  Skoda Octavia Elegance 1.9 TDI   Hyderabad  3449.16  2003   \n",
       "5926              Maruti 800 DX BSII        Pune   843.13  2000   \n",
       "5943         Mahindra Jeep MM 540 DP     Chennai  2606.03  2002   \n",
       "5957              Honda City 1.5 EXI  Coimbatore  2698.01  2004   \n",
       "\n",
       "      Kilometers_Driven Fuel_Type Transmission  Owner_Type  Mileage(km/l)  \\\n",
       "222               61000    Petrol       Manual           2          18.90   \n",
       "274               60000    Petrol       Manual           3          17.30   \n",
       "315              158000    Diesel       Manual           2          14.07   \n",
       "336              105000    Petrol    Automatic           2          11.30   \n",
       "364               65000    Petrol       Manual           1          17.30   \n",
       "...                 ...       ...          ...         ...            ...   \n",
       "5895              94000    Petrol       Manual           2          18.90   \n",
       "5914             132000    Diesel       Manual           1          18.70   \n",
       "5926              78000    Petrol       Manual           1          16.10   \n",
       "5943              75000    Diesel       Manual           1          14.72   \n",
       "5957             186679    Petrol       Manual           2          13.00   \n",
       "\n",
       "      Engine(CC)  Power(bhp)  Seats     Brand Nationality  \n",
       "222        998.0      67.100    5.0    Maruti          인도  \n",
       "274        993.0      60.000    5.0    Maruti          인도  \n",
       "315       2956.0      83.100    7.0      Tata          인도  \n",
       "336       1794.0     125.000    5.0    Toyota          일본  \n",
       "364        993.0      60.000    5.0    Maruti          인도  \n",
       "...          ...         ...    ...       ...         ...  \n",
       "5895       998.0      67.100    5.0    Maruti          인도  \n",
       "5914      1896.0      66.000    5.0     Skoda          체코  \n",
       "5926       796.0      37.000    4.0    Maruti          인도  \n",
       "5943      2112.0     147.336    6.0  Mahindra          인도  \n",
       "5957      1493.0     100.000    5.0     Honda          일본  \n",
       "\n",
       "[81 rows x 14 columns]"
      ]
     },
     "execution_count": 46,
     "metadata": {},
     "output_type": "execute_result"
    }
   ],
   "source": [
    "df[df['Year']<2005]"
   ]
  },
  {
   "cell_type": "markdown",
   "id": "f95e2824",
   "metadata": {},
   "source": [
    "* 2005년식 이하의 기종 확인 결과 이상치가 아니라고 판단"
   ]
  },
  {
   "cell_type": "code",
   "execution_count": 47,
   "id": "2daad38b",
   "metadata": {},
   "outputs": [
    {
     "data": {
      "text/html": [
       "<div>\n",
       "<style scoped>\n",
       "    .dataframe tbody tr th:only-of-type {\n",
       "        vertical-align: middle;\n",
       "    }\n",
       "\n",
       "    .dataframe tbody tr th {\n",
       "        vertical-align: top;\n",
       "    }\n",
       "\n",
       "    .dataframe thead th {\n",
       "        text-align: right;\n",
       "    }\n",
       "</style>\n",
       "<table border=\"1\" class=\"dataframe\">\n",
       "  <thead>\n",
       "    <tr style=\"text-align: right;\">\n",
       "      <th></th>\n",
       "      <th>Name</th>\n",
       "      <th>Location</th>\n",
       "      <th>Price</th>\n",
       "      <th>Year</th>\n",
       "      <th>Kilometers_Driven</th>\n",
       "      <th>Fuel_Type</th>\n",
       "      <th>Transmission</th>\n",
       "      <th>Owner_Type</th>\n",
       "      <th>Mileage(km/l)</th>\n",
       "      <th>Engine(CC)</th>\n",
       "      <th>Power(bhp)</th>\n",
       "      <th>Seats</th>\n",
       "      <th>Brand</th>\n",
       "      <th>Nationality</th>\n",
       "    </tr>\n",
       "  </thead>\n",
       "  <tbody>\n",
       "    <tr>\n",
       "      <th>2328</th>\n",
       "      <td>BMW X5 xDrive 30d M Sport</td>\n",
       "      <td>Chennai</td>\n",
       "      <td>99642.4</td>\n",
       "      <td>2017</td>\n",
       "      <td>6500000</td>\n",
       "      <td>Diesel</td>\n",
       "      <td>Automatic</td>\n",
       "      <td>1</td>\n",
       "      <td>15.97</td>\n",
       "      <td>2993.0</td>\n",
       "      <td>258.0</td>\n",
       "      <td>5.0</td>\n",
       "      <td>BMW</td>\n",
       "      <td>독일</td>\n",
       "    </tr>\n",
       "  </tbody>\n",
       "</table>\n",
       "</div>"
      ],
      "text/plain": [
       "                           Name Location    Price  Year  Kilometers_Driven  \\\n",
       "2328  BMW X5 xDrive 30d M Sport  Chennai  99642.4  2017            6500000   \n",
       "\n",
       "     Fuel_Type Transmission  Owner_Type  Mileage(km/l)  Engine(CC)  \\\n",
       "2328    Diesel    Automatic           1          15.97      2993.0   \n",
       "\n",
       "      Power(bhp)  Seats Brand Nationality  \n",
       "2328       258.0    5.0   BMW          독일  "
      ]
     },
     "execution_count": 47,
     "metadata": {},
     "output_type": "execute_result"
    }
   ],
   "source": [
    "df[df['Kilometers_Driven']>1000000]"
   ]
  },
  {
   "cell_type": "code",
   "execution_count": 48,
   "id": "1105bb08",
   "metadata": {},
   "outputs": [],
   "source": [
    "df = df.drop(df[df['Kilometers_Driven']>1000000].index, axis=0).reset_index()"
   ]
  },
  {
   "cell_type": "markdown",
   "id": "7ceec8df",
   "metadata": {},
   "source": [
    "* 주행거리가 100만킬로미터 이상인 항목 확인결과 이상치로 판단하여 제거"
   ]
  },
  {
   "cell_type": "code",
   "execution_count": 49,
   "id": "6d39bfc7",
   "metadata": {},
   "outputs": [
    {
     "data": {
      "text/html": [
       "<div>\n",
       "<style scoped>\n",
       "    .dataframe tbody tr th:only-of-type {\n",
       "        vertical-align: middle;\n",
       "    }\n",
       "\n",
       "    .dataframe tbody tr th {\n",
       "        vertical-align: top;\n",
       "    }\n",
       "\n",
       "    .dataframe thead th {\n",
       "        text-align: right;\n",
       "    }\n",
       "</style>\n",
       "<table border=\"1\" class=\"dataframe\">\n",
       "  <thead>\n",
       "    <tr style=\"text-align: right;\">\n",
       "      <th></th>\n",
       "      <th>index</th>\n",
       "      <th>Name</th>\n",
       "      <th>Location</th>\n",
       "      <th>Price</th>\n",
       "      <th>Year</th>\n",
       "      <th>Kilometers_Driven</th>\n",
       "      <th>Fuel_Type</th>\n",
       "      <th>Transmission</th>\n",
       "      <th>Owner_Type</th>\n",
       "      <th>Mileage(km/l)</th>\n",
       "      <th>Engine(CC)</th>\n",
       "      <th>Power(bhp)</th>\n",
       "      <th>Seats</th>\n",
       "      <th>Brand</th>\n",
       "      <th>Nationality</th>\n",
       "    </tr>\n",
       "  </thead>\n",
       "  <tbody>\n",
       "    <tr>\n",
       "      <th>3998</th>\n",
       "      <td>3999</td>\n",
       "      <td>Audi A4 3.2 FSI Tiptronic Quattro</td>\n",
       "      <td>Hyderabad</td>\n",
       "      <td>27593.28</td>\n",
       "      <td>2012</td>\n",
       "      <td>125000</td>\n",
       "      <td>Petrol</td>\n",
       "      <td>Automatic</td>\n",
       "      <td>1</td>\n",
       "      <td>10.5</td>\n",
       "      <td>3197.0</td>\n",
       "      <td>302.3</td>\n",
       "      <td>0.0</td>\n",
       "      <td>Audi</td>\n",
       "      <td>독일</td>\n",
       "    </tr>\n",
       "  </tbody>\n",
       "</table>\n",
       "</div>"
      ],
      "text/plain": [
       "      index                               Name   Location     Price  Year  \\\n",
       "3998   3999  Audi A4 3.2 FSI Tiptronic Quattro  Hyderabad  27593.28  2012   \n",
       "\n",
       "      Kilometers_Driven Fuel_Type Transmission  Owner_Type  Mileage(km/l)  \\\n",
       "3998             125000    Petrol    Automatic           1           10.5   \n",
       "\n",
       "      Engine(CC)  Power(bhp)  Seats Brand Nationality  \n",
       "3998      3197.0       302.3    0.0  Audi          독일  "
      ]
     },
     "execution_count": 49,
     "metadata": {},
     "output_type": "execute_result"
    }
   ],
   "source": [
    "df[df['Seats']<2]"
   ]
  },
  {
   "cell_type": "code",
   "execution_count": 50,
   "id": "2db971b6",
   "metadata": {},
   "outputs": [],
   "source": [
    "df = df.drop(df[df['Seats']<2].index, axis=0).reset_index()"
   ]
  },
  {
   "cell_type": "markdown",
   "id": "d0e60a92",
   "metadata": {},
   "source": [
    "* 좌석 수 0으로 표기된 항목 제거"
   ]
  },
  {
   "cell_type": "markdown",
   "id": "89404674",
   "metadata": {},
   "source": [
    "#### 이상치 제거 완료"
   ]
  },
  {
   "cell_type": "markdown",
   "id": "94373c95",
   "metadata": {},
   "source": [
    "## EDA"
   ]
  },
  {
   "cell_type": "code",
   "execution_count": 51,
   "id": "917e7497",
   "metadata": {
    "scrolled": false
   },
   "outputs": [
    {
     "data": {
      "image/png": "[encoded data removed]",
      "text/plain": [
       "<Figure size 1000x800 with 2 Axes>"
      ]
     },
     "metadata": {},
     "output_type": "display_data"
    }
   ],
   "source": [
    "# 히트맵 그리기\n",
    "plt.figure(figsize=(10, 8))  # 그림 크기 설정\n",
    "sns.heatmap(df.corr(), annot=True, fmt=\".2f\")\n",
    "plt.title(\"변수 간 상관관계 히트맵\")  # 그래프 제목\n",
    "plt.show()"
   ]
  },
  {
   "cell_type": "markdown",
   "id": "b8762420",
   "metadata": {},
   "source": [
    "* 엔진CC와 연비 음의 상관관계(-0.64)\n",
    "* 마력과 연비 음의 상관관계(-0.55)\n",
    "* 가격과 마력 양의 상관관계(0.75)\n",
    "* 가격과 엔진CC 양의 상관관계(0.64)\n",
    "* 엔진CC와 마력 양의 상관관계(0.87)"
   ]
  },
  {
   "cell_type": "code",
   "execution_count": null,
   "id": "2c67fb66",
   "metadata": {},
   "outputs": [],
   "source": []
  },
  {
   "cell_type": "code",
   "execution_count": null,
   "id": "79586355",
   "metadata": {},
   "outputs": [],
   "source": []
  },
  {
   "cell_type": "code",
   "execution_count": null,
   "id": "b2f24396",
   "metadata": {},
   "outputs": [],
   "source": []
  }
 ],
 "metadata": {
  "kernelspec": {
   "display_name": "Python 3 (ipykernel)",
   "language": "python",
   "name": "python3"
  },
  "language_info": {
   "codemirror_mode": {
    "name": "ipython",
    "version": 3
   },
   "file_extension": ".py",
   "mimetype": "text/x-python",
   "name": "python",
   "nbconvert_exporter": "python",
   "pygments_lexer": "ipython3",
   "version": "3.10.9"
  }
 },
 "nbformat": 4,
 "nbformat_minor": 5
}

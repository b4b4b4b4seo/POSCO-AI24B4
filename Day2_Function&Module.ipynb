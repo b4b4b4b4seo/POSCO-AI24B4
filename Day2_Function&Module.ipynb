{
 "cells": [
  {
   "cell_type": "code",
   "execution_count": 1,
   "id": "2e1a423b",
   "metadata": {},
   "outputs": [
    {
     "name": "stdout",
     "output_type": "stream",
     "text": [
      "7\n",
      "12\n"
     ]
    }
   ],
   "source": [
    "def add_and_mul(a, b):\n",
    "    return (a+b, a*b)\n",
    "\n",
    "add_res, mul_res = add_and_mul(3,4)\n",
    "print(add_res)\n",
    "print(mul_res)"
   ]
  },
  {
   "cell_type": "markdown",
   "id": "c614b4db",
   "metadata": {},
   "source": [
    "# 실습1"
   ]
  },
  {
   "cell_type": "code",
   "execution_count": 4,
   "id": "a13927ca",
   "metadata": {},
   "outputs": [
    {
     "name": "stdout",
     "output_type": "stream",
     "text": [
      "6 13\n",
      "6 13\n"
     ]
    }
   ],
   "source": [
    "def my_len(x):\n",
    "    \n",
    "    length = 0\n",
    "    for i in x:\n",
    "        length += 1\n",
    "    \n",
    "    return length\n",
    "\n",
    "a = [5,5,6,7,8,3]\n",
    "b = 'life is short'\n",
    "print(len(a), len(b))\n",
    "print(my_len(a), my_len(b))"
   ]
  },
  {
   "cell_type": "markdown",
   "id": "15d6bb37",
   "metadata": {},
   "source": [
    "# 실습2"
   ]
  },
  {
   "cell_type": "code",
   "execution_count": 26,
   "id": "e2573d4e",
   "metadata": {},
   "outputs": [],
   "source": [
    "def mult(a,b):\n",
    "    \n",
    "    mul = 1\n",
    "    i = 0\n",
    "    \n",
    "    while a < (b+1):\n",
    "        mul = mul * a\n",
    "        a += 1\n",
    "    \n",
    "    return mul\n",
    "        \n",
    "        "
   ]
  },
  {
   "cell_type": "code",
   "execution_count": 27,
   "id": "cc1c11ca",
   "metadata": {},
   "outputs": [
    {
     "data": {
      "text/plain": [
       "6"
      ]
     },
     "execution_count": 27,
     "metadata": {},
     "output_type": "execute_result"
    }
   ],
   "source": [
    "mult(1,3)"
   ]
  },
  {
   "cell_type": "code",
   "execution_count": 12,
   "id": "64e20eda",
   "metadata": {},
   "outputs": [],
   "source": [
    "def mult(a,b):\n",
    "    res = 1\n",
    "    for i in range(a, b+1, 1):\n",
    "        res *= i\n",
    "        \n",
    "    return res"
   ]
  },
  {
   "cell_type": "code",
   "execution_count": 13,
   "id": "541eb7c9",
   "metadata": {},
   "outputs": [
    {
     "data": {
      "text/plain": [
       "6"
      ]
     },
     "execution_count": 13,
     "metadata": {},
     "output_type": "execute_result"
    }
   ],
   "source": [
    "mult(1,3)"
   ]
  },
  {
   "cell_type": "markdown",
   "id": "0e3c059d",
   "metadata": {},
   "source": [
    "# 실습3"
   ]
  },
  {
   "cell_type": "code",
   "execution_count": 22,
   "id": "2ac113bc",
   "metadata": {},
   "outputs": [],
   "source": [
    "def sum_pos_neg(l):\n",
    "    \n",
    "    lp = []\n",
    "    ln = []\n",
    "    \n",
    "    lp_sum = 0\n",
    "    ln_sum = 0\n",
    "    \n",
    "    for i in l:\n",
    "        if i > 0:\n",
    "            lp.append(i)\n",
    "        elif i < 0:\n",
    "            ln.append(i)\n",
    "            \n",
    "    for i in range(len(lp)):\n",
    "        lp_sum += lp[i]\n",
    "    for j in range(len(ln)):\n",
    "        ln_sum += ln[j]\n",
    "    \n",
    "    return lp_sum, ln_sum"
   ]
  },
  {
   "cell_type": "code",
   "execution_count": 23,
   "id": "d86eddf2",
   "metadata": {},
   "outputs": [
    {
     "name": "stdout",
     "output_type": "stream",
     "text": [
      "7 -9\n"
     ]
    }
   ],
   "source": [
    "possum, negsum = sum_pos_neg([3,4,-6,-3])\n",
    "print(possum, negsum)"
   ]
  },
  {
   "cell_type": "code",
   "execution_count": 25,
   "id": "a2c42673",
   "metadata": {},
   "outputs": [
    {
     "name": "stdout",
     "output_type": "stream",
     "text": [
      "1 -1\n"
     ]
    }
   ],
   "source": [
    "mylist = [0,0,0,0,0,0,0,0,1,-1]\n",
    "possum2, negsum2 = sum_pos_neg(mylist)\n",
    "print(possum2, negsum2)"
   ]
  },
  {
   "cell_type": "code",
   "execution_count": 28,
   "id": "54c4df9b",
   "metadata": {},
   "outputs": [],
   "source": [
    "def sum_pos_neg(l):\n",
    "    pos, neg = 0,0\n",
    "    for i in l:\n",
    "        if i > 0 :\n",
    "            pos += i\n",
    "        else:\n",
    "            neg += i\n",
    "            \n",
    "    return pos, neg"
   ]
  },
  {
   "cell_type": "code",
   "execution_count": null,
   "id": "dc1885e0",
   "metadata": {},
   "outputs": [],
   "source": []
  },
  {
   "cell_type": "markdown",
   "id": "fc1c480d",
   "metadata": {},
   "source": [
    "# 가변 매개변수\n",
    "- 매개변수가 몇 개인지 모를 경우\n",
    "- 가변 매개변수 뒤에는 일반 매개변수가 올 수 없음\n",
    "- 가변 매개변수는 하나만 사용 가능"
   ]
  },
  {
   "cell_type": "code",
   "execution_count": 29,
   "id": "0f890d88",
   "metadata": {},
   "outputs": [],
   "source": [
    "# 짝수 개수 구하기\n",
    "def count_even(*n):\n",
    "    cnt = 0\n",
    "    for v in n:\n",
    "        if v % 2 == 0:\n",
    "            cnt += 1\n",
    "    return cnt"
   ]
  },
  {
   "cell_type": "code",
   "execution_count": 30,
   "id": "2306e997",
   "metadata": {},
   "outputs": [
    {
     "data": {
      "text/plain": [
       "2"
      ]
     },
     "execution_count": 30,
     "metadata": {},
     "output_type": "execute_result"
    }
   ],
   "source": [
    "count_even(1,2,3,4,5)"
   ]
  },
  {
   "cell_type": "markdown",
   "id": "cdf38dc0",
   "metadata": {},
   "source": [
    "# 실습4"
   ]
  },
  {
   "cell_type": "code",
   "execution_count": 38,
   "id": "599f4f5d",
   "metadata": {},
   "outputs": [],
   "source": [
    "def vector_sum(vector, *vectors):\n",
    "    \n",
    "    res = list(vector) #처음 벡터값으로 초기화\n",
    "    \n",
    "    for v in vectors: #[v2,v3,v4]\n",
    "        res[0] += v[0]\n",
    "        res[1] += v[1]\n",
    "        \n",
    "    return res\n",
    "        \n",
    "        \n",
    "    "
   ]
  },
  {
   "cell_type": "code",
   "execution_count": 39,
   "id": "16054499",
   "metadata": {},
   "outputs": [
    {
     "name": "stdout",
     "output_type": "stream",
     "text": [
      "[1.5, 1.5] [7.5, 5.5] [4.13, 2.72]\n"
     ]
    }
   ],
   "source": [
    "v1 = [0, 1]\n",
    "v2 = [0.5, 0.5]\n",
    "v3 = [1,0]\n",
    "v4 = [6,4]\n",
    "v5 = [3.13, 2.72]\n",
    "\n",
    "m1 = vector_sum(v1,v2,v3) # v1이 vector &  v2&v3 --> *vectors\n",
    "m2 = vector_sum(v1,v2,v3,v4)\n",
    "m3 = vector_sum(v3, v5)\n",
    "print(m1,m2,m3)"
   ]
  },
  {
   "cell_type": "markdown",
   "id": "9b9452e0",
   "metadata": {},
   "source": [
    "# 디폴트 매개변수\n",
    "- 앞 매개변수가 디폴트 값을 가지면 뒤에 오는 매개변수는 반드시 디폴트 값을 가져야 함"
   ]
  },
  {
   "cell_type": "code",
   "execution_count": 42,
   "id": "055f2891",
   "metadata": {},
   "outputs": [
    {
     "name": "stdout",
     "output_type": "stream",
     "text": [
      "my name is gildong hong.\n"
     ]
    }
   ],
   "source": [
    "def print_name(first, second='kim'):\n",
    "    print('my name is', first, second + '.')\n",
    "    \n",
    "print_name('gildong', 'hong')"
   ]
  },
  {
   "cell_type": "code",
   "execution_count": 44,
   "id": "7c47db7f",
   "metadata": {},
   "outputs": [
    {
     "name": "stdout",
     "output_type": "stream",
     "text": [
      "my name is gildong kim.\n"
     ]
    }
   ],
   "source": [
    "print_name('gildong')\n",
    "#second를 입력하면 입력대로 나오지만 입력하지 않으면 정의된 SECOND값이 나옴"
   ]
  },
  {
   "cell_type": "code",
   "execution_count": 48,
   "id": "d9fa3597",
   "metadata": {},
   "outputs": [],
   "source": [
    "def print_name(second, first='GILDONG'):\n",
    "    print('my name is', first, second + '.')\n",
    "#디폴트 매개변수를 무조건 뒤로 보내기"
   ]
  },
  {
   "cell_type": "markdown",
   "id": "38b54e36",
   "metadata": {},
   "source": [
    "# 키워드 매개변수\n",
    "- 함수 호출 시 해당 매개변수 이름을 명시적으로 지정해서 전달\n"
   ]
  },
  {
   "cell_type": "code",
   "execution_count": 52,
   "id": "a57b9f6f",
   "metadata": {},
   "outputs": [
    {
     "name": "stdout",
     "output_type": "stream",
     "text": [
      "60\n"
     ]
    },
    {
     "ename": "TypeError",
     "evalue": "calc() got multiple values for argument 'y'",
     "output_type": "error",
     "traceback": [
      "\u001b[0;31m---------------------------------------------------------------------------\u001b[0m",
      "\u001b[0;31mTypeError\u001b[0m                                 Traceback (most recent call last)",
      "Cell \u001b[0;32mIn[52], line 8\u001b[0m\n\u001b[1;32m      5\u001b[0m result \u001b[38;5;241m=\u001b[39m calc(y\u001b[38;5;241m=\u001b[39m\u001b[38;5;241m20\u001b[39m,x\u001b[38;5;241m=\u001b[39m\u001b[38;5;241m10\u001b[39m,z\u001b[38;5;241m=\u001b[39m\u001b[38;5;241m30\u001b[39m) \u001b[38;5;66;03m#매개변수 순서 상관없음\u001b[39;00m\n\u001b[1;32m      6\u001b[0m \u001b[38;5;28mprint\u001b[39m(result)\n\u001b[0;32m----> 8\u001b[0m \u001b[43mcalc\u001b[49m\u001b[43m(\u001b[49m\u001b[38;5;241;43m10\u001b[39;49m\u001b[43m,\u001b[49m\u001b[38;5;241;43m30\u001b[39;49m\u001b[43m,\u001b[49m\u001b[43my\u001b[49m\u001b[38;5;241;43m=\u001b[39;49m\u001b[38;5;241;43m20\u001b[39;49m\u001b[43m)\u001b[49m\n",
      "\u001b[0;31mTypeError\u001b[0m: calc() got multiple values for argument 'y'"
     ]
    }
   ],
   "source": [
    "def calc(x, y=0, z=0):\n",
    "    return x+y+z\n",
    "\n",
    "Result = calc(10,20,30)\n",
    "result = calc(y=20,x=10,z=30) #매개변수 순서 상관없음\n",
    "print(result)\n",
    "\n",
    "calc(10,30,y=20)"
   ]
  },
  {
   "cell_type": "markdown",
   "id": "cdd76791",
   "metadata": {},
   "source": [
    "# 실습5"
   ]
  },
  {
   "cell_type": "code",
   "execution_count": 84,
   "id": "e0682f3a",
   "metadata": {},
   "outputs": [],
   "source": [
    "def merge_list(l=[0], x=[0]):\n",
    "    \n",
    "    new_l= l\n",
    "    \n",
    "    for i in x:\n",
    "        new_l.append(i)\n",
    "    \n",
    "    return sorted(new_l)"
   ]
  },
  {
   "cell_type": "code",
   "execution_count": 85,
   "id": "a425c71a",
   "metadata": {},
   "outputs": [
    {
     "name": "stdout",
     "output_type": "stream",
     "text": [
      "[1, 1, 2, 2, 3, 5, 9]\n",
      "[0, 4, 6, 9]\n",
      "[0, 0]\n",
      "[4, 5, 7, 8]\n"
     ]
    }
   ],
   "source": [
    "l = [3,5,9,1,2]\n",
    "ml1 = merge_list(l,[2,1])\n",
    "ml2 = merge_list([6,9,4])\n",
    "ml3 = merge_list()\n",
    "ml4 = merge_list([4,5],[7,8])\n",
    "\n",
    "print(ml1)\n",
    "print(ml2)\n",
    "print(ml3)\n",
    "print(ml4)"
   ]
  },
  {
   "cell_type": "markdown",
   "id": "9c74ce25",
   "metadata": {},
   "source": [
    "# 지역변수, 전역변수\n",
    "- 함수 안에서 전역변수 수정 불가\n",
    "- 수정하려면 global 키워드 사용"
   ]
  },
  {
   "cell_type": "code",
   "execution_count": 88,
   "id": "36ae5bad",
   "metadata": {},
   "outputs": [
    {
     "ename": "UnboundLocalError",
     "evalue": "local variable 'x' referenced before assignment",
     "output_type": "error",
     "traceback": [
      "\u001b[0;31m---------------------------------------------------------------------------\u001b[0m",
      "\u001b[0;31mUnboundLocalError\u001b[0m                         Traceback (most recent call last)",
      "Cell \u001b[0;32mIn[88], line 11\u001b[0m\n\u001b[1;32m      8\u001b[0m x \u001b[38;5;241m=\u001b[39m \u001b[38;5;241m10\u001b[39m\n\u001b[1;32m      9\u001b[0m y \u001b[38;5;241m=\u001b[39m \u001b[38;5;241m20\u001b[39m\n\u001b[0;32m---> 11\u001b[0m res \u001b[38;5;241m=\u001b[39m \u001b[43maddX\u001b[49m\u001b[43m(\u001b[49m\u001b[43my\u001b[49m\u001b[43m)\u001b[49m\n\u001b[1;32m     12\u001b[0m \u001b[38;5;28mprint\u001b[39m(res)\n",
      "Cell \u001b[0;32mIn[88], line 4\u001b[0m, in \u001b[0;36maddX\u001b[0;34m(_x)\u001b[0m\n\u001b[1;32m      3\u001b[0m \u001b[38;5;28;01mdef\u001b[39;00m \u001b[38;5;21maddX\u001b[39m(_x):\n\u001b[0;32m----> 4\u001b[0m     x\u001b[38;5;241m=\u001b[39m\u001b[43mx\u001b[49m\u001b[38;5;241m-\u001b[39m\u001b[38;5;241m5\u001b[39m\n\u001b[1;32m      6\u001b[0m     \u001b[38;5;28;01mreturn\u001b[39;00m x \u001b[38;5;241m+\u001b[39m _x\n",
      "\u001b[0;31mUnboundLocalError\u001b[0m: local variable 'x' referenced before assignment"
     ]
    }
   ],
   "source": [
    "#전역변수\n",
    "\n",
    "def addX(_x):\n",
    "    x=x-5\n",
    "    \n",
    "    return x + _x #x에 10, _x엔 y가 들어감\n",
    "\n",
    "x = 10\n",
    "y = 20\n",
    "\n",
    "res = addX(y)\n",
    "print(res)"
   ]
  },
  {
   "cell_type": "code",
   "execution_count": 89,
   "id": "f9756595",
   "metadata": {},
   "outputs": [
    {
     "name": "stdout",
     "output_type": "stream",
     "text": [
      "30\n"
     ]
    }
   ],
   "source": [
    "def addX(_x):\n",
    "    global x\n",
    "    \n",
    "    return x + _x #x에 10, _x엔 y가 들어감\n",
    "\n",
    "x = 10\n",
    "y = 20\n",
    "\n",
    "res = addX(y)\n",
    "print(res)"
   ]
  },
  {
   "cell_type": "code",
   "execution_count": null,
   "id": "a6039fc4",
   "metadata": {},
   "outputs": [],
   "source": []
  },
  {
   "cell_type": "markdown",
   "id": "da162348",
   "metadata": {},
   "source": [
    "# 모듈\n",
    "- 많이 사용하는 함수를 만들어 놓고, 프로그램에서 해당 함수 사용시 import하여 사용하면 편리함\n",
    "- 모듈로 사용할 파일과 호출하는 파일은 모두 같은 폴더에 저장\n",
    "- 1. from arth import * --> arth.add 말고 add 함수만 써도 됨\n",
    "- 2. import arth --> arth.add처럼 모듈명 써줘야됨"
   ]
  },
  {
   "cell_type": "code",
   "execution_count": 91,
   "id": "5b151c13",
   "metadata": {},
   "outputs": [
    {
     "data": {
      "text/plain": [
       "3628800"
      ]
     },
     "execution_count": 91,
     "metadata": {},
     "output_type": "execute_result"
    }
   ],
   "source": [
    "import math\n",
    "math.factorial(10)"
   ]
  },
  {
   "cell_type": "code",
   "execution_count": 92,
   "id": "d9cb09f0",
   "metadata": {},
   "outputs": [
    {
     "data": {
      "text/plain": [
       "3628800"
      ]
     },
     "execution_count": 92,
     "metadata": {},
     "output_type": "execute_result"
    }
   ],
   "source": [
    "import math as mn\n",
    "mn.factorial(10)"
   ]
  },
  {
   "cell_type": "code",
   "execution_count": 93,
   "id": "a6a68534",
   "metadata": {},
   "outputs": [
    {
     "data": {
      "text/plain": [
       "3628800"
      ]
     },
     "execution_count": 93,
     "metadata": {},
     "output_type": "execute_result"
    }
   ],
   "source": [
    "from math import factorial\n",
    "factorial(10)"
   ]
  },
  {
   "cell_type": "code",
   "execution_count": 94,
   "id": "f2938bdb",
   "metadata": {},
   "outputs": [],
   "source": [
    "import random"
   ]
  },
  {
   "cell_type": "code",
   "execution_count": 95,
   "id": "39266455",
   "metadata": {},
   "outputs": [
    {
     "data": {
      "text/plain": [
       "2"
      ]
     },
     "execution_count": 95,
     "metadata": {},
     "output_type": "execute_result"
    }
   ],
   "source": [
    "random.choice([1,2,3,4,5])"
   ]
  },
  {
   "cell_type": "markdown",
   "id": "97080a61",
   "metadata": {},
   "source": [
    "- random.randint(a,b)"
   ]
  },
  {
   "cell_type": "code",
   "execution_count": 96,
   "id": "228e7c48",
   "metadata": {},
   "outputs": [
    {
     "name": "stdout",
     "output_type": "stream",
     "text": [
      "[2, 1, 4, 5, 3]\n"
     ]
    }
   ],
   "source": [
    "ls = [1,2,3,4,5]\n",
    "random.shuffle(ls)\n",
    "print(ls)"
   ]
  },
  {
   "cell_type": "code",
   "execution_count": 97,
   "id": "f667750b",
   "metadata": {},
   "outputs": [
    {
     "data": {
      "text/plain": [
       "[3, 5, 4]"
      ]
     },
     "execution_count": 97,
     "metadata": {},
     "output_type": "execute_result"
    }
   ],
   "source": [
    "random.sample([1,2,3,4,5,6],3)"
   ]
  },
  {
   "cell_type": "code",
   "execution_count": null,
   "id": "a05f64fe",
   "metadata": {},
   "outputs": [],
   "source": []
  }
 ],
 "metadata": {
  "kernelspec": {
   "display_name": "Python 3 (ipykernel)",
   "language": "python",
   "name": "python3"
  },
  "language_info": {
   "codemirror_mode": {
    "name": "ipython",
    "version": 3
   },
   "file_extension": ".py",
   "mimetype": "text/x-python",
   "name": "python",
   "nbconvert_exporter": "python",
   "pygments_lexer": "ipython3",
   "version": "3.10.9"
  }
 },
 "nbformat": 4,
 "nbformat_minor": 5
}

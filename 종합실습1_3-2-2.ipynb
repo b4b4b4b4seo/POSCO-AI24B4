{
 "cells": [
  {
   "cell_type": "code",
   "execution_count": 31,
   "id": "b211beeb",
   "metadata": {
    "id": "b211beeb"
   },
   "outputs": [],
   "source": [
    "import pandas as pd\n",
    "import numpy as np\n",
    "\n",
    "import seaborn as sns\n",
    "\n",
    "import matplotlib\n",
    "import matplotlib.pyplot as plt\n",
    "\n",
    "from sklearn.tree import export_graphviz\n",
    "\n",
    "import graphviz\n",
    "\n",
    "from sklearn.model_selection import train_test_split\n",
    "\n",
    "from sklearn.ensemble import RandomForestRegressor\n",
    "from sklearn.tree import DecisionTreeRegressor\n",
    "from sklearn.ensemble import GradientBoostingRegressor\n",
    "from xgboost import XGBRegressor\n",
    "from sklearn.neural_network import MLPRegressor\n",
    "\n",
    "from sklearn.model_selection import GridSearchCV\n",
    "\n",
    "from sklearn.metrics import precision_score, recall_score, f1_score, roc_curve, auc\n",
    "\n",
    "matplotlib.rc(\"font\", family=\"NanumGothic\")\n",
    "matplotlib.rc(\"axes\", unicode_minus=False)\n",
    "\n",
    "%matplotlib inline"
   ]
  },
  {
   "cell_type": "code",
   "execution_count": 3,
   "id": "bbe68c41",
   "metadata": {
    "colab": {
     "base_uri": "https://localhost:8080/",
     "height": 725
    },
    "executionInfo": {
     "elapsed": 617,
     "status": "ok",
     "timestamp": 1699162394981,
     "user": {
      "displayName": "서한솔",
      "userId": "02717896694975677999"
     },
     "user_tz": -540
    },
    "id": "bbe68c41",
    "outputId": "e1a6948f-84be-447b-c8f5-c766a58944c1"
   },
   "outputs": [
    {
     "data": {
      "text/html": [
       "<div>\n",
       "<style scoped>\n",
       "    .dataframe tbody tr th:only-of-type {\n",
       "        vertical-align: middle;\n",
       "    }\n",
       "\n",
       "    .dataframe tbody tr th {\n",
       "        vertical-align: top;\n",
       "    }\n",
       "\n",
       "    .dataframe thead th {\n",
       "        text-align: right;\n",
       "    }\n",
       "</style>\n",
       "<table border=\"1\" class=\"dataframe\">\n",
       "  <thead>\n",
       "    <tr style=\"text-align: right;\">\n",
       "      <th></th>\n",
       "      <th>Name</th>\n",
       "      <th>Location</th>\n",
       "      <th>Price</th>\n",
       "      <th>Year</th>\n",
       "      <th>Kilometers_Driven</th>\n",
       "      <th>Fuel_Type</th>\n",
       "      <th>Transmission</th>\n",
       "      <th>Owner_Type</th>\n",
       "      <th>Mileage(km/l)</th>\n",
       "      <th>Engine(CC)</th>\n",
       "      <th>Power(bhp)</th>\n",
       "      <th>Seats</th>\n",
       "      <th>Brand</th>\n",
       "    </tr>\n",
       "  </thead>\n",
       "  <tbody>\n",
       "    <tr>\n",
       "      <th>0</th>\n",
       "      <td>Maruti Wagon R LXI CNG</td>\n",
       "      <td>Mumbai</td>\n",
       "      <td>2682.68</td>\n",
       "      <td>2010</td>\n",
       "      <td>72000</td>\n",
       "      <td>CNG</td>\n",
       "      <td>Manual</td>\n",
       "      <td>First</td>\n",
       "      <td>26.60</td>\n",
       "      <td>998</td>\n",
       "      <td>58.16</td>\n",
       "      <td>5.0</td>\n",
       "      <td>Maruti</td>\n",
       "    </tr>\n",
       "    <tr>\n",
       "      <th>1</th>\n",
       "      <td>Hyundai Creta 1.6 CRDi SX Option</td>\n",
       "      <td>Pune</td>\n",
       "      <td>19162.00</td>\n",
       "      <td>2015</td>\n",
       "      <td>41000</td>\n",
       "      <td>Diesel</td>\n",
       "      <td>Manual</td>\n",
       "      <td>First</td>\n",
       "      <td>19.67</td>\n",
       "      <td>1582</td>\n",
       "      <td>126.20</td>\n",
       "      <td>5.0</td>\n",
       "      <td>Hyundai</td>\n",
       "    </tr>\n",
       "    <tr>\n",
       "      <th>2</th>\n",
       "      <td>Honda Jazz V</td>\n",
       "      <td>Chennai</td>\n",
       "      <td>6898.32</td>\n",
       "      <td>2011</td>\n",
       "      <td>46000</td>\n",
       "      <td>Petrol</td>\n",
       "      <td>Manual</td>\n",
       "      <td>First</td>\n",
       "      <td>18.20</td>\n",
       "      <td>1199</td>\n",
       "      <td>88.70</td>\n",
       "      <td>5.0</td>\n",
       "      <td>Honda</td>\n",
       "    </tr>\n",
       "    <tr>\n",
       "      <th>3</th>\n",
       "      <td>Maruti Ertiga VDI</td>\n",
       "      <td>Chennai</td>\n",
       "      <td>9197.76</td>\n",
       "      <td>2012</td>\n",
       "      <td>87000</td>\n",
       "      <td>Diesel</td>\n",
       "      <td>Manual</td>\n",
       "      <td>First</td>\n",
       "      <td>20.77</td>\n",
       "      <td>1248</td>\n",
       "      <td>88.76</td>\n",
       "      <td>7.0</td>\n",
       "      <td>Maruti</td>\n",
       "    </tr>\n",
       "    <tr>\n",
       "      <th>4</th>\n",
       "      <td>Audi A4 New 2.0 TDI Multitronic</td>\n",
       "      <td>Coimbatore</td>\n",
       "      <td>27194.71</td>\n",
       "      <td>2013</td>\n",
       "      <td>40670</td>\n",
       "      <td>Diesel</td>\n",
       "      <td>Automatic</td>\n",
       "      <td>Second</td>\n",
       "      <td>15.20</td>\n",
       "      <td>1968</td>\n",
       "      <td>140.80</td>\n",
       "      <td>5.0</td>\n",
       "      <td>Audi</td>\n",
       "    </tr>\n",
       "    <tr>\n",
       "      <th>...</th>\n",
       "      <td>...</td>\n",
       "      <td>...</td>\n",
       "      <td>...</td>\n",
       "      <td>...</td>\n",
       "      <td>...</td>\n",
       "      <td>...</td>\n",
       "      <td>...</td>\n",
       "      <td>...</td>\n",
       "      <td>...</td>\n",
       "      <td>...</td>\n",
       "      <td>...</td>\n",
       "      <td>...</td>\n",
       "      <td>...</td>\n",
       "    </tr>\n",
       "    <tr>\n",
       "      <th>7248</th>\n",
       "      <td>Volkswagen Vento Diesel Trendline</td>\n",
       "      <td>Hyderabad</td>\n",
       "      <td>NaN</td>\n",
       "      <td>2011</td>\n",
       "      <td>89411</td>\n",
       "      <td>Diesel</td>\n",
       "      <td>Manual</td>\n",
       "      <td>First</td>\n",
       "      <td>20.54</td>\n",
       "      <td>1598</td>\n",
       "      <td>103.60</td>\n",
       "      <td>5.0</td>\n",
       "      <td>Volkswagen</td>\n",
       "    </tr>\n",
       "    <tr>\n",
       "      <th>7249</th>\n",
       "      <td>Volkswagen Polo GT TSI</td>\n",
       "      <td>Mumbai</td>\n",
       "      <td>NaN</td>\n",
       "      <td>2015</td>\n",
       "      <td>59000</td>\n",
       "      <td>Petrol</td>\n",
       "      <td>Automatic</td>\n",
       "      <td>First</td>\n",
       "      <td>17.21</td>\n",
       "      <td>1197</td>\n",
       "      <td>103.60</td>\n",
       "      <td>5.0</td>\n",
       "      <td>Volkswagen</td>\n",
       "    </tr>\n",
       "    <tr>\n",
       "      <th>7250</th>\n",
       "      <td>Nissan Micra Diesel XV</td>\n",
       "      <td>Kolkata</td>\n",
       "      <td>NaN</td>\n",
       "      <td>2012</td>\n",
       "      <td>28000</td>\n",
       "      <td>Diesel</td>\n",
       "      <td>Manual</td>\n",
       "      <td>First</td>\n",
       "      <td>23.08</td>\n",
       "      <td>1461</td>\n",
       "      <td>63.10</td>\n",
       "      <td>5.0</td>\n",
       "      <td>Nissan</td>\n",
       "    </tr>\n",
       "    <tr>\n",
       "      <th>7251</th>\n",
       "      <td>Volkswagen Polo GT TSI</td>\n",
       "      <td>Pune</td>\n",
       "      <td>NaN</td>\n",
       "      <td>2013</td>\n",
       "      <td>52262</td>\n",
       "      <td>Petrol</td>\n",
       "      <td>Automatic</td>\n",
       "      <td>Third</td>\n",
       "      <td>17.20</td>\n",
       "      <td>1197</td>\n",
       "      <td>103.60</td>\n",
       "      <td>5.0</td>\n",
       "      <td>Volkswagen</td>\n",
       "    </tr>\n",
       "    <tr>\n",
       "      <th>7252</th>\n",
       "      <td>Mercedes-Benz E-Class 2009-2013 E 220 CDI Avan...</td>\n",
       "      <td>Kochi</td>\n",
       "      <td>NaN</td>\n",
       "      <td>2014</td>\n",
       "      <td>72443</td>\n",
       "      <td>Diesel</td>\n",
       "      <td>Automatic</td>\n",
       "      <td>First</td>\n",
       "      <td>10.00</td>\n",
       "      <td>2148</td>\n",
       "      <td>170.00</td>\n",
       "      <td>5.0</td>\n",
       "      <td>Mercedes-Benz</td>\n",
       "    </tr>\n",
       "  </tbody>\n",
       "</table>\n",
       "<p>7035 rows × 13 columns</p>\n",
       "</div>"
      ],
      "text/plain": [
       "                                                   Name    Location     Price  \\\n",
       "0                                Maruti Wagon R LXI CNG      Mumbai   2682.68   \n",
       "1                      Hyundai Creta 1.6 CRDi SX Option        Pune  19162.00   \n",
       "2                                          Honda Jazz V     Chennai   6898.32   \n",
       "3                                     Maruti Ertiga VDI     Chennai   9197.76   \n",
       "4                       Audi A4 New 2.0 TDI Multitronic  Coimbatore  27194.71   \n",
       "...                                                 ...         ...       ...   \n",
       "7248                  Volkswagen Vento Diesel Trendline   Hyderabad       NaN   \n",
       "7249                             Volkswagen Polo GT TSI      Mumbai       NaN   \n",
       "7250                             Nissan Micra Diesel XV     Kolkata       NaN   \n",
       "7251                             Volkswagen Polo GT TSI        Pune       NaN   \n",
       "7252  Mercedes-Benz E-Class 2009-2013 E 220 CDI Avan...       Kochi       NaN   \n",
       "\n",
       "      Year  Kilometers_Driven Fuel_Type Transmission Owner_Type  \\\n",
       "0     2010              72000       CNG       Manual      First   \n",
       "1     2015              41000    Diesel       Manual      First   \n",
       "2     2011              46000    Petrol       Manual      First   \n",
       "3     2012              87000    Diesel       Manual      First   \n",
       "4     2013              40670    Diesel    Automatic     Second   \n",
       "...    ...                ...       ...          ...        ...   \n",
       "7248  2011              89411    Diesel       Manual      First   \n",
       "7249  2015              59000    Petrol    Automatic      First   \n",
       "7250  2012              28000    Diesel       Manual      First   \n",
       "7251  2013              52262    Petrol    Automatic      Third   \n",
       "7252  2014              72443    Diesel    Automatic      First   \n",
       "\n",
       "      Mileage(km/l)  Engine(CC)  Power(bhp)  Seats          Brand  \n",
       "0             26.60         998       58.16    5.0         Maruti  \n",
       "1             19.67        1582      126.20    5.0        Hyundai  \n",
       "2             18.20        1199       88.70    5.0          Honda  \n",
       "3             20.77        1248       88.76    7.0         Maruti  \n",
       "4             15.20        1968      140.80    5.0           Audi  \n",
       "...             ...         ...         ...    ...            ...  \n",
       "7248          20.54        1598      103.60    5.0     Volkswagen  \n",
       "7249          17.21        1197      103.60    5.0     Volkswagen  \n",
       "7250          23.08        1461       63.10    5.0         Nissan  \n",
       "7251          17.20        1197      103.60    5.0     Volkswagen  \n",
       "7252          10.00        2148      170.00    5.0  Mercedes-Benz  \n",
       "\n",
       "[7035 rows x 13 columns]"
      ]
     },
     "execution_count": 3,
     "metadata": {},
     "output_type": "execute_result"
    }
   ],
   "source": [
    "df = pd.read_csv('/home/piai/2. Big Data 분석/NewCarexc.csv', index_col=0)\n",
    "df"
   ]
  },
  {
   "cell_type": "code",
   "execution_count": null,
   "id": "TornzNi79gFK",
   "metadata": {
    "colab": {
     "base_uri": "https://localhost:8080/"
    },
    "executionInfo": {
     "elapsed": 22739,
     "status": "ok",
     "timestamp": 1699162252445,
     "user": {
      "displayName": "서한솔",
      "userId": "02717896694975677999"
     },
     "user_tz": -540
    },
    "id": "TornzNi79gFK",
    "outputId": "653f872b-4c10-434a-8889-7401172c6c8f"
   },
   "outputs": [],
   "source": []
  },
  {
   "cell_type": "code",
   "execution_count": 4,
   "id": "02a0a0e4",
   "metadata": {
    "colab": {
     "base_uri": "https://localhost:8080/"
    },
    "executionInfo": {
     "elapsed": 16,
     "status": "ok",
     "timestamp": 1699162398545,
     "user": {
      "displayName": "서한솔",
      "userId": "02717896694975677999"
     },
     "user_tz": -540
    },
    "id": "02a0a0e4",
    "outputId": "937ee5ad-0aba-4e3b-b613-5ade7f7bf4c5"
   },
   "outputs": [
    {
     "data": {
      "text/plain": [
       "Name                    0\n",
       "Location                0\n",
       "Price                1014\n",
       "Year                    0\n",
       "Kilometers_Driven       0\n",
       "Fuel_Type               0\n",
       "Transmission            0\n",
       "Owner_Type              0\n",
       "Mileage(km/l)           0\n",
       "Engine(CC)              0\n",
       "Power(bhp)              0\n",
       "Seats                   0\n",
       "Brand                   0\n",
       "dtype: int64"
      ]
     },
     "execution_count": 4,
     "metadata": {},
     "output_type": "execute_result"
    }
   ],
   "source": [
    "df.isnull().sum()"
   ]
  },
  {
   "cell_type": "code",
   "execution_count": 5,
   "id": "dc260499",
   "metadata": {
    "colab": {
     "base_uri": "https://localhost:8080/"
    },
    "executionInfo": {
     "elapsed": 10,
     "status": "ok",
     "timestamp": 1699162398546,
     "user": {
      "displayName": "서한솔",
      "userId": "02717896694975677999"
     },
     "user_tz": -540
    },
    "id": "dc260499",
    "outputId": "561fa102-8803-4dd1-ab25-b4b69dd06dd4"
   },
   "outputs": [
    {
     "name": "stdout",
     "output_type": "stream",
     "text": [
      "<class 'pandas.core.frame.DataFrame'>\n",
      "Int64Index: 7035 entries, 0 to 7252\n",
      "Data columns (total 13 columns):\n",
      " #   Column             Non-Null Count  Dtype  \n",
      "---  ------             --------------  -----  \n",
      " 0   Name               7035 non-null   object \n",
      " 1   Location           7035 non-null   object \n",
      " 2   Price              6021 non-null   float64\n",
      " 3   Year               7035 non-null   int64  \n",
      " 4   Kilometers_Driven  7035 non-null   int64  \n",
      " 5   Fuel_Type          7035 non-null   object \n",
      " 6   Transmission       7035 non-null   object \n",
      " 7   Owner_Type         7035 non-null   object \n",
      " 8   Mileage(km/l)      7035 non-null   float64\n",
      " 9   Engine(CC)         7035 non-null   int64  \n",
      " 10  Power(bhp)         7035 non-null   float64\n",
      " 11  Seats              7035 non-null   float64\n",
      " 12  Brand              7035 non-null   object \n",
      "dtypes: float64(4), int64(3), object(6)\n",
      "memory usage: 769.5+ KB\n"
     ]
    }
   ],
   "source": [
    "df.info()"
   ]
  },
  {
   "cell_type": "code",
   "execution_count": 6,
   "id": "4c372218",
   "metadata": {
    "colab": {
     "base_uri": "https://localhost:8080/",
     "height": 674
    },
    "executionInfo": {
     "elapsed": 11,
     "status": "ok",
     "timestamp": 1699162400460,
     "user": {
      "displayName": "서한솔",
      "userId": "02717896694975677999"
     },
     "user_tz": -540
    },
    "id": "4c372218",
    "outputId": "363f9d18-bb39-42cb-a161-c8e706d8ccfb"
   },
   "outputs": [
    {
     "data": {
      "text/html": [
       "<div>\n",
       "<style scoped>\n",
       "    .dataframe tbody tr th:only-of-type {\n",
       "        vertical-align: middle;\n",
       "    }\n",
       "\n",
       "    .dataframe tbody tr th {\n",
       "        vertical-align: top;\n",
       "    }\n",
       "\n",
       "    .dataframe thead th {\n",
       "        text-align: right;\n",
       "    }\n",
       "</style>\n",
       "<table border=\"1\" class=\"dataframe\">\n",
       "  <thead>\n",
       "    <tr style=\"text-align: right;\">\n",
       "      <th></th>\n",
       "      <th>Name</th>\n",
       "      <th>Location</th>\n",
       "      <th>Price</th>\n",
       "      <th>Year</th>\n",
       "      <th>Kilometers_Driven</th>\n",
       "      <th>Fuel_Type</th>\n",
       "      <th>Transmission</th>\n",
       "      <th>Owner_Type</th>\n",
       "      <th>Mileage(km/l)</th>\n",
       "      <th>Engine(CC)</th>\n",
       "      <th>Power(bhp)</th>\n",
       "      <th>Seats</th>\n",
       "      <th>Brand</th>\n",
       "    </tr>\n",
       "  </thead>\n",
       "  <tbody>\n",
       "    <tr>\n",
       "      <th>6019</th>\n",
       "      <td>Maruti Alto K10 LXI CNG</td>\n",
       "      <td>Delhi</td>\n",
       "      <td>NaN</td>\n",
       "      <td>2014</td>\n",
       "      <td>40929</td>\n",
       "      <td>CNG</td>\n",
       "      <td>Manual</td>\n",
       "      <td>First</td>\n",
       "      <td>32.26</td>\n",
       "      <td>998</td>\n",
       "      <td>58.20</td>\n",
       "      <td>4.0</td>\n",
       "      <td>Maruti</td>\n",
       "    </tr>\n",
       "    <tr>\n",
       "      <th>6020</th>\n",
       "      <td>Maruti Alto 800 2016-2019 LXI</td>\n",
       "      <td>Coimbatore</td>\n",
       "      <td>NaN</td>\n",
       "      <td>2013</td>\n",
       "      <td>54493</td>\n",
       "      <td>Petrol</td>\n",
       "      <td>Manual</td>\n",
       "      <td>Second</td>\n",
       "      <td>24.70</td>\n",
       "      <td>796</td>\n",
       "      <td>47.30</td>\n",
       "      <td>5.0</td>\n",
       "      <td>Maruti</td>\n",
       "    </tr>\n",
       "    <tr>\n",
       "      <th>6023</th>\n",
       "      <td>Hyundai i20 Magna</td>\n",
       "      <td>Mumbai</td>\n",
       "      <td>NaN</td>\n",
       "      <td>2014</td>\n",
       "      <td>29000</td>\n",
       "      <td>Petrol</td>\n",
       "      <td>Manual</td>\n",
       "      <td>First</td>\n",
       "      <td>18.50</td>\n",
       "      <td>1197</td>\n",
       "      <td>82.85</td>\n",
       "      <td>5.0</td>\n",
       "      <td>Hyundai</td>\n",
       "    </tr>\n",
       "    <tr>\n",
       "      <th>6024</th>\n",
       "      <td>Mahindra XUV500 W8 2WD</td>\n",
       "      <td>Coimbatore</td>\n",
       "      <td>NaN</td>\n",
       "      <td>2016</td>\n",
       "      <td>85609</td>\n",
       "      <td>Diesel</td>\n",
       "      <td>Manual</td>\n",
       "      <td>Second</td>\n",
       "      <td>16.00</td>\n",
       "      <td>2179</td>\n",
       "      <td>140.00</td>\n",
       "      <td>7.0</td>\n",
       "      <td>Mahindra</td>\n",
       "    </tr>\n",
       "    <tr>\n",
       "      <th>6025</th>\n",
       "      <td>Toyota Fortuner 4x2 AT TRD Sportivo</td>\n",
       "      <td>Pune</td>\n",
       "      <td>NaN</td>\n",
       "      <td>2015</td>\n",
       "      <td>59000</td>\n",
       "      <td>Diesel</td>\n",
       "      <td>Automatic</td>\n",
       "      <td>First</td>\n",
       "      <td>12.55</td>\n",
       "      <td>2982</td>\n",
       "      <td>168.70</td>\n",
       "      <td>7.0</td>\n",
       "      <td>Toyota</td>\n",
       "    </tr>\n",
       "    <tr>\n",
       "      <th>...</th>\n",
       "      <td>...</td>\n",
       "      <td>...</td>\n",
       "      <td>...</td>\n",
       "      <td>...</td>\n",
       "      <td>...</td>\n",
       "      <td>...</td>\n",
       "      <td>...</td>\n",
       "      <td>...</td>\n",
       "      <td>...</td>\n",
       "      <td>...</td>\n",
       "      <td>...</td>\n",
       "      <td>...</td>\n",
       "      <td>...</td>\n",
       "    </tr>\n",
       "    <tr>\n",
       "      <th>7248</th>\n",
       "      <td>Volkswagen Vento Diesel Trendline</td>\n",
       "      <td>Hyderabad</td>\n",
       "      <td>NaN</td>\n",
       "      <td>2011</td>\n",
       "      <td>89411</td>\n",
       "      <td>Diesel</td>\n",
       "      <td>Manual</td>\n",
       "      <td>First</td>\n",
       "      <td>20.54</td>\n",
       "      <td>1598</td>\n",
       "      <td>103.60</td>\n",
       "      <td>5.0</td>\n",
       "      <td>Volkswagen</td>\n",
       "    </tr>\n",
       "    <tr>\n",
       "      <th>7249</th>\n",
       "      <td>Volkswagen Polo GT TSI</td>\n",
       "      <td>Mumbai</td>\n",
       "      <td>NaN</td>\n",
       "      <td>2015</td>\n",
       "      <td>59000</td>\n",
       "      <td>Petrol</td>\n",
       "      <td>Automatic</td>\n",
       "      <td>First</td>\n",
       "      <td>17.21</td>\n",
       "      <td>1197</td>\n",
       "      <td>103.60</td>\n",
       "      <td>5.0</td>\n",
       "      <td>Volkswagen</td>\n",
       "    </tr>\n",
       "    <tr>\n",
       "      <th>7250</th>\n",
       "      <td>Nissan Micra Diesel XV</td>\n",
       "      <td>Kolkata</td>\n",
       "      <td>NaN</td>\n",
       "      <td>2012</td>\n",
       "      <td>28000</td>\n",
       "      <td>Diesel</td>\n",
       "      <td>Manual</td>\n",
       "      <td>First</td>\n",
       "      <td>23.08</td>\n",
       "      <td>1461</td>\n",
       "      <td>63.10</td>\n",
       "      <td>5.0</td>\n",
       "      <td>Nissan</td>\n",
       "    </tr>\n",
       "    <tr>\n",
       "      <th>7251</th>\n",
       "      <td>Volkswagen Polo GT TSI</td>\n",
       "      <td>Pune</td>\n",
       "      <td>NaN</td>\n",
       "      <td>2013</td>\n",
       "      <td>52262</td>\n",
       "      <td>Petrol</td>\n",
       "      <td>Automatic</td>\n",
       "      <td>Third</td>\n",
       "      <td>17.20</td>\n",
       "      <td>1197</td>\n",
       "      <td>103.60</td>\n",
       "      <td>5.0</td>\n",
       "      <td>Volkswagen</td>\n",
       "    </tr>\n",
       "    <tr>\n",
       "      <th>7252</th>\n",
       "      <td>Mercedes-Benz E-Class 2009-2013 E 220 CDI Avan...</td>\n",
       "      <td>Kochi</td>\n",
       "      <td>NaN</td>\n",
       "      <td>2014</td>\n",
       "      <td>72443</td>\n",
       "      <td>Diesel</td>\n",
       "      <td>Automatic</td>\n",
       "      <td>First</td>\n",
       "      <td>10.00</td>\n",
       "      <td>2148</td>\n",
       "      <td>170.00</td>\n",
       "      <td>5.0</td>\n",
       "      <td>Mercedes-Benz</td>\n",
       "    </tr>\n",
       "  </tbody>\n",
       "</table>\n",
       "<p>1014 rows × 13 columns</p>\n",
       "</div>"
      ],
      "text/plain": [
       "                                                   Name    Location  Price  \\\n",
       "6019                            Maruti Alto K10 LXI CNG       Delhi    NaN   \n",
       "6020                      Maruti Alto 800 2016-2019 LXI  Coimbatore    NaN   \n",
       "6023                                  Hyundai i20 Magna      Mumbai    NaN   \n",
       "6024                             Mahindra XUV500 W8 2WD  Coimbatore    NaN   \n",
       "6025                Toyota Fortuner 4x2 AT TRD Sportivo        Pune    NaN   \n",
       "...                                                 ...         ...    ...   \n",
       "7248                  Volkswagen Vento Diesel Trendline   Hyderabad    NaN   \n",
       "7249                             Volkswagen Polo GT TSI      Mumbai    NaN   \n",
       "7250                             Nissan Micra Diesel XV     Kolkata    NaN   \n",
       "7251                             Volkswagen Polo GT TSI        Pune    NaN   \n",
       "7252  Mercedes-Benz E-Class 2009-2013 E 220 CDI Avan...       Kochi    NaN   \n",
       "\n",
       "      Year  Kilometers_Driven Fuel_Type Transmission Owner_Type  \\\n",
       "6019  2014              40929       CNG       Manual      First   \n",
       "6020  2013              54493    Petrol       Manual     Second   \n",
       "6023  2014              29000    Petrol       Manual      First   \n",
       "6024  2016              85609    Diesel       Manual     Second   \n",
       "6025  2015              59000    Diesel    Automatic      First   \n",
       "...    ...                ...       ...          ...        ...   \n",
       "7248  2011              89411    Diesel       Manual      First   \n",
       "7249  2015              59000    Petrol    Automatic      First   \n",
       "7250  2012              28000    Diesel       Manual      First   \n",
       "7251  2013              52262    Petrol    Automatic      Third   \n",
       "7252  2014              72443    Diesel    Automatic      First   \n",
       "\n",
       "      Mileage(km/l)  Engine(CC)  Power(bhp)  Seats          Brand  \n",
       "6019          32.26         998       58.20    4.0         Maruti  \n",
       "6020          24.70         796       47.30    5.0         Maruti  \n",
       "6023          18.50        1197       82.85    5.0        Hyundai  \n",
       "6024          16.00        2179      140.00    7.0       Mahindra  \n",
       "6025          12.55        2982      168.70    7.0         Toyota  \n",
       "...             ...         ...         ...    ...            ...  \n",
       "7248          20.54        1598      103.60    5.0     Volkswagen  \n",
       "7249          17.21        1197      103.60    5.0     Volkswagen  \n",
       "7250          23.08        1461       63.10    5.0         Nissan  \n",
       "7251          17.20        1197      103.60    5.0     Volkswagen  \n",
       "7252          10.00        2148      170.00    5.0  Mercedes-Benz  \n",
       "\n",
       "[1014 rows x 13 columns]"
      ]
     },
     "execution_count": 6,
     "metadata": {},
     "output_type": "execute_result"
    }
   ],
   "source": [
    "df_Price_exc = df[df['Price'].isnull()]\n",
    "df_Price_exc"
   ]
  },
  {
   "cell_type": "code",
   "execution_count": 7,
   "id": "12cf8dbe",
   "metadata": {
    "colab": {
     "base_uri": "https://localhost:8080/",
     "height": 606
    },
    "executionInfo": {
     "elapsed": 9,
     "status": "ok",
     "timestamp": 1699162402703,
     "user": {
      "displayName": "서한솔",
      "userId": "02717896694975677999"
     },
     "user_tz": -540
    },
    "id": "12cf8dbe",
    "outputId": "fa3e0835-12a8-420d-9c3d-85d750039ff4"
   },
   "outputs": [
    {
     "data": {
      "text/html": [
       "<div>\n",
       "<style scoped>\n",
       "    .dataframe tbody tr th:only-of-type {\n",
       "        vertical-align: middle;\n",
       "    }\n",
       "\n",
       "    .dataframe tbody tr th {\n",
       "        vertical-align: top;\n",
       "    }\n",
       "\n",
       "    .dataframe thead th {\n",
       "        text-align: right;\n",
       "    }\n",
       "</style>\n",
       "<table border=\"1\" class=\"dataframe\">\n",
       "  <thead>\n",
       "    <tr style=\"text-align: right;\">\n",
       "      <th></th>\n",
       "      <th>Name</th>\n",
       "      <th>Location</th>\n",
       "      <th>Price</th>\n",
       "      <th>Year</th>\n",
       "      <th>Kilometers_Driven</th>\n",
       "      <th>Fuel_Type</th>\n",
       "      <th>Transmission</th>\n",
       "      <th>Owner_Type</th>\n",
       "      <th>Mileage(km/l)</th>\n",
       "      <th>Engine(CC)</th>\n",
       "      <th>Power(bhp)</th>\n",
       "      <th>Seats</th>\n",
       "      <th>Brand</th>\n",
       "    </tr>\n",
       "  </thead>\n",
       "  <tbody>\n",
       "    <tr>\n",
       "      <th>0</th>\n",
       "      <td>Maruti Wagon R LXI CNG</td>\n",
       "      <td>Mumbai</td>\n",
       "      <td>2682.68</td>\n",
       "      <td>2010</td>\n",
       "      <td>72000</td>\n",
       "      <td>CNG</td>\n",
       "      <td>Manual</td>\n",
       "      <td>First</td>\n",
       "      <td>26.60</td>\n",
       "      <td>998</td>\n",
       "      <td>58.16</td>\n",
       "      <td>5.0</td>\n",
       "      <td>Maruti</td>\n",
       "    </tr>\n",
       "    <tr>\n",
       "      <th>1</th>\n",
       "      <td>Hyundai Creta 1.6 CRDi SX Option</td>\n",
       "      <td>Pune</td>\n",
       "      <td>19162.00</td>\n",
       "      <td>2015</td>\n",
       "      <td>41000</td>\n",
       "      <td>Diesel</td>\n",
       "      <td>Manual</td>\n",
       "      <td>First</td>\n",
       "      <td>19.67</td>\n",
       "      <td>1582</td>\n",
       "      <td>126.20</td>\n",
       "      <td>5.0</td>\n",
       "      <td>Hyundai</td>\n",
       "    </tr>\n",
       "    <tr>\n",
       "      <th>2</th>\n",
       "      <td>Honda Jazz V</td>\n",
       "      <td>Chennai</td>\n",
       "      <td>6898.32</td>\n",
       "      <td>2011</td>\n",
       "      <td>46000</td>\n",
       "      <td>Petrol</td>\n",
       "      <td>Manual</td>\n",
       "      <td>First</td>\n",
       "      <td>18.20</td>\n",
       "      <td>1199</td>\n",
       "      <td>88.70</td>\n",
       "      <td>5.0</td>\n",
       "      <td>Honda</td>\n",
       "    </tr>\n",
       "    <tr>\n",
       "      <th>3</th>\n",
       "      <td>Maruti Ertiga VDI</td>\n",
       "      <td>Chennai</td>\n",
       "      <td>9197.76</td>\n",
       "      <td>2012</td>\n",
       "      <td>87000</td>\n",
       "      <td>Diesel</td>\n",
       "      <td>Manual</td>\n",
       "      <td>First</td>\n",
       "      <td>20.77</td>\n",
       "      <td>1248</td>\n",
       "      <td>88.76</td>\n",
       "      <td>7.0</td>\n",
       "      <td>Maruti</td>\n",
       "    </tr>\n",
       "    <tr>\n",
       "      <th>4</th>\n",
       "      <td>Audi A4 New 2.0 TDI Multitronic</td>\n",
       "      <td>Coimbatore</td>\n",
       "      <td>27194.71</td>\n",
       "      <td>2013</td>\n",
       "      <td>40670</td>\n",
       "      <td>Diesel</td>\n",
       "      <td>Automatic</td>\n",
       "      <td>Second</td>\n",
       "      <td>15.20</td>\n",
       "      <td>1968</td>\n",
       "      <td>140.80</td>\n",
       "      <td>5.0</td>\n",
       "      <td>Audi</td>\n",
       "    </tr>\n",
       "    <tr>\n",
       "      <th>...</th>\n",
       "      <td>...</td>\n",
       "      <td>...</td>\n",
       "      <td>...</td>\n",
       "      <td>...</td>\n",
       "      <td>...</td>\n",
       "      <td>...</td>\n",
       "      <td>...</td>\n",
       "      <td>...</td>\n",
       "      <td>...</td>\n",
       "      <td>...</td>\n",
       "      <td>...</td>\n",
       "      <td>...</td>\n",
       "      <td>...</td>\n",
       "    </tr>\n",
       "    <tr>\n",
       "      <th>7228</th>\n",
       "      <td>Tata Tiago 1.05 Revotorq XT Option</td>\n",
       "      <td>Pune</td>\n",
       "      <td>10822.70</td>\n",
       "      <td>2016</td>\n",
       "      <td>41413</td>\n",
       "      <td>Diesel</td>\n",
       "      <td>Manual</td>\n",
       "      <td>First</td>\n",
       "      <td>27.28</td>\n",
       "      <td>1047</td>\n",
       "      <td>69.00</td>\n",
       "      <td>5.0</td>\n",
       "      <td>Tata</td>\n",
       "    </tr>\n",
       "    <tr>\n",
       "      <th>7231</th>\n",
       "      <td>Ford EcoSport 1.5 Petrol Ambiente</td>\n",
       "      <td>Kochi</td>\n",
       "      <td>13474.72</td>\n",
       "      <td>2017</td>\n",
       "      <td>39015</td>\n",
       "      <td>Petrol</td>\n",
       "      <td>Manual</td>\n",
       "      <td>First</td>\n",
       "      <td>17.00</td>\n",
       "      <td>1497</td>\n",
       "      <td>121.36</td>\n",
       "      <td>5.0</td>\n",
       "      <td>Ford</td>\n",
       "    </tr>\n",
       "    <tr>\n",
       "      <th>7232</th>\n",
       "      <td>Jeep Compass 1.4 Sport</td>\n",
       "      <td>Mumbai</td>\n",
       "      <td>27838.55</td>\n",
       "      <td>2018</td>\n",
       "      <td>6000</td>\n",
       "      <td>Petrol</td>\n",
       "      <td>Manual</td>\n",
       "      <td>First</td>\n",
       "      <td>16.00</td>\n",
       "      <td>1368</td>\n",
       "      <td>160.00</td>\n",
       "      <td>5.0</td>\n",
       "      <td>Jeep</td>\n",
       "    </tr>\n",
       "    <tr>\n",
       "      <th>7235</th>\n",
       "      <td>Maruti Vitara Brezza ZDi</td>\n",
       "      <td>Kochi</td>\n",
       "      <td>16203.39</td>\n",
       "      <td>2017</td>\n",
       "      <td>21380</td>\n",
       "      <td>Diesel</td>\n",
       "      <td>Manual</td>\n",
       "      <td>First</td>\n",
       "      <td>24.30</td>\n",
       "      <td>1248</td>\n",
       "      <td>88.50</td>\n",
       "      <td>5.0</td>\n",
       "      <td>Maruti</td>\n",
       "    </tr>\n",
       "    <tr>\n",
       "      <th>7236</th>\n",
       "      <td>Hyundai Elite i20 Magna Plus</td>\n",
       "      <td>Kochi</td>\n",
       "      <td>7.08</td>\n",
       "      <td>2018</td>\n",
       "      <td>23955</td>\n",
       "      <td>Petrol</td>\n",
       "      <td>Manual</td>\n",
       "      <td>First</td>\n",
       "      <td>18.60</td>\n",
       "      <td>1197</td>\n",
       "      <td>81.86</td>\n",
       "      <td>5.0</td>\n",
       "      <td>Hyundai</td>\n",
       "    </tr>\n",
       "  </tbody>\n",
       "</table>\n",
       "<p>6021 rows × 13 columns</p>\n",
       "</div>"
      ],
      "text/plain": [
       "                                    Name    Location     Price  Year  \\\n",
       "0                 Maruti Wagon R LXI CNG      Mumbai   2682.68  2010   \n",
       "1       Hyundai Creta 1.6 CRDi SX Option        Pune  19162.00  2015   \n",
       "2                           Honda Jazz V     Chennai   6898.32  2011   \n",
       "3                      Maruti Ertiga VDI     Chennai   9197.76  2012   \n",
       "4        Audi A4 New 2.0 TDI Multitronic  Coimbatore  27194.71  2013   \n",
       "...                                  ...         ...       ...   ...   \n",
       "7228  Tata Tiago 1.05 Revotorq XT Option        Pune  10822.70  2016   \n",
       "7231   Ford EcoSport 1.5 Petrol Ambiente       Kochi  13474.72  2017   \n",
       "7232              Jeep Compass 1.4 Sport      Mumbai  27838.55  2018   \n",
       "7235            Maruti Vitara Brezza ZDi       Kochi  16203.39  2017   \n",
       "7236        Hyundai Elite i20 Magna Plus       Kochi      7.08  2018   \n",
       "\n",
       "      Kilometers_Driven Fuel_Type Transmission Owner_Type  Mileage(km/l)  \\\n",
       "0                 72000       CNG       Manual      First          26.60   \n",
       "1                 41000    Diesel       Manual      First          19.67   \n",
       "2                 46000    Petrol       Manual      First          18.20   \n",
       "3                 87000    Diesel       Manual      First          20.77   \n",
       "4                 40670    Diesel    Automatic     Second          15.20   \n",
       "...                 ...       ...          ...        ...            ...   \n",
       "7228              41413    Diesel       Manual      First          27.28   \n",
       "7231              39015    Petrol       Manual      First          17.00   \n",
       "7232               6000    Petrol       Manual      First          16.00   \n",
       "7235              21380    Diesel       Manual      First          24.30   \n",
       "7236              23955    Petrol       Manual      First          18.60   \n",
       "\n",
       "      Engine(CC)  Power(bhp)  Seats    Brand  \n",
       "0            998       58.16    5.0   Maruti  \n",
       "1           1582      126.20    5.0  Hyundai  \n",
       "2           1199       88.70    5.0    Honda  \n",
       "3           1248       88.76    7.0   Maruti  \n",
       "4           1968      140.80    5.0     Audi  \n",
       "...          ...         ...    ...      ...  \n",
       "7228        1047       69.00    5.0     Tata  \n",
       "7231        1497      121.36    5.0     Ford  \n",
       "7232        1368      160.00    5.0     Jeep  \n",
       "7235        1248       88.50    5.0   Maruti  \n",
       "7236        1197       81.86    5.0  Hyundai  \n",
       "\n",
       "[6021 rows x 13 columns]"
      ]
     },
     "execution_count": 7,
     "metadata": {},
     "output_type": "execute_result"
    }
   ],
   "source": [
    "df_Price_inc = df[df['Price'].isnull() == False]\n",
    "df_Price_inc\n",
    "# Price 결측치 제외한 데이터만 추출 --> 모델 만들어서 성능 비교 위해"
   ]
  },
  {
   "cell_type": "code",
   "execution_count": 8,
   "id": "6fc7b53f",
   "metadata": {
    "colab": {
     "base_uri": "https://localhost:8080/",
     "height": 504
    },
    "executionInfo": {
     "elapsed": 11,
     "status": "ok",
     "timestamp": 1699162405431,
     "user": {
      "displayName": "서한솔",
      "userId": "02717896694975677999"
     },
     "user_tz": -540
    },
    "id": "6fc7b53f",
    "outputId": "f7d63310-3a35-4b7f-b790-fb23a31b9de6"
   },
   "outputs": [
    {
     "name": "stderr",
     "output_type": "stream",
     "text": [
      "/tmp/ipykernel_11614/2856191440.py:2: SettingWithCopyWarning: \n",
      "A value is trying to be set on a copy of a slice from a DataFrame\n",
      "\n",
      "See the caveats in the documentation: https://pandas.pydata.org/pandas-docs/stable/user_guide/indexing.html#returning-a-view-versus-a-copy\n",
      "  df_Price_inc.drop('Name', axis=1, inplace=True)\n"
     ]
    },
    {
     "data": {
      "text/html": [
       "<div>\n",
       "<style scoped>\n",
       "    .dataframe tbody tr th:only-of-type {\n",
       "        vertical-align: middle;\n",
       "    }\n",
       "\n",
       "    .dataframe tbody tr th {\n",
       "        vertical-align: top;\n",
       "    }\n",
       "\n",
       "    .dataframe thead th {\n",
       "        text-align: right;\n",
       "    }\n",
       "</style>\n",
       "<table border=\"1\" class=\"dataframe\">\n",
       "  <thead>\n",
       "    <tr style=\"text-align: right;\">\n",
       "      <th></th>\n",
       "      <th>Location</th>\n",
       "      <th>Price</th>\n",
       "      <th>Year</th>\n",
       "      <th>Kilometers_Driven</th>\n",
       "      <th>Fuel_Type</th>\n",
       "      <th>Transmission</th>\n",
       "      <th>Owner_Type</th>\n",
       "      <th>Mileage(km/l)</th>\n",
       "      <th>Engine(CC)</th>\n",
       "      <th>Power(bhp)</th>\n",
       "      <th>Seats</th>\n",
       "      <th>Brand</th>\n",
       "    </tr>\n",
       "  </thead>\n",
       "  <tbody>\n",
       "    <tr>\n",
       "      <th>0</th>\n",
       "      <td>Mumbai</td>\n",
       "      <td>2682.68</td>\n",
       "      <td>2010</td>\n",
       "      <td>72000</td>\n",
       "      <td>CNG</td>\n",
       "      <td>Manual</td>\n",
       "      <td>First</td>\n",
       "      <td>26.60</td>\n",
       "      <td>998</td>\n",
       "      <td>58.16</td>\n",
       "      <td>5.0</td>\n",
       "      <td>Maruti</td>\n",
       "    </tr>\n",
       "    <tr>\n",
       "      <th>1</th>\n",
       "      <td>Pune</td>\n",
       "      <td>19162.00</td>\n",
       "      <td>2015</td>\n",
       "      <td>41000</td>\n",
       "      <td>Diesel</td>\n",
       "      <td>Manual</td>\n",
       "      <td>First</td>\n",
       "      <td>19.67</td>\n",
       "      <td>1582</td>\n",
       "      <td>126.20</td>\n",
       "      <td>5.0</td>\n",
       "      <td>Hyundai</td>\n",
       "    </tr>\n",
       "    <tr>\n",
       "      <th>2</th>\n",
       "      <td>Chennai</td>\n",
       "      <td>6898.32</td>\n",
       "      <td>2011</td>\n",
       "      <td>46000</td>\n",
       "      <td>Petrol</td>\n",
       "      <td>Manual</td>\n",
       "      <td>First</td>\n",
       "      <td>18.20</td>\n",
       "      <td>1199</td>\n",
       "      <td>88.70</td>\n",
       "      <td>5.0</td>\n",
       "      <td>Honda</td>\n",
       "    </tr>\n",
       "    <tr>\n",
       "      <th>3</th>\n",
       "      <td>Chennai</td>\n",
       "      <td>9197.76</td>\n",
       "      <td>2012</td>\n",
       "      <td>87000</td>\n",
       "      <td>Diesel</td>\n",
       "      <td>Manual</td>\n",
       "      <td>First</td>\n",
       "      <td>20.77</td>\n",
       "      <td>1248</td>\n",
       "      <td>88.76</td>\n",
       "      <td>7.0</td>\n",
       "      <td>Maruti</td>\n",
       "    </tr>\n",
       "    <tr>\n",
       "      <th>4</th>\n",
       "      <td>Coimbatore</td>\n",
       "      <td>27194.71</td>\n",
       "      <td>2013</td>\n",
       "      <td>40670</td>\n",
       "      <td>Diesel</td>\n",
       "      <td>Automatic</td>\n",
       "      <td>Second</td>\n",
       "      <td>15.20</td>\n",
       "      <td>1968</td>\n",
       "      <td>140.80</td>\n",
       "      <td>5.0</td>\n",
       "      <td>Audi</td>\n",
       "    </tr>\n",
       "    <tr>\n",
       "      <th>...</th>\n",
       "      <td>...</td>\n",
       "      <td>...</td>\n",
       "      <td>...</td>\n",
       "      <td>...</td>\n",
       "      <td>...</td>\n",
       "      <td>...</td>\n",
       "      <td>...</td>\n",
       "      <td>...</td>\n",
       "      <td>...</td>\n",
       "      <td>...</td>\n",
       "      <td>...</td>\n",
       "      <td>...</td>\n",
       "    </tr>\n",
       "    <tr>\n",
       "      <th>7228</th>\n",
       "      <td>Pune</td>\n",
       "      <td>10822.70</td>\n",
       "      <td>2016</td>\n",
       "      <td>41413</td>\n",
       "      <td>Diesel</td>\n",
       "      <td>Manual</td>\n",
       "      <td>First</td>\n",
       "      <td>27.28</td>\n",
       "      <td>1047</td>\n",
       "      <td>69.00</td>\n",
       "      <td>5.0</td>\n",
       "      <td>Tata</td>\n",
       "    </tr>\n",
       "    <tr>\n",
       "      <th>7231</th>\n",
       "      <td>Kochi</td>\n",
       "      <td>13474.72</td>\n",
       "      <td>2017</td>\n",
       "      <td>39015</td>\n",
       "      <td>Petrol</td>\n",
       "      <td>Manual</td>\n",
       "      <td>First</td>\n",
       "      <td>17.00</td>\n",
       "      <td>1497</td>\n",
       "      <td>121.36</td>\n",
       "      <td>5.0</td>\n",
       "      <td>Ford</td>\n",
       "    </tr>\n",
       "    <tr>\n",
       "      <th>7232</th>\n",
       "      <td>Mumbai</td>\n",
       "      <td>27838.55</td>\n",
       "      <td>2018</td>\n",
       "      <td>6000</td>\n",
       "      <td>Petrol</td>\n",
       "      <td>Manual</td>\n",
       "      <td>First</td>\n",
       "      <td>16.00</td>\n",
       "      <td>1368</td>\n",
       "      <td>160.00</td>\n",
       "      <td>5.0</td>\n",
       "      <td>Jeep</td>\n",
       "    </tr>\n",
       "    <tr>\n",
       "      <th>7235</th>\n",
       "      <td>Kochi</td>\n",
       "      <td>16203.39</td>\n",
       "      <td>2017</td>\n",
       "      <td>21380</td>\n",
       "      <td>Diesel</td>\n",
       "      <td>Manual</td>\n",
       "      <td>First</td>\n",
       "      <td>24.30</td>\n",
       "      <td>1248</td>\n",
       "      <td>88.50</td>\n",
       "      <td>5.0</td>\n",
       "      <td>Maruti</td>\n",
       "    </tr>\n",
       "    <tr>\n",
       "      <th>7236</th>\n",
       "      <td>Kochi</td>\n",
       "      <td>7.08</td>\n",
       "      <td>2018</td>\n",
       "      <td>23955</td>\n",
       "      <td>Petrol</td>\n",
       "      <td>Manual</td>\n",
       "      <td>First</td>\n",
       "      <td>18.60</td>\n",
       "      <td>1197</td>\n",
       "      <td>81.86</td>\n",
       "      <td>5.0</td>\n",
       "      <td>Hyundai</td>\n",
       "    </tr>\n",
       "  </tbody>\n",
       "</table>\n",
       "<p>6021 rows × 12 columns</p>\n",
       "</div>"
      ],
      "text/plain": [
       "        Location     Price  Year  Kilometers_Driven Fuel_Type Transmission  \\\n",
       "0         Mumbai   2682.68  2010              72000       CNG       Manual   \n",
       "1           Pune  19162.00  2015              41000    Diesel       Manual   \n",
       "2        Chennai   6898.32  2011              46000    Petrol       Manual   \n",
       "3        Chennai   9197.76  2012              87000    Diesel       Manual   \n",
       "4     Coimbatore  27194.71  2013              40670    Diesel    Automatic   \n",
       "...          ...       ...   ...                ...       ...          ...   \n",
       "7228        Pune  10822.70  2016              41413    Diesel       Manual   \n",
       "7231       Kochi  13474.72  2017              39015    Petrol       Manual   \n",
       "7232      Mumbai  27838.55  2018               6000    Petrol       Manual   \n",
       "7235       Kochi  16203.39  2017              21380    Diesel       Manual   \n",
       "7236       Kochi      7.08  2018              23955    Petrol       Manual   \n",
       "\n",
       "     Owner_Type  Mileage(km/l)  Engine(CC)  Power(bhp)  Seats    Brand  \n",
       "0         First          26.60         998       58.16    5.0   Maruti  \n",
       "1         First          19.67        1582      126.20    5.0  Hyundai  \n",
       "2         First          18.20        1199       88.70    5.0    Honda  \n",
       "3         First          20.77        1248       88.76    7.0   Maruti  \n",
       "4        Second          15.20        1968      140.80    5.0     Audi  \n",
       "...         ...            ...         ...         ...    ...      ...  \n",
       "7228      First          27.28        1047       69.00    5.0     Tata  \n",
       "7231      First          17.00        1497      121.36    5.0     Ford  \n",
       "7232      First          16.00        1368      160.00    5.0     Jeep  \n",
       "7235      First          24.30        1248       88.50    5.0   Maruti  \n",
       "7236      First          18.60        1197       81.86    5.0  Hyundai  \n",
       "\n",
       "[6021 rows x 12 columns]"
      ]
     },
     "execution_count": 8,
     "metadata": {},
     "output_type": "execute_result"
    }
   ],
   "source": [
    "# 고유값들인 Name 데이터를 제거함\n",
    "df_Price_inc.drop('Name', axis=1, inplace=True)\n",
    "df_Price_inc"
   ]
  },
  {
   "cell_type": "code",
   "execution_count": 9,
   "id": "d7923f99",
   "metadata": {
    "colab": {
     "base_uri": "https://localhost:8080/",
     "height": 439
    },
    "executionInfo": {
     "elapsed": 662,
     "status": "ok",
     "timestamp": 1699162408211,
     "user": {
      "displayName": "서한솔",
      "userId": "02717896694975677999"
     },
     "user_tz": -540
    },
    "id": "d7923f99",
    "outputId": "38dbdeea-4a5a-4edf-ca56-1d8ee218f654"
   },
   "outputs": [
    {
     "data": {
      "text/html": [
       "<div>\n",
       "<style scoped>\n",
       "    .dataframe tbody tr th:only-of-type {\n",
       "        vertical-align: middle;\n",
       "    }\n",
       "\n",
       "    .dataframe tbody tr th {\n",
       "        vertical-align: top;\n",
       "    }\n",
       "\n",
       "    .dataframe thead th {\n",
       "        text-align: right;\n",
       "    }\n",
       "</style>\n",
       "<table border=\"1\" class=\"dataframe\">\n",
       "  <thead>\n",
       "    <tr style=\"text-align: right;\">\n",
       "      <th></th>\n",
       "      <th>Price</th>\n",
       "      <th>Year</th>\n",
       "      <th>Kilometers_Driven</th>\n",
       "      <th>Mileage(km/l)</th>\n",
       "      <th>Engine(CC)</th>\n",
       "      <th>Power(bhp)</th>\n",
       "      <th>Seats</th>\n",
       "      <th>Location_Ahmedabad</th>\n",
       "      <th>Location_Bangalore</th>\n",
       "      <th>Location_Chennai</th>\n",
       "      <th>...</th>\n",
       "      <th>Brand_Mini</th>\n",
       "      <th>Brand_Mitsubishi</th>\n",
       "      <th>Brand_Nissan</th>\n",
       "      <th>Brand_Porsche</th>\n",
       "      <th>Brand_Renault</th>\n",
       "      <th>Brand_Skoda</th>\n",
       "      <th>Brand_Tata</th>\n",
       "      <th>Brand_Toyota</th>\n",
       "      <th>Brand_Volkswagen</th>\n",
       "      <th>Brand_Volvo</th>\n",
       "    </tr>\n",
       "  </thead>\n",
       "  <tbody>\n",
       "    <tr>\n",
       "      <th>0</th>\n",
       "      <td>2682.68</td>\n",
       "      <td>2010</td>\n",
       "      <td>72000</td>\n",
       "      <td>26.60</td>\n",
       "      <td>998</td>\n",
       "      <td>58.16</td>\n",
       "      <td>5.0</td>\n",
       "      <td>0</td>\n",
       "      <td>0</td>\n",
       "      <td>0</td>\n",
       "      <td>...</td>\n",
       "      <td>0</td>\n",
       "      <td>0</td>\n",
       "      <td>0</td>\n",
       "      <td>0</td>\n",
       "      <td>0</td>\n",
       "      <td>0</td>\n",
       "      <td>0</td>\n",
       "      <td>0</td>\n",
       "      <td>0</td>\n",
       "      <td>0</td>\n",
       "    </tr>\n",
       "    <tr>\n",
       "      <th>1</th>\n",
       "      <td>19162.00</td>\n",
       "      <td>2015</td>\n",
       "      <td>41000</td>\n",
       "      <td>19.67</td>\n",
       "      <td>1582</td>\n",
       "      <td>126.20</td>\n",
       "      <td>5.0</td>\n",
       "      <td>0</td>\n",
       "      <td>0</td>\n",
       "      <td>0</td>\n",
       "      <td>...</td>\n",
       "      <td>0</td>\n",
       "      <td>0</td>\n",
       "      <td>0</td>\n",
       "      <td>0</td>\n",
       "      <td>0</td>\n",
       "      <td>0</td>\n",
       "      <td>0</td>\n",
       "      <td>0</td>\n",
       "      <td>0</td>\n",
       "      <td>0</td>\n",
       "    </tr>\n",
       "    <tr>\n",
       "      <th>2</th>\n",
       "      <td>6898.32</td>\n",
       "      <td>2011</td>\n",
       "      <td>46000</td>\n",
       "      <td>18.20</td>\n",
       "      <td>1199</td>\n",
       "      <td>88.70</td>\n",
       "      <td>5.0</td>\n",
       "      <td>0</td>\n",
       "      <td>0</td>\n",
       "      <td>1</td>\n",
       "      <td>...</td>\n",
       "      <td>0</td>\n",
       "      <td>0</td>\n",
       "      <td>0</td>\n",
       "      <td>0</td>\n",
       "      <td>0</td>\n",
       "      <td>0</td>\n",
       "      <td>0</td>\n",
       "      <td>0</td>\n",
       "      <td>0</td>\n",
       "      <td>0</td>\n",
       "    </tr>\n",
       "    <tr>\n",
       "      <th>3</th>\n",
       "      <td>9197.76</td>\n",
       "      <td>2012</td>\n",
       "      <td>87000</td>\n",
       "      <td>20.77</td>\n",
       "      <td>1248</td>\n",
       "      <td>88.76</td>\n",
       "      <td>7.0</td>\n",
       "      <td>0</td>\n",
       "      <td>0</td>\n",
       "      <td>1</td>\n",
       "      <td>...</td>\n",
       "      <td>0</td>\n",
       "      <td>0</td>\n",
       "      <td>0</td>\n",
       "      <td>0</td>\n",
       "      <td>0</td>\n",
       "      <td>0</td>\n",
       "      <td>0</td>\n",
       "      <td>0</td>\n",
       "      <td>0</td>\n",
       "      <td>0</td>\n",
       "    </tr>\n",
       "    <tr>\n",
       "      <th>4</th>\n",
       "      <td>27194.71</td>\n",
       "      <td>2013</td>\n",
       "      <td>40670</td>\n",
       "      <td>15.20</td>\n",
       "      <td>1968</td>\n",
       "      <td>140.80</td>\n",
       "      <td>5.0</td>\n",
       "      <td>0</td>\n",
       "      <td>0</td>\n",
       "      <td>0</td>\n",
       "      <td>...</td>\n",
       "      <td>0</td>\n",
       "      <td>0</td>\n",
       "      <td>0</td>\n",
       "      <td>0</td>\n",
       "      <td>0</td>\n",
       "      <td>0</td>\n",
       "      <td>0</td>\n",
       "      <td>0</td>\n",
       "      <td>0</td>\n",
       "      <td>0</td>\n",
       "    </tr>\n",
       "    <tr>\n",
       "      <th>...</th>\n",
       "      <td>...</td>\n",
       "      <td>...</td>\n",
       "      <td>...</td>\n",
       "      <td>...</td>\n",
       "      <td>...</td>\n",
       "      <td>...</td>\n",
       "      <td>...</td>\n",
       "      <td>...</td>\n",
       "      <td>...</td>\n",
       "      <td>...</td>\n",
       "      <td>...</td>\n",
       "      <td>...</td>\n",
       "      <td>...</td>\n",
       "      <td>...</td>\n",
       "      <td>...</td>\n",
       "      <td>...</td>\n",
       "      <td>...</td>\n",
       "      <td>...</td>\n",
       "      <td>...</td>\n",
       "      <td>...</td>\n",
       "      <td>...</td>\n",
       "    </tr>\n",
       "    <tr>\n",
       "      <th>7228</th>\n",
       "      <td>10822.70</td>\n",
       "      <td>2016</td>\n",
       "      <td>41413</td>\n",
       "      <td>27.28</td>\n",
       "      <td>1047</td>\n",
       "      <td>69.00</td>\n",
       "      <td>5.0</td>\n",
       "      <td>0</td>\n",
       "      <td>0</td>\n",
       "      <td>0</td>\n",
       "      <td>...</td>\n",
       "      <td>0</td>\n",
       "      <td>0</td>\n",
       "      <td>0</td>\n",
       "      <td>0</td>\n",
       "      <td>0</td>\n",
       "      <td>0</td>\n",
       "      <td>1</td>\n",
       "      <td>0</td>\n",
       "      <td>0</td>\n",
       "      <td>0</td>\n",
       "    </tr>\n",
       "    <tr>\n",
       "      <th>7231</th>\n",
       "      <td>13474.72</td>\n",
       "      <td>2017</td>\n",
       "      <td>39015</td>\n",
       "      <td>17.00</td>\n",
       "      <td>1497</td>\n",
       "      <td>121.36</td>\n",
       "      <td>5.0</td>\n",
       "      <td>0</td>\n",
       "      <td>0</td>\n",
       "      <td>0</td>\n",
       "      <td>...</td>\n",
       "      <td>0</td>\n",
       "      <td>0</td>\n",
       "      <td>0</td>\n",
       "      <td>0</td>\n",
       "      <td>0</td>\n",
       "      <td>0</td>\n",
       "      <td>0</td>\n",
       "      <td>0</td>\n",
       "      <td>0</td>\n",
       "      <td>0</td>\n",
       "    </tr>\n",
       "    <tr>\n",
       "      <th>7232</th>\n",
       "      <td>27838.55</td>\n",
       "      <td>2018</td>\n",
       "      <td>6000</td>\n",
       "      <td>16.00</td>\n",
       "      <td>1368</td>\n",
       "      <td>160.00</td>\n",
       "      <td>5.0</td>\n",
       "      <td>0</td>\n",
       "      <td>0</td>\n",
       "      <td>0</td>\n",
       "      <td>...</td>\n",
       "      <td>0</td>\n",
       "      <td>0</td>\n",
       "      <td>0</td>\n",
       "      <td>0</td>\n",
       "      <td>0</td>\n",
       "      <td>0</td>\n",
       "      <td>0</td>\n",
       "      <td>0</td>\n",
       "      <td>0</td>\n",
       "      <td>0</td>\n",
       "    </tr>\n",
       "    <tr>\n",
       "      <th>7235</th>\n",
       "      <td>16203.39</td>\n",
       "      <td>2017</td>\n",
       "      <td>21380</td>\n",
       "      <td>24.30</td>\n",
       "      <td>1248</td>\n",
       "      <td>88.50</td>\n",
       "      <td>5.0</td>\n",
       "      <td>0</td>\n",
       "      <td>0</td>\n",
       "      <td>0</td>\n",
       "      <td>...</td>\n",
       "      <td>0</td>\n",
       "      <td>0</td>\n",
       "      <td>0</td>\n",
       "      <td>0</td>\n",
       "      <td>0</td>\n",
       "      <td>0</td>\n",
       "      <td>0</td>\n",
       "      <td>0</td>\n",
       "      <td>0</td>\n",
       "      <td>0</td>\n",
       "    </tr>\n",
       "    <tr>\n",
       "      <th>7236</th>\n",
       "      <td>7.08</td>\n",
       "      <td>2018</td>\n",
       "      <td>23955</td>\n",
       "      <td>18.60</td>\n",
       "      <td>1197</td>\n",
       "      <td>81.86</td>\n",
       "      <td>5.0</td>\n",
       "      <td>0</td>\n",
       "      <td>0</td>\n",
       "      <td>0</td>\n",
       "      <td>...</td>\n",
       "      <td>0</td>\n",
       "      <td>0</td>\n",
       "      <td>0</td>\n",
       "      <td>0</td>\n",
       "      <td>0</td>\n",
       "      <td>0</td>\n",
       "      <td>0</td>\n",
       "      <td>0</td>\n",
       "      <td>0</td>\n",
       "      <td>0</td>\n",
       "    </tr>\n",
       "  </tbody>\n",
       "</table>\n",
       "<p>6021 rows × 57 columns</p>\n",
       "</div>"
      ],
      "text/plain": [
       "         Price  Year  Kilometers_Driven  Mileage(km/l)  Engine(CC)  \\\n",
       "0      2682.68  2010              72000          26.60         998   \n",
       "1     19162.00  2015              41000          19.67        1582   \n",
       "2      6898.32  2011              46000          18.20        1199   \n",
       "3      9197.76  2012              87000          20.77        1248   \n",
       "4     27194.71  2013              40670          15.20        1968   \n",
       "...        ...   ...                ...            ...         ...   \n",
       "7228  10822.70  2016              41413          27.28        1047   \n",
       "7231  13474.72  2017              39015          17.00        1497   \n",
       "7232  27838.55  2018               6000          16.00        1368   \n",
       "7235  16203.39  2017              21380          24.30        1248   \n",
       "7236      7.08  2018              23955          18.60        1197   \n",
       "\n",
       "      Power(bhp)  Seats  Location_Ahmedabad  Location_Bangalore  \\\n",
       "0          58.16    5.0                   0                   0   \n",
       "1         126.20    5.0                   0                   0   \n",
       "2          88.70    5.0                   0                   0   \n",
       "3          88.76    7.0                   0                   0   \n",
       "4         140.80    5.0                   0                   0   \n",
       "...          ...    ...                 ...                 ...   \n",
       "7228       69.00    5.0                   0                   0   \n",
       "7231      121.36    5.0                   0                   0   \n",
       "7232      160.00    5.0                   0                   0   \n",
       "7235       88.50    5.0                   0                   0   \n",
       "7236       81.86    5.0                   0                   0   \n",
       "\n",
       "      Location_Chennai  ...  Brand_Mini  Brand_Mitsubishi  Brand_Nissan  \\\n",
       "0                    0  ...           0                 0             0   \n",
       "1                    0  ...           0                 0             0   \n",
       "2                    1  ...           0                 0             0   \n",
       "3                    1  ...           0                 0             0   \n",
       "4                    0  ...           0                 0             0   \n",
       "...                ...  ...         ...               ...           ...   \n",
       "7228                 0  ...           0                 0             0   \n",
       "7231                 0  ...           0                 0             0   \n",
       "7232                 0  ...           0                 0             0   \n",
       "7235                 0  ...           0                 0             0   \n",
       "7236                 0  ...           0                 0             0   \n",
       "\n",
       "      Brand_Porsche  Brand_Renault  Brand_Skoda  Brand_Tata  Brand_Toyota  \\\n",
       "0                 0              0            0           0             0   \n",
       "1                 0              0            0           0             0   \n",
       "2                 0              0            0           0             0   \n",
       "3                 0              0            0           0             0   \n",
       "4                 0              0            0           0             0   \n",
       "...             ...            ...          ...         ...           ...   \n",
       "7228              0              0            0           1             0   \n",
       "7231              0              0            0           0             0   \n",
       "7232              0              0            0           0             0   \n",
       "7235              0              0            0           0             0   \n",
       "7236              0              0            0           0             0   \n",
       "\n",
       "      Brand_Volkswagen  Brand_Volvo  \n",
       "0                    0            0  \n",
       "1                    0            0  \n",
       "2                    0            0  \n",
       "3                    0            0  \n",
       "4                    0            0  \n",
       "...                ...          ...  \n",
       "7228                 0            0  \n",
       "7231                 0            0  \n",
       "7232                 0            0  \n",
       "7235                 0            0  \n",
       "7236                 0            0  \n",
       "\n",
       "[6021 rows x 57 columns]"
      ]
     },
     "execution_count": 9,
     "metadata": {},
     "output_type": "execute_result"
    }
   ],
   "source": [
    "# 범주형 변수를 더미변수로 만듬\n",
    "df_Price_inc = pd.get_dummies(df_Price_inc)\n",
    "df_Price_inc"
   ]
  },
  {
   "cell_type": "code",
   "execution_count": 10,
   "id": "89ca33f1",
   "metadata": {
    "id": "89ca33f1"
   },
   "outputs": [],
   "source": [
    "# 목표변수, 설명변수 분리\n",
    "df_y = df_Price_inc[\"Price\"]\n",
    "df_x = df_Price_inc.drop(\"Price\", axis=1, inplace=False)"
   ]
  },
  {
   "cell_type": "code",
   "execution_count": 11,
   "id": "e4a9e35d",
   "metadata": {
    "colab": {
     "base_uri": "https://localhost:8080/"
    },
    "executionInfo": {
     "elapsed": 3,
     "status": "ok",
     "timestamp": 1699162411259,
     "user": {
      "displayName": "서한솔",
      "userId": "02717896694975677999"
     },
     "user_tz": -540
    },
    "id": "e4a9e35d",
    "outputId": "f22e1987-2d2c-4fdd-ec6b-368acdef3420"
   },
   "outputs": [
    {
     "name": "stdout",
     "output_type": "stream",
     "text": [
      "train data X size: (4214, 56)\n",
      "train data Y size: (4214,)\n",
      "test data X size: (1807, 56)\n",
      "test data Y size: (1807,)\n"
     ]
    }
   ],
   "source": [
    "# 데이터를 7:3으로 나눔 --> train data & test data\n",
    "df_train_x, df_test_x,df_train_y, df_test_y = train_test_split(df_x, df_y, test_size=0.3, random_state=1234)\n",
    "\n",
    "print(\"train data X size: {}\".format(df_train_x.shape))\n",
    "print(\"train data Y size: {}\".format(df_train_y.shape))\n",
    "print(\"test data X size: {}\".format(df_test_x.shape))\n",
    "print(\"test data Y size: {}\".format(df_test_y.shape))\n"
   ]
  },
  {
   "cell_type": "code",
   "execution_count": null,
   "id": "0dbbf418",
   "metadata": {
    "id": "0dbbf418"
   },
   "outputs": [],
   "source": []
  },
  {
   "cell_type": "code",
   "execution_count": null,
   "id": "97e05f0f",
   "metadata": {
    "id": "97e05f0f"
   },
   "outputs": [],
   "source": []
  },
  {
   "cell_type": "code",
   "execution_count": 12,
   "id": "80b8de82",
   "metadata": {
    "colab": {
     "base_uri": "https://localhost:8080/"
    },
    "executionInfo": {
     "elapsed": 370,
     "status": "ok",
     "timestamp": 1699162415001,
     "user": {
      "displayName": "서한솔",
      "userId": "02717896694975677999"
     },
     "user_tz": -540
    },
    "id": "80b8de82",
    "outputId": "496334eb-086a-4c71-8134-bf09c60730cf"
   },
   "outputs": [
    {
     "name": "stdout",
     "output_type": "stream",
     "text": [
      "Score on training set 1.000\n",
      "Score on test set 0.692\n"
     ]
    }
   ],
   "source": [
    "#기본 모델 생성\n",
    "dt_uncust = DecisionTreeRegressor(random_state=1234)\n",
    "dt_uncust.fit(df_train_x, df_train_y)\n",
    "\n",
    "print(\"Score on training set {:.3f}\".format(dt_uncust.score(df_train_x, df_train_y)))\n",
    "print(\"Score on test set {:.3f}\".format(dt_uncust.score(df_test_x, df_test_y)))"
   ]
  },
  {
   "cell_type": "code",
   "execution_count": 13,
   "id": "90995bd6",
   "metadata": {
    "colab": {
     "base_uri": "https://localhost:8080/"
    },
    "executionInfo": {
     "elapsed": 4619,
     "status": "ok",
     "timestamp": 1699162432770,
     "user": {
      "displayName": "서한솔",
      "userId": "02717896694975677999"
     },
     "user_tz": -540
    },
    "id": "90995bd6",
    "outputId": "b32f4657-5701-4d2f-dc0b-5d8aec60c7de"
   },
   "outputs": [
    {
     "name": "stdout",
     "output_type": "stream",
     "text": [
      "Score on training set 0.981\n",
      "Score on test set 0.840\n"
     ]
    }
   ],
   "source": [
    "#기본 모델 생성\n",
    "rf_uncust = RandomForestRegressor(random_state=1234)\n",
    "rf_uncust.fit(df_train_x, df_train_y)\n",
    "\n",
    "print(\"Score on training set {:.3f}\".format(rf_uncust.score(df_train_x, df_train_y)))\n",
    "print(\"Score on test set {:.3f}\".format(rf_uncust.score(df_test_x, df_test_y)))"
   ]
  },
  {
   "cell_type": "markdown",
   "id": "d12413be",
   "metadata": {
    "id": "d12413be"
   },
   "source": [
    "- train 성능 = 0.981, test 성능 = 0.84\n",
    "- train data 과대적합"
   ]
  },
  {
   "cell_type": "code",
   "execution_count": 14,
   "id": "9706139a",
   "metadata": {
    "colab": {
     "base_uri": "https://localhost:8080/"
    },
    "executionInfo": {
     "elapsed": 361,
     "status": "ok",
     "timestamp": 1699162444943,
     "user": {
      "displayName": "서한솔",
      "userId": "02717896694975677999"
     },
     "user_tz": -540
    },
    "id": "9706139a",
    "outputId": "b2886c39-c10a-40ac-bb09-fcdeb02cc2f6"
   },
   "outputs": [
    {
     "data": {
      "text/plain": [
       "{'bootstrap': True,\n",
       " 'ccp_alpha': 0.0,\n",
       " 'criterion': 'squared_error',\n",
       " 'max_depth': None,\n",
       " 'max_features': 1.0,\n",
       " 'max_leaf_nodes': None,\n",
       " 'max_samples': None,\n",
       " 'min_impurity_decrease': 0.0,\n",
       " 'min_samples_leaf': 1,\n",
       " 'min_samples_split': 2,\n",
       " 'min_weight_fraction_leaf': 0.0,\n",
       " 'n_estimators': 100,\n",
       " 'n_jobs': None,\n",
       " 'oob_score': False,\n",
       " 'random_state': 1234,\n",
       " 'verbose': 0,\n",
       " 'warm_start': False}"
      ]
     },
     "execution_count": 14,
     "metadata": {},
     "output_type": "execute_result"
    }
   ],
   "source": [
    "rf_uncust.get_params()"
   ]
  },
  {
   "cell_type": "code",
   "execution_count": 15,
   "id": "8ae672a2",
   "metadata": {
    "colab": {
     "base_uri": "https://localhost:8080/"
    },
    "executionInfo": {
     "elapsed": 2138,
     "status": "ok",
     "timestamp": 1699162451914,
     "user": {
      "displayName": "서한솔",
      "userId": "02717896694975677999"
     },
     "user_tz": -540
    },
    "id": "8ae672a2",
    "outputId": "c5b45335-17be-4e16-d8cc-d60780e8bd46"
   },
   "outputs": [
    {
     "name": "stdout",
     "output_type": "stream",
     "text": [
      "Score on training set 0.919\n",
      "Score on test set 0.842\n"
     ]
    }
   ],
   "source": [
    "#기본 모델 생성\n",
    "gb_uncust = GradientBoostingRegressor(random_state=1234)\n",
    "gb_uncust.fit(df_train_x, df_train_y)\n",
    "\n",
    "print(\"Score on training set {:.3f}\".format(gb_uncust.score(df_train_x, df_train_y)))\n",
    "print(\"Score on test set {:.3f}\".format(gb_uncust.score(df_test_x, df_test_y)))"
   ]
  },
  {
   "cell_type": "code",
   "execution_count": 16,
   "id": "4c7862a3",
   "metadata": {
    "colab": {
     "base_uri": "https://localhost:8080/"
    },
    "executionInfo": {
     "elapsed": 935,
     "status": "ok",
     "timestamp": 1699162462978,
     "user": {
      "displayName": "서한솔",
      "userId": "02717896694975677999"
     },
     "user_tz": -540
    },
    "id": "4c7862a3",
    "outputId": "afdea981-234a-44be-e558-176dadef12e3"
   },
   "outputs": [
    {
     "name": "stdout",
     "output_type": "stream",
     "text": [
      "Score on training set 0.993\n",
      "Score on test set 0.854\n"
     ]
    }
   ],
   "source": [
    "#기본 모델 생성\n",
    "xgb_uncust = XGBRegressor(random_state=1234)\n",
    "xgb_uncust.fit(df_train_x, df_train_y)\n",
    "\n",
    "print(\"Score on training set {:.3f}\".format(xgb_uncust.score(df_train_x, df_train_y)))\n",
    "print(\"Score on test set {:.3f}\".format(xgb_uncust.score(df_test_x, df_test_y)))"
   ]
  },
  {
   "cell_type": "code",
   "execution_count": 17,
   "id": "e4b9dc4f",
   "metadata": {
    "colab": {
     "base_uri": "https://localhost:8080/"
    },
    "executionInfo": {
     "elapsed": 4,
     "status": "ok",
     "timestamp": 1699162465899,
     "user": {
      "displayName": "서한솔",
      "userId": "02717896694975677999"
     },
     "user_tz": -540
    },
    "id": "e4b9dc4f",
    "outputId": "7f999310-e64a-49ed-8bd9-b48c74e68541"
   },
   "outputs": [
    {
     "data": {
      "text/plain": [
       "{'objective': 'reg:squarederror',\n",
       " 'base_score': None,\n",
       " 'booster': None,\n",
       " 'callbacks': None,\n",
       " 'colsample_bylevel': None,\n",
       " 'colsample_bynode': None,\n",
       " 'colsample_bytree': None,\n",
       " 'device': None,\n",
       " 'early_stopping_rounds': None,\n",
       " 'enable_categorical': False,\n",
       " 'eval_metric': None,\n",
       " 'feature_types': None,\n",
       " 'gamma': None,\n",
       " 'grow_policy': None,\n",
       " 'importance_type': None,\n",
       " 'interaction_constraints': None,\n",
       " 'learning_rate': None,\n",
       " 'max_bin': None,\n",
       " 'max_cat_threshold': None,\n",
       " 'max_cat_to_onehot': None,\n",
       " 'max_delta_step': None,\n",
       " 'max_depth': None,\n",
       " 'max_leaves': None,\n",
       " 'min_child_weight': None,\n",
       " 'missing': nan,\n",
       " 'monotone_constraints': None,\n",
       " 'multi_strategy': None,\n",
       " 'n_estimators': None,\n",
       " 'n_jobs': None,\n",
       " 'num_parallel_tree': None,\n",
       " 'random_state': 1234,\n",
       " 'reg_alpha': None,\n",
       " 'reg_lambda': None,\n",
       " 'sampling_method': None,\n",
       " 'scale_pos_weight': None,\n",
       " 'subsample': None,\n",
       " 'tree_method': None,\n",
       " 'validate_parameters': None,\n",
       " 'verbosity': None}"
      ]
     },
     "execution_count": 17,
     "metadata": {},
     "output_type": "execute_result"
    }
   ],
   "source": [
    "xgb_uncust.get_params()"
   ]
  },
  {
   "cell_type": "markdown",
   "id": "t5YoPp4K-eAQ",
   "metadata": {
    "id": "t5YoPp4K-eAQ"
   },
   "source": [
    "- DecisionTree, RandomForest, GradientBoosting, XGBRegressor 4가지 모델을\n",
    "- 파라미터를 별도로 설정하지 않고 기본으로 돌렸을 때\n",
    "- XGB가 Train 성능도 우수하고 Test 성능이 가장 우수하였다.\n",
    "- XGB 선택!"
   ]
  },
  {
   "cell_type": "code",
   "execution_count": 18,
   "id": "fb44af7d",
   "metadata": {
    "id": "fb44af7d",
    "outputId": "39b9eb16-a1e8-45fd-bad6-9cd68e8080dc"
   },
   "outputs": [
    {
     "ename": "KeyboardInterrupt",
     "evalue": "",
     "output_type": "error",
     "traceback": [
      "\u001b[0;31m---------------------------------------------------------------------------\u001b[0m",
      "\u001b[0;31mKeyboardInterrupt\u001b[0m                         Traceback (most recent call last)",
      "Cell \u001b[0;32mIn[18], line 7\u001b[0m\n\u001b[1;32m      5\u001b[0m \u001b[38;5;28;01mfor\u001b[39;00m v_n_estimators \u001b[38;5;129;01min\u001b[39;00m para_n_tree:\n\u001b[1;32m      6\u001b[0m     rf \u001b[38;5;241m=\u001b[39m RandomForestRegressor(n_estimators \u001b[38;5;241m=\u001b[39m v_n_estimators, random_state\u001b[38;5;241m=\u001b[39m\u001b[38;5;241m1234\u001b[39m)\n\u001b[0;32m----> 7\u001b[0m     \u001b[43mrf\u001b[49m\u001b[38;5;241;43m.\u001b[39;49m\u001b[43mfit\u001b[49m\u001b[43m(\u001b[49m\u001b[43mdf_train_x\u001b[49m\u001b[43m,\u001b[49m\u001b[43m \u001b[49m\u001b[43mdf_train_y\u001b[49m\u001b[43m)\u001b[49m\n\u001b[1;32m      8\u001b[0m     train_score\u001b[38;5;241m.\u001b[39mappend(rf\u001b[38;5;241m.\u001b[39mscore(df_train_x, df_train_y))\n\u001b[1;32m      9\u001b[0m     test_score\u001b[38;5;241m.\u001b[39mappend(rf\u001b[38;5;241m.\u001b[39mscore(df_test_x, df_test_y))\n",
      "File \u001b[0;32m~/yes/lib/python3.10/site-packages/sklearn/ensemble/_forest.py:473\u001b[0m, in \u001b[0;36mBaseForest.fit\u001b[0;34m(self, X, y, sample_weight)\u001b[0m\n\u001b[1;32m    462\u001b[0m trees \u001b[38;5;241m=\u001b[39m [\n\u001b[1;32m    463\u001b[0m     \u001b[38;5;28mself\u001b[39m\u001b[38;5;241m.\u001b[39m_make_estimator(append\u001b[38;5;241m=\u001b[39m\u001b[38;5;28;01mFalse\u001b[39;00m, random_state\u001b[38;5;241m=\u001b[39mrandom_state)\n\u001b[1;32m    464\u001b[0m     \u001b[38;5;28;01mfor\u001b[39;00m i \u001b[38;5;129;01min\u001b[39;00m \u001b[38;5;28mrange\u001b[39m(n_more_estimators)\n\u001b[1;32m    465\u001b[0m ]\n\u001b[1;32m    467\u001b[0m \u001b[38;5;66;03m# Parallel loop: we prefer the threading backend as the Cython code\u001b[39;00m\n\u001b[1;32m    468\u001b[0m \u001b[38;5;66;03m# for fitting the trees is internally releasing the Python GIL\u001b[39;00m\n\u001b[1;32m    469\u001b[0m \u001b[38;5;66;03m# making threading more efficient than multiprocessing in\u001b[39;00m\n\u001b[1;32m    470\u001b[0m \u001b[38;5;66;03m# that case. However, for joblib 0.12+ we respect any\u001b[39;00m\n\u001b[1;32m    471\u001b[0m \u001b[38;5;66;03m# parallel_backend contexts set at a higher level,\u001b[39;00m\n\u001b[1;32m    472\u001b[0m \u001b[38;5;66;03m# since correctness does not rely on using threads.\u001b[39;00m\n\u001b[0;32m--> 473\u001b[0m trees \u001b[38;5;241m=\u001b[39m \u001b[43mParallel\u001b[49m\u001b[43m(\u001b[49m\n\u001b[1;32m    474\u001b[0m \u001b[43m    \u001b[49m\u001b[43mn_jobs\u001b[49m\u001b[38;5;241;43m=\u001b[39;49m\u001b[38;5;28;43mself\u001b[39;49m\u001b[38;5;241;43m.\u001b[39;49m\u001b[43mn_jobs\u001b[49m\u001b[43m,\u001b[49m\n\u001b[1;32m    475\u001b[0m \u001b[43m    \u001b[49m\u001b[43mverbose\u001b[49m\u001b[38;5;241;43m=\u001b[39;49m\u001b[38;5;28;43mself\u001b[39;49m\u001b[38;5;241;43m.\u001b[39;49m\u001b[43mverbose\u001b[49m\u001b[43m,\u001b[49m\n\u001b[1;32m    476\u001b[0m \u001b[43m    \u001b[49m\u001b[43mprefer\u001b[49m\u001b[38;5;241;43m=\u001b[39;49m\u001b[38;5;124;43m\"\u001b[39;49m\u001b[38;5;124;43mthreads\u001b[39;49m\u001b[38;5;124;43m\"\u001b[39;49m\u001b[43m,\u001b[49m\n\u001b[1;32m    477\u001b[0m \u001b[43m\u001b[49m\u001b[43m)\u001b[49m\u001b[43m(\u001b[49m\n\u001b[1;32m    478\u001b[0m \u001b[43m    \u001b[49m\u001b[43mdelayed\u001b[49m\u001b[43m(\u001b[49m\u001b[43m_parallel_build_trees\u001b[49m\u001b[43m)\u001b[49m\u001b[43m(\u001b[49m\n\u001b[1;32m    479\u001b[0m \u001b[43m        \u001b[49m\u001b[43mt\u001b[49m\u001b[43m,\u001b[49m\n\u001b[1;32m    480\u001b[0m \u001b[43m        \u001b[49m\u001b[38;5;28;43mself\u001b[39;49m\u001b[38;5;241;43m.\u001b[39;49m\u001b[43mbootstrap\u001b[49m\u001b[43m,\u001b[49m\n\u001b[1;32m    481\u001b[0m \u001b[43m        \u001b[49m\u001b[43mX\u001b[49m\u001b[43m,\u001b[49m\n\u001b[1;32m    482\u001b[0m \u001b[43m        \u001b[49m\u001b[43my\u001b[49m\u001b[43m,\u001b[49m\n\u001b[1;32m    483\u001b[0m \u001b[43m        \u001b[49m\u001b[43msample_weight\u001b[49m\u001b[43m,\u001b[49m\n\u001b[1;32m    484\u001b[0m \u001b[43m        \u001b[49m\u001b[43mi\u001b[49m\u001b[43m,\u001b[49m\n\u001b[1;32m    485\u001b[0m \u001b[43m        \u001b[49m\u001b[38;5;28;43mlen\u001b[39;49m\u001b[43m(\u001b[49m\u001b[43mtrees\u001b[49m\u001b[43m)\u001b[49m\u001b[43m,\u001b[49m\n\u001b[1;32m    486\u001b[0m \u001b[43m        \u001b[49m\u001b[43mverbose\u001b[49m\u001b[38;5;241;43m=\u001b[39;49m\u001b[38;5;28;43mself\u001b[39;49m\u001b[38;5;241;43m.\u001b[39;49m\u001b[43mverbose\u001b[49m\u001b[43m,\u001b[49m\n\u001b[1;32m    487\u001b[0m \u001b[43m        \u001b[49m\u001b[43mclass_weight\u001b[49m\u001b[38;5;241;43m=\u001b[39;49m\u001b[38;5;28;43mself\u001b[39;49m\u001b[38;5;241;43m.\u001b[39;49m\u001b[43mclass_weight\u001b[49m\u001b[43m,\u001b[49m\n\u001b[1;32m    488\u001b[0m \u001b[43m        \u001b[49m\u001b[43mn_samples_bootstrap\u001b[49m\u001b[38;5;241;43m=\u001b[39;49m\u001b[43mn_samples_bootstrap\u001b[49m\u001b[43m,\u001b[49m\n\u001b[1;32m    489\u001b[0m \u001b[43m    \u001b[49m\u001b[43m)\u001b[49m\n\u001b[1;32m    490\u001b[0m \u001b[43m    \u001b[49m\u001b[38;5;28;43;01mfor\u001b[39;49;00m\u001b[43m \u001b[49m\u001b[43mi\u001b[49m\u001b[43m,\u001b[49m\u001b[43m \u001b[49m\u001b[43mt\u001b[49m\u001b[43m \u001b[49m\u001b[38;5;129;43;01min\u001b[39;49;00m\u001b[43m \u001b[49m\u001b[38;5;28;43menumerate\u001b[39;49m\u001b[43m(\u001b[49m\u001b[43mtrees\u001b[49m\u001b[43m)\u001b[49m\n\u001b[1;32m    491\u001b[0m \u001b[43m\u001b[49m\u001b[43m)\u001b[49m\n\u001b[1;32m    493\u001b[0m \u001b[38;5;66;03m# Collect newly grown trees\u001b[39;00m\n\u001b[1;32m    494\u001b[0m \u001b[38;5;28mself\u001b[39m\u001b[38;5;241m.\u001b[39mestimators_\u001b[38;5;241m.\u001b[39mextend(trees)\n",
      "File \u001b[0;32m~/yes/lib/python3.10/site-packages/sklearn/utils/parallel.py:63\u001b[0m, in \u001b[0;36mParallel.__call__\u001b[0;34m(self, iterable)\u001b[0m\n\u001b[1;32m     58\u001b[0m config \u001b[38;5;241m=\u001b[39m get_config()\n\u001b[1;32m     59\u001b[0m iterable_with_config \u001b[38;5;241m=\u001b[39m (\n\u001b[1;32m     60\u001b[0m     (_with_config(delayed_func, config), args, kwargs)\n\u001b[1;32m     61\u001b[0m     \u001b[38;5;28;01mfor\u001b[39;00m delayed_func, args, kwargs \u001b[38;5;129;01min\u001b[39;00m iterable\n\u001b[1;32m     62\u001b[0m )\n\u001b[0;32m---> 63\u001b[0m \u001b[38;5;28;01mreturn\u001b[39;00m \u001b[38;5;28;43msuper\u001b[39;49m\u001b[43m(\u001b[49m\u001b[43m)\u001b[49m\u001b[38;5;241;43m.\u001b[39;49m\u001b[38;5;21;43m__call__\u001b[39;49m\u001b[43m(\u001b[49m\u001b[43miterable_with_config\u001b[49m\u001b[43m)\u001b[49m\n",
      "File \u001b[0;32m~/yes/lib/python3.10/site-packages/joblib/parallel.py:1051\u001b[0m, in \u001b[0;36mParallel.__call__\u001b[0;34m(self, iterable)\u001b[0m\n\u001b[1;32m   1048\u001b[0m \u001b[38;5;28;01mif\u001b[39;00m \u001b[38;5;28mself\u001b[39m\u001b[38;5;241m.\u001b[39mdispatch_one_batch(iterator):\n\u001b[1;32m   1049\u001b[0m     \u001b[38;5;28mself\u001b[39m\u001b[38;5;241m.\u001b[39m_iterating \u001b[38;5;241m=\u001b[39m \u001b[38;5;28mself\u001b[39m\u001b[38;5;241m.\u001b[39m_original_iterator \u001b[38;5;129;01mis\u001b[39;00m \u001b[38;5;129;01mnot\u001b[39;00m \u001b[38;5;28;01mNone\u001b[39;00m\n\u001b[0;32m-> 1051\u001b[0m \u001b[38;5;28;01mwhile\u001b[39;00m \u001b[38;5;28;43mself\u001b[39;49m\u001b[38;5;241;43m.\u001b[39;49m\u001b[43mdispatch_one_batch\u001b[49m\u001b[43m(\u001b[49m\u001b[43miterator\u001b[49m\u001b[43m)\u001b[49m:\n\u001b[1;32m   1052\u001b[0m     \u001b[38;5;28;01mpass\u001b[39;00m\n\u001b[1;32m   1054\u001b[0m \u001b[38;5;28;01mif\u001b[39;00m pre_dispatch \u001b[38;5;241m==\u001b[39m \u001b[38;5;124m\"\u001b[39m\u001b[38;5;124mall\u001b[39m\u001b[38;5;124m\"\u001b[39m \u001b[38;5;129;01mor\u001b[39;00m n_jobs \u001b[38;5;241m==\u001b[39m \u001b[38;5;241m1\u001b[39m:\n\u001b[1;32m   1055\u001b[0m     \u001b[38;5;66;03m# The iterable was consumed all at once by the above for loop.\u001b[39;00m\n\u001b[1;32m   1056\u001b[0m     \u001b[38;5;66;03m# No need to wait for async callbacks to trigger to\u001b[39;00m\n\u001b[1;32m   1057\u001b[0m     \u001b[38;5;66;03m# consumption.\u001b[39;00m\n",
      "File \u001b[0;32m~/yes/lib/python3.10/site-packages/joblib/parallel.py:864\u001b[0m, in \u001b[0;36mParallel.dispatch_one_batch\u001b[0;34m(self, iterator)\u001b[0m\n\u001b[1;32m    862\u001b[0m     \u001b[38;5;28;01mreturn\u001b[39;00m \u001b[38;5;28;01mFalse\u001b[39;00m\n\u001b[1;32m    863\u001b[0m \u001b[38;5;28;01melse\u001b[39;00m:\n\u001b[0;32m--> 864\u001b[0m     \u001b[38;5;28;43mself\u001b[39;49m\u001b[38;5;241;43m.\u001b[39;49m\u001b[43m_dispatch\u001b[49m\u001b[43m(\u001b[49m\u001b[43mtasks\u001b[49m\u001b[43m)\u001b[49m\n\u001b[1;32m    865\u001b[0m     \u001b[38;5;28;01mreturn\u001b[39;00m \u001b[38;5;28;01mTrue\u001b[39;00m\n",
      "File \u001b[0;32m~/yes/lib/python3.10/site-packages/joblib/parallel.py:782\u001b[0m, in \u001b[0;36mParallel._dispatch\u001b[0;34m(self, batch)\u001b[0m\n\u001b[1;32m    780\u001b[0m \u001b[38;5;28;01mwith\u001b[39;00m \u001b[38;5;28mself\u001b[39m\u001b[38;5;241m.\u001b[39m_lock:\n\u001b[1;32m    781\u001b[0m     job_idx \u001b[38;5;241m=\u001b[39m \u001b[38;5;28mlen\u001b[39m(\u001b[38;5;28mself\u001b[39m\u001b[38;5;241m.\u001b[39m_jobs)\n\u001b[0;32m--> 782\u001b[0m     job \u001b[38;5;241m=\u001b[39m \u001b[38;5;28;43mself\u001b[39;49m\u001b[38;5;241;43m.\u001b[39;49m\u001b[43m_backend\u001b[49m\u001b[38;5;241;43m.\u001b[39;49m\u001b[43mapply_async\u001b[49m\u001b[43m(\u001b[49m\u001b[43mbatch\u001b[49m\u001b[43m,\u001b[49m\u001b[43m \u001b[49m\u001b[43mcallback\u001b[49m\u001b[38;5;241;43m=\u001b[39;49m\u001b[43mcb\u001b[49m\u001b[43m)\u001b[49m\n\u001b[1;32m    783\u001b[0m     \u001b[38;5;66;03m# A job can complete so quickly than its callback is\u001b[39;00m\n\u001b[1;32m    784\u001b[0m     \u001b[38;5;66;03m# called before we get here, causing self._jobs to\u001b[39;00m\n\u001b[1;32m    785\u001b[0m     \u001b[38;5;66;03m# grow. To ensure correct results ordering, .insert is\u001b[39;00m\n\u001b[1;32m    786\u001b[0m     \u001b[38;5;66;03m# used (rather than .append) in the following line\u001b[39;00m\n\u001b[1;32m    787\u001b[0m     \u001b[38;5;28mself\u001b[39m\u001b[38;5;241m.\u001b[39m_jobs\u001b[38;5;241m.\u001b[39minsert(job_idx, job)\n",
      "File \u001b[0;32m~/yes/lib/python3.10/site-packages/joblib/_parallel_backends.py:208\u001b[0m, in \u001b[0;36mSequentialBackend.apply_async\u001b[0;34m(self, func, callback)\u001b[0m\n\u001b[1;32m    206\u001b[0m \u001b[38;5;28;01mdef\u001b[39;00m \u001b[38;5;21mapply_async\u001b[39m(\u001b[38;5;28mself\u001b[39m, func, callback\u001b[38;5;241m=\u001b[39m\u001b[38;5;28;01mNone\u001b[39;00m):\n\u001b[1;32m    207\u001b[0m     \u001b[38;5;124;03m\"\"\"Schedule a func to be run\"\"\"\u001b[39;00m\n\u001b[0;32m--> 208\u001b[0m     result \u001b[38;5;241m=\u001b[39m \u001b[43mImmediateResult\u001b[49m\u001b[43m(\u001b[49m\u001b[43mfunc\u001b[49m\u001b[43m)\u001b[49m\n\u001b[1;32m    209\u001b[0m     \u001b[38;5;28;01mif\u001b[39;00m callback:\n\u001b[1;32m    210\u001b[0m         callback(result)\n",
      "File \u001b[0;32m~/yes/lib/python3.10/site-packages/joblib/_parallel_backends.py:572\u001b[0m, in \u001b[0;36mImmediateResult.__init__\u001b[0;34m(self, batch)\u001b[0m\n\u001b[1;32m    569\u001b[0m \u001b[38;5;28;01mdef\u001b[39;00m \u001b[38;5;21m__init__\u001b[39m(\u001b[38;5;28mself\u001b[39m, batch):\n\u001b[1;32m    570\u001b[0m     \u001b[38;5;66;03m# Don't delay the application, to avoid keeping the input\u001b[39;00m\n\u001b[1;32m    571\u001b[0m     \u001b[38;5;66;03m# arguments in memory\u001b[39;00m\n\u001b[0;32m--> 572\u001b[0m     \u001b[38;5;28mself\u001b[39m\u001b[38;5;241m.\u001b[39mresults \u001b[38;5;241m=\u001b[39m \u001b[43mbatch\u001b[49m\u001b[43m(\u001b[49m\u001b[43m)\u001b[49m\n",
      "File \u001b[0;32m~/yes/lib/python3.10/site-packages/joblib/parallel.py:263\u001b[0m, in \u001b[0;36mBatchedCalls.__call__\u001b[0;34m(self)\u001b[0m\n\u001b[1;32m    259\u001b[0m \u001b[38;5;28;01mdef\u001b[39;00m \u001b[38;5;21m__call__\u001b[39m(\u001b[38;5;28mself\u001b[39m):\n\u001b[1;32m    260\u001b[0m     \u001b[38;5;66;03m# Set the default nested backend to self._backend but do not set the\u001b[39;00m\n\u001b[1;32m    261\u001b[0m     \u001b[38;5;66;03m# change the default number of processes to -1\u001b[39;00m\n\u001b[1;32m    262\u001b[0m     \u001b[38;5;28;01mwith\u001b[39;00m parallel_backend(\u001b[38;5;28mself\u001b[39m\u001b[38;5;241m.\u001b[39m_backend, n_jobs\u001b[38;5;241m=\u001b[39m\u001b[38;5;28mself\u001b[39m\u001b[38;5;241m.\u001b[39m_n_jobs):\n\u001b[0;32m--> 263\u001b[0m         \u001b[38;5;28;01mreturn\u001b[39;00m [func(\u001b[38;5;241m*\u001b[39margs, \u001b[38;5;241m*\u001b[39m\u001b[38;5;241m*\u001b[39mkwargs)\n\u001b[1;32m    264\u001b[0m                 \u001b[38;5;28;01mfor\u001b[39;00m func, args, kwargs \u001b[38;5;129;01min\u001b[39;00m \u001b[38;5;28mself\u001b[39m\u001b[38;5;241m.\u001b[39mitems]\n",
      "File \u001b[0;32m~/yes/lib/python3.10/site-packages/joblib/parallel.py:263\u001b[0m, in \u001b[0;36m<listcomp>\u001b[0;34m(.0)\u001b[0m\n\u001b[1;32m    259\u001b[0m \u001b[38;5;28;01mdef\u001b[39;00m \u001b[38;5;21m__call__\u001b[39m(\u001b[38;5;28mself\u001b[39m):\n\u001b[1;32m    260\u001b[0m     \u001b[38;5;66;03m# Set the default nested backend to self._backend but do not set the\u001b[39;00m\n\u001b[1;32m    261\u001b[0m     \u001b[38;5;66;03m# change the default number of processes to -1\u001b[39;00m\n\u001b[1;32m    262\u001b[0m     \u001b[38;5;28;01mwith\u001b[39;00m parallel_backend(\u001b[38;5;28mself\u001b[39m\u001b[38;5;241m.\u001b[39m_backend, n_jobs\u001b[38;5;241m=\u001b[39m\u001b[38;5;28mself\u001b[39m\u001b[38;5;241m.\u001b[39m_n_jobs):\n\u001b[0;32m--> 263\u001b[0m         \u001b[38;5;28;01mreturn\u001b[39;00m [\u001b[43mfunc\u001b[49m\u001b[43m(\u001b[49m\u001b[38;5;241;43m*\u001b[39;49m\u001b[43margs\u001b[49m\u001b[43m,\u001b[49m\u001b[43m \u001b[49m\u001b[38;5;241;43m*\u001b[39;49m\u001b[38;5;241;43m*\u001b[39;49m\u001b[43mkwargs\u001b[49m\u001b[43m)\u001b[49m\n\u001b[1;32m    264\u001b[0m                 \u001b[38;5;28;01mfor\u001b[39;00m func, args, kwargs \u001b[38;5;129;01min\u001b[39;00m \u001b[38;5;28mself\u001b[39m\u001b[38;5;241m.\u001b[39mitems]\n",
      "File \u001b[0;32m~/yes/lib/python3.10/site-packages/sklearn/utils/parallel.py:123\u001b[0m, in \u001b[0;36m_FuncWrapper.__call__\u001b[0;34m(self, *args, **kwargs)\u001b[0m\n\u001b[1;32m    121\u001b[0m     config \u001b[38;5;241m=\u001b[39m {}\n\u001b[1;32m    122\u001b[0m \u001b[38;5;28;01mwith\u001b[39;00m config_context(\u001b[38;5;241m*\u001b[39m\u001b[38;5;241m*\u001b[39mconfig):\n\u001b[0;32m--> 123\u001b[0m     \u001b[38;5;28;01mreturn\u001b[39;00m \u001b[38;5;28;43mself\u001b[39;49m\u001b[38;5;241;43m.\u001b[39;49m\u001b[43mfunction\u001b[49m\u001b[43m(\u001b[49m\u001b[38;5;241;43m*\u001b[39;49m\u001b[43margs\u001b[49m\u001b[43m,\u001b[49m\u001b[43m \u001b[49m\u001b[38;5;241;43m*\u001b[39;49m\u001b[38;5;241;43m*\u001b[39;49m\u001b[43mkwargs\u001b[49m\u001b[43m)\u001b[49m\n",
      "File \u001b[0;32m~/yes/lib/python3.10/site-packages/sklearn/ensemble/_forest.py:184\u001b[0m, in \u001b[0;36m_parallel_build_trees\u001b[0;34m(tree, bootstrap, X, y, sample_weight, tree_idx, n_trees, verbose, class_weight, n_samples_bootstrap)\u001b[0m\n\u001b[1;32m    181\u001b[0m     \u001b[38;5;28;01melif\u001b[39;00m class_weight \u001b[38;5;241m==\u001b[39m \u001b[38;5;124m\"\u001b[39m\u001b[38;5;124mbalanced_subsample\u001b[39m\u001b[38;5;124m\"\u001b[39m:\n\u001b[1;32m    182\u001b[0m         curr_sample_weight \u001b[38;5;241m*\u001b[39m\u001b[38;5;241m=\u001b[39m compute_sample_weight(\u001b[38;5;124m\"\u001b[39m\u001b[38;5;124mbalanced\u001b[39m\u001b[38;5;124m\"\u001b[39m, y, indices\u001b[38;5;241m=\u001b[39mindices)\n\u001b[0;32m--> 184\u001b[0m     \u001b[43mtree\u001b[49m\u001b[38;5;241;43m.\u001b[39;49m\u001b[43mfit\u001b[49m\u001b[43m(\u001b[49m\u001b[43mX\u001b[49m\u001b[43m,\u001b[49m\u001b[43m \u001b[49m\u001b[43my\u001b[49m\u001b[43m,\u001b[49m\u001b[43m \u001b[49m\u001b[43msample_weight\u001b[49m\u001b[38;5;241;43m=\u001b[39;49m\u001b[43mcurr_sample_weight\u001b[49m\u001b[43m,\u001b[49m\u001b[43m \u001b[49m\u001b[43mcheck_input\u001b[49m\u001b[38;5;241;43m=\u001b[39;49m\u001b[38;5;28;43;01mFalse\u001b[39;49;00m\u001b[43m)\u001b[49m\n\u001b[1;32m    185\u001b[0m \u001b[38;5;28;01melse\u001b[39;00m:\n\u001b[1;32m    186\u001b[0m     tree\u001b[38;5;241m.\u001b[39mfit(X, y, sample_weight\u001b[38;5;241m=\u001b[39msample_weight, check_input\u001b[38;5;241m=\u001b[39m\u001b[38;5;28;01mFalse\u001b[39;00m)\n",
      "File \u001b[0;32m~/yes/lib/python3.10/site-packages/sklearn/tree/_classes.py:1247\u001b[0m, in \u001b[0;36mDecisionTreeRegressor.fit\u001b[0;34m(self, X, y, sample_weight, check_input)\u001b[0m\n\u001b[1;32m   1218\u001b[0m \u001b[38;5;28;01mdef\u001b[39;00m \u001b[38;5;21mfit\u001b[39m(\u001b[38;5;28mself\u001b[39m, X, y, sample_weight\u001b[38;5;241m=\u001b[39m\u001b[38;5;28;01mNone\u001b[39;00m, check_input\u001b[38;5;241m=\u001b[39m\u001b[38;5;28;01mTrue\u001b[39;00m):\n\u001b[1;32m   1219\u001b[0m     \u001b[38;5;124;03m\"\"\"Build a decision tree regressor from the training set (X, y).\u001b[39;00m\n\u001b[1;32m   1220\u001b[0m \n\u001b[1;32m   1221\u001b[0m \u001b[38;5;124;03m    Parameters\u001b[39;00m\n\u001b[0;32m   (...)\u001b[0m\n\u001b[1;32m   1244\u001b[0m \u001b[38;5;124;03m        Fitted estimator.\u001b[39;00m\n\u001b[1;32m   1245\u001b[0m \u001b[38;5;124;03m    \"\"\"\u001b[39;00m\n\u001b[0;32m-> 1247\u001b[0m     \u001b[38;5;28;43msuper\u001b[39;49m\u001b[43m(\u001b[49m\u001b[43m)\u001b[49m\u001b[38;5;241;43m.\u001b[39;49m\u001b[43mfit\u001b[49m\u001b[43m(\u001b[49m\n\u001b[1;32m   1248\u001b[0m \u001b[43m        \u001b[49m\u001b[43mX\u001b[49m\u001b[43m,\u001b[49m\n\u001b[1;32m   1249\u001b[0m \u001b[43m        \u001b[49m\u001b[43my\u001b[49m\u001b[43m,\u001b[49m\n\u001b[1;32m   1250\u001b[0m \u001b[43m        \u001b[49m\u001b[43msample_weight\u001b[49m\u001b[38;5;241;43m=\u001b[39;49m\u001b[43msample_weight\u001b[49m\u001b[43m,\u001b[49m\n\u001b[1;32m   1251\u001b[0m \u001b[43m        \u001b[49m\u001b[43mcheck_input\u001b[49m\u001b[38;5;241;43m=\u001b[39;49m\u001b[43mcheck_input\u001b[49m\u001b[43m,\u001b[49m\n\u001b[1;32m   1252\u001b[0m \u001b[43m    \u001b[49m\u001b[43m)\u001b[49m\n\u001b[1;32m   1253\u001b[0m     \u001b[38;5;28;01mreturn\u001b[39;00m \u001b[38;5;28mself\u001b[39m\n",
      "File \u001b[0;32m~/yes/lib/python3.10/site-packages/sklearn/tree/_classes.py:379\u001b[0m, in \u001b[0;36mBaseDecisionTree.fit\u001b[0;34m(self, X, y, sample_weight, check_input)\u001b[0m\n\u001b[1;32m    368\u001b[0m \u001b[38;5;28;01melse\u001b[39;00m:\n\u001b[1;32m    369\u001b[0m     builder \u001b[38;5;241m=\u001b[39m BestFirstTreeBuilder(\n\u001b[1;32m    370\u001b[0m         splitter,\n\u001b[1;32m    371\u001b[0m         min_samples_split,\n\u001b[0;32m   (...)\u001b[0m\n\u001b[1;32m    376\u001b[0m         \u001b[38;5;28mself\u001b[39m\u001b[38;5;241m.\u001b[39mmin_impurity_decrease,\n\u001b[1;32m    377\u001b[0m     )\n\u001b[0;32m--> 379\u001b[0m \u001b[43mbuilder\u001b[49m\u001b[38;5;241;43m.\u001b[39;49m\u001b[43mbuild\u001b[49m\u001b[43m(\u001b[49m\u001b[38;5;28;43mself\u001b[39;49m\u001b[38;5;241;43m.\u001b[39;49m\u001b[43mtree_\u001b[49m\u001b[43m,\u001b[49m\u001b[43m \u001b[49m\u001b[43mX\u001b[49m\u001b[43m,\u001b[49m\u001b[43m \u001b[49m\u001b[43my\u001b[49m\u001b[43m,\u001b[49m\u001b[43m \u001b[49m\u001b[43msample_weight\u001b[49m\u001b[43m)\u001b[49m\n\u001b[1;32m    381\u001b[0m \u001b[38;5;28;01mif\u001b[39;00m \u001b[38;5;28mself\u001b[39m\u001b[38;5;241m.\u001b[39mn_outputs_ \u001b[38;5;241m==\u001b[39m \u001b[38;5;241m1\u001b[39m \u001b[38;5;129;01mand\u001b[39;00m is_classifier(\u001b[38;5;28mself\u001b[39m):\n\u001b[1;32m    382\u001b[0m     \u001b[38;5;28mself\u001b[39m\u001b[38;5;241m.\u001b[39mn_classes_ \u001b[38;5;241m=\u001b[39m \u001b[38;5;28mself\u001b[39m\u001b[38;5;241m.\u001b[39mn_classes_[\u001b[38;5;241m0\u001b[39m]\n",
      "\u001b[0;31mKeyboardInterrupt\u001b[0m: "
     ]
    }
   ],
   "source": [
    "train_score = []; test_score=[]\n",
    "\n",
    "para_n_tree = [n_tree * 10 for n_tree in range(1,11)]\n",
    "\n",
    "for v_n_estimators in para_n_tree:\n",
    "    rf = RandomForestRegressor(n_estimators = v_n_estimators, random_state=1234)\n",
    "    rf.fit(df_train_x, df_train_y)\n",
    "    train_score.append(rf.score(df_train_x, df_train_y))\n",
    "    test_score.append(rf.score(df_test_x, df_test_y))\n",
    "\n",
    "df_score_n = pd.DataFrame()\n",
    "df_score_n[\"n_estimators\"] = para_n_tree\n",
    "df_score_n[\"TestScore\"] = train_score\n",
    "df_score_n[\"TestScore\"] = test_score\n",
    "df_score_n.round(3)"
   ]
  },
  {
   "cell_type": "code",
   "execution_count": 19,
   "id": "f1d560c0",
   "metadata": {
    "id": "f1d560c0"
   },
   "outputs": [],
   "source": [
    "para_n_tree = [n_tree * 10 for n_tree in range(1,16)]\n",
    "para_leaf = [n_leaf for n_leaf in range(1,21)]\n",
    "\n",
    "para_split = [n_split * 2 for n_split in range(2,21)]\n",
    "\n",
    "para_depth = [depth for depth in range(1,15)]\n",
    "\n",
    "para_lr = [lr * 0.1 for  lr in range(1,10)]\n",
    "\n",
    "para_hidden = [(hidden, hidden) for hidden in range(10,110, 10)]"
   ]
  },
  {
   "cell_type": "code",
   "execution_count": 20,
   "id": "52f88f09",
   "metadata": {
    "id": "52f88f09"
   },
   "outputs": [],
   "source": [
    "import warnings\n",
    "warnings.filterwarnings('ignore')"
   ]
  },
  {
   "cell_type": "code",
   "execution_count": null,
   "id": "b70645d4",
   "metadata": {
    "id": "b70645d4",
    "outputId": "1e203fff-2d06-46ff-fe1c-1f483da52d11"
   },
   "outputs": [
    {
     "name": "stdout",
     "output_type": "stream",
     "text": [
      "best estimator model: \n",
      "XGBRegressor(base_score=None, booster=None, callbacks=None,\n",
      "             colsample_bylevel=None, colsample_bynode=None,\n",
      "             colsample_bytree=None, device=None, early_stopping_rounds=None,\n",
      "             enable_categorical=False, eval_metric=None, feature_types=None,\n",
      "             gamma=None, grow_policy=None, importance_type=None,\n",
      "             interaction_constraints=None, learning_rate=0.2, max_bin=None,\n",
      "             max_cat_threshold=None, max_cat_to_onehot=None,\n",
      "             max_delta_step=None, max_depth=4, max_leaves=None,\n",
      "             min_child_weight=5, missing=nan, monotone_constraints=None,\n",
      "             multi_strategy=None, n_estimators=90, n_jobs=None,\n",
      "             num_parallel_tree=None, random_state=1234, ...)\n",
      "\n",
      "best parameter: \n",
      "{'learning_rate': 0.2, 'max_depth': 4, 'min_child_weight': 5, 'n_estimators': 90}\n",
      "\n",
      "best score: \n",
      "0.877\n"
     ]
    }
   ],
   "source": [
    "estimator = XGBRegressor(random_state=1234)\n",
    "\n",
    "param_grid = {\"n_estimators\": para_n_tree, \"max_depth\": para_depth, \"learning_rate\": para_lr,\n",
    "             \"min_child_weight\": para_leaf}\n",
    "grid_xgb = GridSearchCV(estimator, param_grid, scoring=\"r2\", n_jobs=-1)\n",
    "grid_xgb.fit(df_train_x, df_train_y)\n",
    "\n",
    "print(\"best estimator model: \\n{}\".format(grid_xgb.best_estimator_))\n",
    "print(\"\\nbest parameter: \\n{}\".format(grid_xgb.best_params_))\n",
    "print(\"\\nbest score: \\n{}\".format(grid_xgb.best_score_.round(3)))"
   ]
  },
  {
   "cell_type": "code",
   "execution_count": 21,
   "id": "31e023ba",
   "metadata": {
    "id": "31e023ba"
   },
   "outputs": [],
   "source": [
    "# XGB 모델의 세부 파라미터를 정하기 위해 GridSearchCV로 구함\n",
    "# {'learning_rate': 0.2, 'max_depth': 4, 'min_child_weight': 5, 'n_estimators': 90}"
   ]
  },
  {
   "cell_type": "code",
   "execution_count": 22,
   "id": "beda1f9d",
   "metadata": {
    "colab": {
     "base_uri": "https://localhost:8080/"
    },
    "executionInfo": {
     "elapsed": 1338,
     "status": "ok",
     "timestamp": 1699162712408,
     "user": {
      "displayName": "서한솔",
      "userId": "02717896694975677999"
     },
     "user_tz": -540
    },
    "id": "beda1f9d",
    "outputId": "443799f5-73a3-4658-c4b4-c84501496f17"
   },
   "outputs": [
    {
     "name": "stdout",
     "output_type": "stream",
     "text": [
      "Score on training set 0.951\n",
      "Score on test set 0.856\n"
     ]
    }
   ],
   "source": [
    "xgb= XGBRegressor(learning_rate= 0.2, max_depth= 4, min_child_weight= 5, n_estimators= 90,\n",
    "                          random_state=1234)\n",
    "xgb.fit(df_train_x, df_train_y)\n",
    "\n",
    "print(\"Score on training set {:.3f}\".format(xgb.score(df_train_x, df_train_y)))\n",
    "print(\"Score on test set {:.3f}\".format(xgb.score(df_test_x, df_test_y)))"
   ]
  },
  {
   "cell_type": "code",
   "execution_count": 23,
   "id": "cc0e50dd",
   "metadata": {
    "id": "cc0e50dd"
   },
   "outputs": [],
   "source": [
    "# Train 성능은 소폭 감소하였다.\n",
    "# Test 성능은 Default 조건일 떄보다 소폭 증가하였다."
   ]
  },
  {
   "cell_type": "code",
   "execution_count": null,
   "id": "4b9f6996",
   "metadata": {},
   "outputs": [],
   "source": []
  },
  {
   "cell_type": "code",
   "execution_count": 35,
   "id": "eafa0eb0",
   "metadata": {},
   "outputs": [
    {
     "name": "stdout",
     "output_type": "stream",
     "text": [
      "Feature Importance:\n",
      "                      Feature  Importance\n",
      "4                  Power(bhp)    0.300707\n",
      "0                        Year    0.112615\n",
      "21     Transmission_Automatic    0.059280\n",
      "37              Brand_Hyundai    0.052375\n",
      "18           Fuel_Type_Diesel    0.045367\n",
      "45        Brand_Mercedes-Benz    0.043776\n",
      "42                 Brand_Land    0.036418\n",
      "46                 Brand_Mini    0.033570\n",
      "28                 Brand_Audi    0.032887\n",
      "11         Location_Hyderabad    0.032821\n",
      "5                       Seats    0.032010\n",
      "53               Brand_Toyota    0.024933\n",
      "3                  Engine(CC)    0.024736\n",
      "36                Brand_Honda    0.024166\n",
      "1           Kilometers_Driven    0.017953\n",
      "49              Brand_Porsche    0.012446\n",
      "39               Brand_Jaguar    0.012353\n",
      "10             Location_Delhi    0.011425\n",
      "2               Mileage(km/l)    0.011162\n",
      "9         Location_Coimbatore    0.009916\n",
      "52                 Brand_Tata    0.008570\n",
      "29                  Brand_BMW    0.006856\n",
      "8            Location_Chennai    0.006856\n",
      "14           Location_Kolkata    0.006839\n",
      "23           Owner_Type_First    0.006660\n",
      "40                 Brand_Jeep    0.006579\n",
      "31            Brand_Chevrolet    0.004384\n",
      "7          Location_Bangalore    0.004087\n",
      "13             Location_Kochi    0.004018\n",
      "43             Brand_Mahindra    0.003312\n",
      "47           Brand_Mitsubishi    0.002422\n",
      "15            Location_Mumbai    0.002090\n",
      "54           Brand_Volkswagen    0.001470\n",
      "25          Owner_Type_Second    0.001457\n",
      "51                Brand_Skoda    0.001257\n",
      "20           Fuel_Type_Petrol    0.000874\n",
      "33                 Brand_Fiat    0.000795\n",
      "50              Brand_Renault    0.000219\n",
      "16              Location_Pune    0.000172\n",
      "12            Location_Jaipur    0.000102\n",
      "32               Brand_Datsun    0.000063\n",
      "41          Brand_Lamborghini    0.000000\n",
      "38                Brand_ISUZU    0.000000\n",
      "6          Location_Ahmedabad    0.000000\n",
      "44               Brand_Maruti    0.000000\n",
      "35                 Brand_Ford    0.000000\n",
      "34                Brand_Force    0.000000\n",
      "30              Brand_Bentley    0.000000\n",
      "48               Brand_Nissan    0.000000\n",
      "27           Brand_Ambassador    0.000000\n",
      "26           Owner_Type_Third    0.000000\n",
      "24  Owner_Type_Fourth & Above    0.000000\n",
      "22        Transmission_Manual    0.000000\n",
      "19              Fuel_Type_LPG    0.000000\n",
      "17              Fuel_Type_CNG    0.000000\n",
      "55                Brand_Volvo    0.000000\n"
     ]
    },
    {
     "data": {
      "image/png": "[encoded data removed]",
      "text/plain": [
       "<Figure size 1000x1000 with 1 Axes>"
      ]
     },
     "metadata": {},
     "output_type": "display_data"
    }
   ],
   "source": [
    "\n",
    "xgb = XGBRegressor(learning_rate= 0.2, max_depth= 4, min_child_weight= 5, n_estimators= 90,\n",
    "                          random_state=1234)\n",
    "xgb.fit(df_train_x, df_train_y)\n",
    "\n",
    "# 피처 중요도 계산\n",
    "feature_importances = xgb.feature_importances_\n",
    "\n",
    "# 중요도를 데이터프레임으로 정리 (피처명과 함께)\n",
    "feature_importance_df = pd.DataFrame({'Feature': df_train_x.columns, 'Importance': feature_importances})\n",
    "\n",
    "# 중요도에 따라 내림차순으로 정렬\n",
    "feature_importance_df = feature_importance_df.sort_values(by='Importance', ascending=False)\n",
    "\n",
    "# 중요도를 출력\n",
    "print(\"Feature Importance:\")\n",
    "print(feature_importance_df)\n",
    "\n",
    "# 중요도를 시각화 (옵션)\n",
    "plt.figure(figsize=(10, 10))\n",
    "plt.barh(feature_importance_df['Feature'], feature_importance_df['Importance'])\n",
    "plt.xlabel('Feature Importance')\n",
    "plt.ylabel('Feature')\n",
    "plt.title('Feature Importance for XGBRegressor')\n",
    "plt.show()\n"
   ]
  },
  {
   "cell_type": "code",
   "execution_count": null,
   "id": "3106678a",
   "metadata": {},
   "outputs": [],
   "source": []
  },
  {
   "cell_type": "code",
   "execution_count": 51,
   "id": "310f1b80",
   "metadata": {},
   "outputs": [],
   "source": [
    "# 중요한 피처 선택\n",
    "threshold = 0.007  # 임계값을 적절히 설정\n",
    "important_features = feature_importance_df[feature_importance_df['Importance'] > threshold]['Feature']\n",
    "\n",
    "# 중요한 피처만을 포함하는 데이터프레임 갱신\n",
    "df_train_x_important = df_train_x[important_features]\n",
    "df_test_x_important = df_test_x[important_features]\n"
   ]
  },
  {
   "cell_type": "code",
   "execution_count": null,
   "id": "4ae41dba",
   "metadata": {},
   "outputs": [],
   "source": []
  },
  {
   "cell_type": "code",
   "execution_count": 76,
   "id": "3c047cc8",
   "metadata": {},
   "outputs": [
    {
     "name": "stdout",
     "output_type": "stream",
     "text": [
      "Score on training set 0.957\n",
      "Score on test set 0.868\n"
     ]
    }
   ],
   "source": [
    "xgb = XGBRegressor(learning_rate= 0.2, max_depth= 4, min_child_weight= 4, n_estimators= 100,\n",
    "                          random_state=1234)\n",
    "xgb.fit(df_train_x_important, df_train_y)\n",
    "\n",
    "print(\"Score on training set {:.3f}\".format(xgb.score(df_train_x_important, df_train_y)))\n",
    "print(\"Score on test set {:.3f}\".format(xgb.score(df_test_x_important, df_test_y)))"
   ]
  },
  {
   "cell_type": "code",
   "execution_count": null,
   "id": "nhsql-Sx_qOg",
   "metadata": {
    "id": "nhsql-Sx_qOg"
   },
   "outputs": [],
   "source": []
  },
  {
   "cell_type": "markdown",
   "id": "LnL6SBbt_chr",
   "metadata": {
    "id": "LnL6SBbt_chr"
   },
   "source": [
    "- DecisionTree, RandomForest, GradientBoosting, XGBRegressor 모델 성능을 시각화 해보자!"
   ]
  },
  {
   "cell_type": "code",
   "execution_count": 24,
   "id": "9695177a",
   "metadata": {
    "id": "9695177a"
   },
   "outputs": [],
   "source": [
    "models = [\"의사결정나무\", \"랜덤포레스트\", \"그래디언트 부스팅\", \"XGBoost\"]\n",
    "\n",
    "mse, rmse, mae, mape = [],[],[],[]\n",
    "\n",
    "train_accuracy = []; test_accuracy = []"
   ]
  },
  {
   "cell_type": "code",
   "execution_count": 25,
   "id": "868f6634",
   "metadata": {
    "colab": {
     "base_uri": "https://localhost:8080/"
    },
    "executionInfo": {
     "elapsed": 469,
     "status": "ok",
     "timestamp": 1699168983034,
     "user": {
      "displayName": "서한솔",
      "userId": "02717896694975677999"
     },
     "user_tz": -540
    },
    "id": "868f6634",
    "outputId": "f02103d5-7f2f-4dcd-a16c-307376d76892"
   },
   "outputs": [
    {
     "name": "stdout",
     "output_type": "stream",
     "text": [
      "Mean Squared Error (MSE): 69083255.64290868\n",
      "Mean Absolute Error (MAE): 3392.041149783799\n",
      "Root Mean Squared Error (RMSE): 8311.633752933816\n",
      "Mean Absolute Percentage Error (MAPE): 99.538416826873\n",
      "R-squared (R2): 0.7846952761481316\n"
     ]
    }
   ],
   "source": [
    "from sklearn.metrics import confusion_matrix, classification_report\n",
    "\n",
    "dt_final = DecisionTreeRegressor(max_depth=11, min_samples_split=16,\n",
    "                                 min_samples_leaf=2, random_state=1234)\n",
    "dt_final.fit(df_train_x, df_train_y)\n",
    "\n",
    "train_accuracy.append(dt_final.score(df_train_x, df_train_y))\n",
    "test_accuracy.append(dt_final.score(df_test_x, df_test_y))\n",
    "\n",
    "dt_y_pred = dt_final.predict(df_test_x)\n",
    "\n",
    "from sklearn.metrics import mean_squared_error, mean_absolute_error\n",
    "\n",
    "# 평균 제곱 오차 (Mean Squared Error)\n",
    "mse_dt = mean_squared_error(df_test_y, dt_y_pred)\n",
    "print(\"Mean Squared Error (MSE):\", mse_dt)\n",
    "mse.append(mse_dt)\n",
    "\n",
    "# 평균 절대 오차 (Mean Absolute Error)\n",
    "mae_dt = mean_absolute_error(df_test_y, dt_y_pred)\n",
    "print(\"Mean Absolute Error (MAE):\", mae_dt)\n",
    "mae.append(mae_dt)\n",
    "\n",
    "# 제곱 평균 오차 (Root Mean Absolute Error)\n",
    "rmse_dt = mean_squared_error(df_test_y, dt_y_pred, squared=False)\n",
    "print(\"Root Mean Squared Error (RMSE):\", rmse_dt)\n",
    "rmse.append(rmse_dt)\n",
    "\n",
    "# 평균 절대 백분율 오차 (Mean Absolute Percentage Error)\n",
    "mape_dt = np.mean(np.abs((df_test_y - dt_y_pred) / df_test_y)) * 100\n",
    "print(\"Mean Absolute Percentage Error (MAPE):\", mape_dt)\n",
    "mape.append(mape_dt)\n",
    "\n",
    "# R-squared (결정 계수)\n",
    "from sklearn.metrics import r2_score\n",
    "r2 = r2_score(df_test_y, dt_y_pred)\n",
    "print(\"R-squared (R2):\", r2)"
   ]
  },
  {
   "cell_type": "code",
   "execution_count": null,
   "id": "9157ba7c",
   "metadata": {
    "id": "9157ba7c"
   },
   "outputs": [],
   "source": []
  },
  {
   "cell_type": "code",
   "execution_count": 26,
   "id": "57c841d4",
   "metadata": {
    "colab": {
     "base_uri": "https://localhost:8080/"
    },
    "executionInfo": {
     "elapsed": 8953,
     "status": "ok",
     "timestamp": 1699168997023,
     "user": {
      "displayName": "서한솔",
      "userId": "02717896694975677999"
     },
     "user_tz": -540
    },
    "id": "57c841d4",
    "outputId": "1ac088d2-2f3f-4235-a54c-36c62dc1f6f4"
   },
   "outputs": [
    {
     "name": "stdout",
     "output_type": "stream",
     "text": [
      "Mean Squared Error (MSE): 51473161.47978883\n",
      "Mean Absolute Error (MAE): 2743.208650159828\n",
      "Root Mean Squared Error (RMSE): 7174.4798752096885\n",
      "Mean Absolute Percentage Error (MAPE): 99.90754956602272\n",
      "R-squared (R2): 0.7846952761481316\n"
     ]
    }
   ],
   "source": [
    "rf_final = RandomForestRegressor(random_state=1234)\n",
    "rf_final.fit(df_train_x, df_train_y)\n",
    "\n",
    "train_accuracy.append(rf_final.score(df_train_x, df_train_y))\n",
    "test_accuracy.append(rf_final.score(df_test_x, df_test_y))\n",
    "\n",
    "rf_y_pred = rf_final.predict(df_test_x)\n",
    "\n",
    "# 평균 제곱 오차 (Mean Squared Error)\n",
    "mse_rf = mean_squared_error(df_test_y, rf_y_pred)\n",
    "print(\"Mean Squared Error (MSE):\", mse_rf)\n",
    "mse.append(mse_rf)\n",
    "\n",
    "# 평균 절대 오차 (Mean Absolute Error)\n",
    "mae_rf = mean_absolute_error(df_test_y, rf_y_pred)\n",
    "print(\"Mean Absolute Error (MAE):\", mae_rf)\n",
    "mae.append(mae_rf)\n",
    "\n",
    "# 제곱 평균 오차 (Root Mean Absolute Error)\n",
    "rmse_rf = mean_squared_error(df_test_y, rf_y_pred, squared=False)\n",
    "print(\"Root Mean Squared Error (RMSE):\", rmse_rf)\n",
    "rmse.append(rmse_rf)\n",
    "\n",
    "# 평균 절대 백분율 오차 (Mean Absolute Percentage Error)\n",
    "mape_rf = np.mean(np.abs((df_test_y - rf_y_pred) / df_test_y)) * 100\n",
    "print(\"Mean Absolute Percentage Error (MAPE):\", mape_rf)\n",
    "mape.append(mape_rf)\n",
    "\n",
    "# R-squared (결정 계수)\n",
    "from sklearn.metrics import r2_score\n",
    "r2 = r2_score(df_test_y, dt_y_pred)\n",
    "print(\"R-squared (R2):\", r2)"
   ]
  },
  {
   "cell_type": "code",
   "execution_count": null,
   "id": "hUB92fIEEKZe",
   "metadata": {
    "id": "hUB92fIEEKZe"
   },
   "outputs": [],
   "source": []
  },
  {
   "cell_type": "code",
   "execution_count": 27,
   "id": "f1MXrx-FEKd3",
   "metadata": {
    "colab": {
     "base_uri": "https://localhost:8080/"
    },
    "executionInfo": {
     "elapsed": 1322,
     "status": "ok",
     "timestamp": 1699169001621,
     "user": {
      "displayName": "서한솔",
      "userId": "02717896694975677999"
     },
     "user_tz": -540
    },
    "id": "f1MXrx-FEKd3",
    "outputId": "82bc5e73-c583-4dbb-ecb6-f95ee2a779cf"
   },
   "outputs": [
    {
     "name": "stdout",
     "output_type": "stream",
     "text": [
      "Mean Squared Error (MSE): 50696631.58745658\n",
      "Mean Absolute Error (MAE): 3055.3444170589346\n",
      "Root Mean Squared Error (RMSE): 7120.156710877688\n",
      "Mean Absolute Percentage Error (MAPE): 107.94026803484329\n",
      "R-squared (R2): 0.7846952761481316\n"
     ]
    }
   ],
   "source": [
    "gb_final = GradientBoostingRegressor(random_state=1234)\n",
    "gb_final.fit(df_train_x, df_train_y)\n",
    "\n",
    "train_accuracy.append(gb_final.score(df_train_x, df_train_y))\n",
    "test_accuracy.append(gb_final.score(df_test_x, df_test_y))\n",
    "\n",
    "gb_y_pred = gb_final.predict(df_test_x)\n",
    "\n",
    "from sklearn.metrics import mean_squared_error, mean_absolute_error\n",
    "\n",
    "# 평균 제곱 오차 (Mean Squared Error)\n",
    "mse_gb = mean_squared_error(df_test_y, gb_y_pred)\n",
    "print(\"Mean Squared Error (MSE):\", mse_gb)\n",
    "mse.append(mse_gb)\n",
    "\n",
    "# 평균 절대 오차 (Mean Absolute Error)\n",
    "mae_gb = mean_absolute_error(df_test_y, gb_y_pred)\n",
    "print(\"Mean Absolute Error (MAE):\", mae_gb)\n",
    "mae.append(mae_gb)\n",
    "\n",
    "# 제곱 평균 오차 (Root Mean Absolute Error)\n",
    "rmse_gb = mean_squared_error(df_test_y, gb_y_pred, squared=False)\n",
    "print(\"Root Mean Squared Error (RMSE):\", rmse_gb)\n",
    "rmse.append(rmse_gb)\n",
    "\n",
    "# 평균 절대 백분율 오차 (Mean Absolute Percentage Error)\n",
    "mape_gb = np.mean(np.abs((df_test_y - gb_y_pred) / df_test_y)) * 100\n",
    "print(\"Mean Absolute Percentage Error (MAPE):\", mape_gb)\n",
    "mape.append(mape_gb)\n",
    "\n",
    "# R-squared (결정 계수)\n",
    "from sklearn.metrics import r2_score\n",
    "r2 = r2_score(df_test_y, dt_y_pred)\n",
    "print(\"R-squared (R2):\", r2)"
   ]
  },
  {
   "cell_type": "code",
   "execution_count": null,
   "id": "o21p67DbEKgf",
   "metadata": {
    "id": "o21p67DbEKgf"
   },
   "outputs": [],
   "source": []
  },
  {
   "cell_type": "code",
   "execution_count": 28,
   "id": "79s4em3zEKjE",
   "metadata": {
    "colab": {
     "base_uri": "https://localhost:8080/"
    },
    "executionInfo": {
     "elapsed": 493,
     "status": "ok",
     "timestamp": 1699169004388,
     "user": {
      "displayName": "서한솔",
      "userId": "02717896694975677999"
     },
     "user_tz": -540
    },
    "id": "79s4em3zEKjE",
    "outputId": "de35ec6d-ce40-4585-d383-9669deb9aeff"
   },
   "outputs": [
    {
     "name": "stdout",
     "output_type": "stream",
     "text": [
      "Mean Squared Error (MSE): 46110682.40743784\n",
      "Mean Absolute Error (MAE): 2697.9827600246276\n",
      "Root Mean Squared Error (RMSE): 6790.48469606094\n",
      "Mean Absolute Percentage Error (MAPE): 105.25034298216349\n",
      "R-squared (R2): 0.7846952761481316\n"
     ]
    }
   ],
   "source": [
    "xgb_final = XGBRegressor(learning_rate= 0.2, max_depth= 4, min_child_weight= 5, n_estimators= 90,\n",
    "                         random_state=1234)\n",
    "xgb_final.fit(df_train_x, df_train_y)\n",
    "\n",
    "train_accuracy.append(xgb_final.score(df_train_x, df_train_y))\n",
    "test_accuracy.append(xgb_final.score(df_test_x, df_test_y))\n",
    "\n",
    "xgb_y_pred = xgb_final.predict(df_test_x)\n",
    "\n",
    "\n",
    "# 평균 제곱 오차 (Mean Squared Error)\n",
    "mse_xgb = mean_squared_error(df_test_y, xgb_y_pred)\n",
    "print(\"Mean Squared Error (MSE):\", mse_xgb)\n",
    "mse.append(mse_xgb)\n",
    "\n",
    "# 평균 절대 오차 (Mean Absolute Error)\n",
    "mae_xgb = mean_absolute_error(df_test_y, xgb_y_pred)\n",
    "print(\"Mean Absolute Error (MAE):\", mae_xgb)\n",
    "mae.append(mae_xgb)\n",
    "\n",
    "# 제곱 평균 오차 (Root Mean Absolute Error)\n",
    "rmse_xgb = mean_squared_error(df_test_y, xgb_y_pred, squared=False)\n",
    "print(\"Root Mean Squared Error (RMSE):\", rmse_xgb)\n",
    "rmse.append(rmse_xgb)\n",
    "\n",
    "# 평균 절대 백분율 오차 (Mean Absolute Percentage Error)\n",
    "mape_xgb = np.mean(np.abs((df_test_y - xgb_y_pred) / df_test_y)) * 100\n",
    "print(\"Mean Absolute Percentage Error (MAPE):\", mape_xgb)\n",
    "mape.append(mape_xgb)\n",
    "\n",
    "# R-squared (결정 계수)\n",
    "from sklearn.metrics import r2_score\n",
    "r2 = r2_score(df_test_y, dt_y_pred)\n",
    "print(\"R-squared (R2):\", r2)"
   ]
  },
  {
   "cell_type": "code",
   "execution_count": null,
   "id": "Chv1tALdEKoR",
   "metadata": {
    "id": "Chv1tALdEKoR"
   },
   "outputs": [],
   "source": []
  },
  {
   "cell_type": "code",
   "execution_count": 32,
   "id": "IoSHZ1-tPlV4",
   "metadata": {
    "colab": {
     "base_uri": "https://localhost:8080/",
     "height": 1000
    },
    "executionInfo": {
     "elapsed": 2203,
     "status": "ok",
     "timestamp": 1699169009728,
     "user": {
      "displayName": "서한솔",
      "userId": "02717896694975677999"
     },
     "user_tz": -540
    },
    "id": "IoSHZ1-tPlV4",
    "outputId": "2fe86fd5-70d3-4ff4-c9c5-e0743a61e611"
   },
   "outputs": [
    {
     "data": {
      "image/png": "[encoded data removed]",
      "text/plain": [
       "<Figure size 1300x1000 with 4 Axes>"
      ]
     },
     "metadata": {},
     "output_type": "display_data"
    }
   ],
   "source": [
    "# matplotlib.rc(\"font\", family=\"NanumGothic\")\n",
    "# matplotlib.rc(\"axes\", unicode_minus=False)\n",
    "\n",
    "fig, ax = plt.subplots(2, 2, figsize=(13, 10))\n",
    "\n",
    "# 각 모델에 대한 색상 지정\n",
    "colors = ['b', 'g', 'r', 'c', 'm', 'y', 'k']\n",
    "\n",
    "ax[0, 0].bar(models, mse, color=colors)\n",
    "ax[0, 0].set_title(\"mse\").set_fontsize(15)\n",
    "\n",
    "ax[0, 1].bar(models, rmse, color=colors)\n",
    "ax[0, 1].set_title(\"rmse\").set_fontsize(15)\n",
    "\n",
    "ax[1, 0].bar(models, mae, color=colors)\n",
    "ax[1, 0].set_title(\"mae\").set_fontsize(15)\n",
    "\n",
    "ax[1, 1].bar(models, mape, color=colors)\n",
    "ax[1, 1].set_title(\"mape\").set_fontsize(15)\n"
   ]
  },
  {
   "cell_type": "code",
   "execution_count": 33,
   "id": "B1OIPJujPlYY",
   "metadata": {
    "colab": {
     "base_uri": "https://localhost:8080/",
     "height": 1000
    },
    "executionInfo": {
     "elapsed": 1106,
     "status": "ok",
     "timestamp": 1699169020854,
     "user": {
      "displayName": "서한솔",
      "userId": "02717896694975677999"
     },
     "user_tz": -540
    },
    "id": "B1OIPJujPlYY",
    "outputId": "ad22bffe-279c-477c-be1d-193c246725f0"
   },
   "outputs": [
    {
     "data": {
      "image/png": "[encoded data removed]",
      "text/plain": [
       "<Figure size 1300x500 with 2 Axes>"
      ]
     },
     "metadata": {},
     "output_type": "display_data"
    }
   ],
   "source": [
    "fig, ax = plt.subplots(1,2, figsize=(13,5))\n",
    "\n",
    "colors = ['b', 'c', 'y', 'k']\n",
    "\n",
    "ax[0].bar(models, train_accuracy, color=colors)\n",
    "ax[0].set_title(\"train accuracy\").set_fontsize(15)\n",
    "\n",
    "ax[1].bar(models, test_accuracy, color=colors)\n",
    "ax[1].set_title(\"test_accuracy\").set_fontsize(15)"
   ]
  },
  {
   "cell_type": "markdown",
   "id": "T7s5dVUOSsbb",
   "metadata": {
    "id": "T7s5dVUOSsbb"
   },
   "source": [
    "## 결론\n",
    "- train 성능은 RandomForest 모델이 가장 좋았다.\n",
    "- 다만 Train 성능이 높을수록 좋지만 너무 높으면 과적합될 확률이 높다\n",
    "- 두 번쨰로 높은 건 XGBoost이다.\n",
    "- test 성능은 xgboost가 가장 좋았다.\n",
    "- 결론적으로 train 성능은 과적합을 피하고 test 성능은 가장 좋아서 이상적인 모델이라고 할 수 있다"
   ]
  },
  {
   "cell_type": "code",
   "execution_count": null,
   "id": "oz_q18q4EKq4",
   "metadata": {
    "id": "oz_q18q4EKq4"
   },
   "outputs": [],
   "source": []
  },
  {
   "cell_type": "code",
   "execution_count": null,
   "id": "Vlq2rD8dXc8z",
   "metadata": {
    "id": "Vlq2rD8dXc8z"
   },
   "outputs": [],
   "source": []
  },
  {
   "cell_type": "code",
   "execution_count": null,
   "id": "71bSlsWuXc_H",
   "metadata": {
    "id": "71bSlsWuXc_H"
   },
   "outputs": [],
   "source": []
  },
  {
   "cell_type": "code",
   "execution_count": null,
   "id": "R-JTfxW4XdBc",
   "metadata": {
    "id": "R-JTfxW4XdBc"
   },
   "outputs": [],
   "source": []
  },
  {
   "cell_type": "code",
   "execution_count": null,
   "id": "IeuWATmcXdEE",
   "metadata": {
    "id": "IeuWATmcXdEE"
   },
   "outputs": [],
   "source": []
  },
  {
   "cell_type": "code",
   "execution_count": null,
   "id": "NMD9uiLlXdG6",
   "metadata": {
    "id": "NMD9uiLlXdG6"
   },
   "outputs": [],
   "source": []
  },
  {
   "cell_type": "code",
   "execution_count": null,
   "id": "tLhDY6hCXdJR",
   "metadata": {
    "id": "tLhDY6hCXdJR"
   },
   "outputs": [],
   "source": []
  },
  {
   "cell_type": "code",
   "execution_count": null,
   "id": "eNsG_EijXdLn",
   "metadata": {
    "id": "eNsG_EijXdLn"
   },
   "outputs": [],
   "source": []
  },
  {
   "cell_type": "code",
   "execution_count": null,
   "id": "Wtw_c4KgXdON",
   "metadata": {
    "id": "Wtw_c4KgXdON"
   },
   "outputs": [],
   "source": []
  },
  {
   "cell_type": "code",
   "execution_count": null,
   "id": "d123cfe5",
   "metadata": {
    "id": "d123cfe5",
    "outputId": "d4483b46-84ed-423a-f877-5e3dfafb5af9"
   },
   "outputs": [
    {
     "name": "stdout",
     "output_type": "stream",
     "text": [
      "best estimator model: \n",
      "DecisionTreeRegressor(max_depth=11, min_samples_leaf=2, min_samples_split=16,\n",
      "                      random_state=1234)\n",
      "\n",
      "best parameter: \n",
      "{'max_depth': 11, 'min_samples_leaf': 2, 'min_samples_split': 16}\n",
      "\n",
      "best score: \n",
      "0.829\n"
     ]
    }
   ],
   "source": [
    "# estimator = DecisionTreeRegressor(random_state=1234)\n",
    "\n",
    "# param_grid = {\"min_samples_split\": para_split, \"max_depth\": para_depth,\n",
    "#              \"min_samples_leaf\": para_leaf}\n",
    "# grid_dt = GridSearchCV(estimator, param_grid, scoring=\"r2\", n_jobs=-1)\n",
    "# grid_dt.fit(df_train_x, df_train_y)\n",
    "\n",
    "# print(\"best estimator model: \\n{}\".format(grid_dt.best_estimator_))\n",
    "# print(\"\\nbest parameter: \\n{}\".format(grid_dt.best_params_))\n",
    "# print(\"\\nbest score: \\n{}\".format(grid_dt.best_score_.round(3)))"
   ]
  },
  {
   "cell_type": "code",
   "execution_count": null,
   "id": "16ac28e2",
   "metadata": {
    "id": "16ac28e2"
   },
   "outputs": [],
   "source": []
  },
  {
   "cell_type": "code",
   "execution_count": null,
   "id": "2ebdcdd1",
   "metadata": {
    "id": "2ebdcdd1"
   },
   "outputs": [],
   "source": []
  },
  {
   "cell_type": "code",
   "execution_count": null,
   "id": "e7eca56b",
   "metadata": {
    "id": "e7eca56b"
   },
   "outputs": [],
   "source": []
  },
  {
   "cell_type": "code",
   "execution_count": null,
   "id": "a5c18fd0",
   "metadata": {
    "id": "a5c18fd0"
   },
   "outputs": [],
   "source": []
  },
  {
   "cell_type": "code",
   "execution_count": null,
   "id": "8559b07a",
   "metadata": {
    "id": "8559b07a"
   },
   "outputs": [],
   "source": [
    "# DecisionTree\n",
    "# {'max_depth': 11, 'min_samples_leaf': 2, 'min_samples_split': 16}\n",
    "\n",
    "# xgboost\n",
    "# {'learning_rate': 0.2, 'max_depth': 4, 'min_child_weight': 5, 'n_estimators': 90}"
   ]
  },
  {
   "cell_type": "code",
   "execution_count": null,
   "id": "36202aca",
   "metadata": {
    "id": "36202aca"
   },
   "outputs": [],
   "source": []
  },
  {
   "cell_type": "code",
   "execution_count": null,
   "id": "870e52ed",
   "metadata": {
    "id": "870e52ed"
   },
   "outputs": [],
   "source": [
    "dt_final = DecisionTreeRegressor(max_depth= 11, min_samples_leaf= 2, min_samples_split= 16, random_state=1234)\n",
    "dt_final.fit(df_train_x, df_train_y)\n",
    "\n",
    "train_accuracy.append(dt_final.score(df_train_x, df_train_y))\n",
    "test_accuracy.append(df_final.score(df_test_x, df_test_y))"
   ]
  },
  {
   "cell_type": "code",
   "execution_count": null,
   "id": "6fb37239",
   "metadata": {
    "id": "6fb37239"
   },
   "outputs": [],
   "source": []
  },
  {
   "cell_type": "code",
   "execution_count": null,
   "id": "38dc78e2",
   "metadata": {
    "id": "38dc78e2"
   },
   "outputs": [],
   "source": []
  },
  {
   "cell_type": "code",
   "execution_count": null,
   "id": "cd6847ba",
   "metadata": {
    "id": "cd6847ba"
   },
   "outputs": [],
   "source": []
  },
  {
   "cell_type": "code",
   "execution_count": null,
   "id": "1a11bf0d",
   "metadata": {
    "id": "1a11bf0d"
   },
   "outputs": [],
   "source": []
  },
  {
   "cell_type": "code",
   "execution_count": null,
   "id": "bee4bc98",
   "metadata": {
    "id": "bee4bc98"
   },
   "outputs": [],
   "source": []
  },
  {
   "cell_type": "code",
   "execution_count": null,
   "id": "96bd2051",
   "metadata": {
    "id": "96bd2051"
   },
   "outputs": [],
   "source": []
  },
  {
   "cell_type": "code",
   "execution_count": null,
   "id": "fce8bf30",
   "metadata": {
    "id": "fce8bf30"
   },
   "outputs": [],
   "source": []
  },
  {
   "cell_type": "code",
   "execution_count": null,
   "id": "f6a90dca",
   "metadata": {
    "id": "f6a90dca"
   },
   "outputs": [],
   "source": []
  }
 ],
 "metadata": {
  "colab": {
   "provenance": []
  },
  "kernelspec": {
   "display_name": "Python 3 (ipykernel)",
   "language": "python",
   "name": "python3"
  },
  "language_info": {
   "codemirror_mode": {
    "name": "ipython",
    "version": 3
   },
   "file_extension": ".py",
   "mimetype": "text/x-python",
   "name": "python",
   "nbconvert_exporter": "python",
   "pygments_lexer": "ipython3",
   "version": "3.10.9"
  }
 },
 "nbformat": 4,
 "nbformat_minor": 5
}
